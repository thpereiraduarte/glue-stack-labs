{
 "cells": [
  {
   "cell_type": "markdown",
   "metadata": {},
   "source": [
    "## StackLabs - Health Cross Sell"
   ]
  },
  {
   "cell_type": "markdown",
   "metadata": {},
   "source": [
    "### Machine Learning."
   ]
  },
  {
   "cell_type": "code",
   "execution_count": 1,
   "metadata": {},
   "outputs": [],
   "source": [
    "import pandas as pd\n",
    "import numpy as np\n",
    "import seaborn as sns\n",
    "import glob\n",
    "import random\n",
    "import pickle\n",
    "from minio                   import Minio\n",
    "from sklearn.linear_model    import LogisticRegression\n",
    "from sklearn.metrics         import precision_score,recall_score,accuracy_score,f1_score,confusion_matrix,roc_auc_score,classification_report\n",
    "from sklearn.ensemble        import RandomForestClassifier,RandomForestRegressor,GradientBoostingClassifier\n",
    "from sklearn.model_selection import train_test_split,cross_val_predict\n",
    "from sklearn.preprocessing   import MinMaxScaler,StandardScaler,RobustScaler\n",
    "from sklearn.model_selection import GridSearchCV\n",
    "from imblearn.over_sampling import SMOTE\n",
    "from sklearn                 import metrics\n",
    "from xgboost                 import XGBClassifier\n",
    "import warnings\n",
    "warnings.filterwarnings(\"ignore\")"
   ]
  },
  {
   "cell_type": "code",
   "execution_count": 2,
   "metadata": {},
   "outputs": [],
   "source": [
    "data=pd.read_csv('health.csv')"
   ]
  },
  {
   "cell_type": "code",
   "execution_count": null,
   "metadata": {},
   "outputs": [],
   "source": []
  },
  {
   "cell_type": "code",
   "execution_count": 1,
   "metadata": {
    "ExecuteTime": {
     "end_time": "2022-04-07T02:45:53.545526Z",
     "start_time": "2022-04-07T02:44:54.260941Z"
    }
   },
   "outputs": [
    {
     "data": {
      "text/plain": [
       "'1.5.0'"
      ]
     },
     "execution_count": 1,
     "metadata": {},
     "output_type": "execute_result"
    }
   ],
   "source": [
    "import xgboost as xgb\n",
    "\n",
    "xgb.__version__"
   ]
  },
  {
   "cell_type": "markdown",
   "metadata": {},
   "source": [
    "#### Funções"
   ]
  },
  {
   "cell_type": "code",
   "execution_count": 3,
   "metadata": {},
   "outputs": [],
   "source": [
    "def base_rate_model(X) :\n",
    "    y = np.zeros(X.shape[0])\n",
    "    return y"
   ]
  },
  {
   "cell_type": "code",
   "execution_count": 4,
   "metadata": {
    "scrolled": false
   },
   "outputs": [
    {
     "data": {
      "text/html": [
       "<div>\n",
       "<style scoped>\n",
       "    .dataframe tbody tr th:only-of-type {\n",
       "        vertical-align: middle;\n",
       "    }\n",
       "\n",
       "    .dataframe tbody tr th {\n",
       "        vertical-align: top;\n",
       "    }\n",
       "\n",
       "    .dataframe thead th {\n",
       "        text-align: right;\n",
       "    }\n",
       "</style>\n",
       "<table border=\"1\" class=\"dataframe\">\n",
       "  <thead>\n",
       "    <tr style=\"text-align: right;\">\n",
       "      <th></th>\n",
       "      <th>V_age</th>\n",
       "      <th>Damage</th>\n",
       "      <th>Region</th>\n",
       "      <th>Channel</th>\n",
       "      <th>License</th>\n",
       "      <th>Insured</th>\n",
       "      <th>Age</th>\n",
       "      <th>Vintage</th>\n",
       "      <th>Rate</th>\n",
       "      <th>Response</th>\n",
       "      <th>Gender_Female</th>\n",
       "      <th>Gender_Male</th>\n",
       "    </tr>\n",
       "  </thead>\n",
       "  <tbody>\n",
       "    <tr>\n",
       "      <th>0</th>\n",
       "      <td>2</td>\n",
       "      <td>1</td>\n",
       "      <td>0.279</td>\n",
       "      <td>0.209</td>\n",
       "      <td>1</td>\n",
       "      <td>0</td>\n",
       "      <td>0.517647</td>\n",
       "      <td>217</td>\n",
       "      <td>40454.0</td>\n",
       "      <td>1</td>\n",
       "      <td>0</td>\n",
       "      <td>1</td>\n",
       "    </tr>\n",
       "    <tr>\n",
       "      <th>1</th>\n",
       "      <td>1</td>\n",
       "      <td>0</td>\n",
       "      <td>0.024</td>\n",
       "      <td>0.209</td>\n",
       "      <td>1</td>\n",
       "      <td>0</td>\n",
       "      <td>0.894118</td>\n",
       "      <td>183</td>\n",
       "      <td>33536.0</td>\n",
       "      <td>0</td>\n",
       "      <td>0</td>\n",
       "      <td>1</td>\n",
       "    </tr>\n",
       "    <tr>\n",
       "      <th>2</th>\n",
       "      <td>2</td>\n",
       "      <td>1</td>\n",
       "      <td>0.279</td>\n",
       "      <td>0.209</td>\n",
       "      <td>1</td>\n",
       "      <td>0</td>\n",
       "      <td>0.552941</td>\n",
       "      <td>27</td>\n",
       "      <td>38294.0</td>\n",
       "      <td>1</td>\n",
       "      <td>0</td>\n",
       "      <td>1</td>\n",
       "    </tr>\n",
       "    <tr>\n",
       "      <th>3</th>\n",
       "      <td>0</td>\n",
       "      <td>0</td>\n",
       "      <td>0.024</td>\n",
       "      <td>0.354</td>\n",
       "      <td>1</td>\n",
       "      <td>1</td>\n",
       "      <td>0.247059</td>\n",
       "      <td>203</td>\n",
       "      <td>28619.0</td>\n",
       "      <td>0</td>\n",
       "      <td>0</td>\n",
       "      <td>1</td>\n",
       "    </tr>\n",
       "    <tr>\n",
       "      <th>4</th>\n",
       "      <td>0</td>\n",
       "      <td>0</td>\n",
       "      <td>0.048</td>\n",
       "      <td>0.354</td>\n",
       "      <td>1</td>\n",
       "      <td>1</td>\n",
       "      <td>0.341176</td>\n",
       "      <td>39</td>\n",
       "      <td>27496.0</td>\n",
       "      <td>0</td>\n",
       "      <td>1</td>\n",
       "      <td>0</td>\n",
       "    </tr>\n",
       "  </tbody>\n",
       "</table>\n",
       "</div>"
      ],
      "text/plain": [
       "   V_age  Damage  Region  Channel  License  Insured       Age  Vintage  \\\n",
       "0      2       1   0.279    0.209        1        0  0.517647      217   \n",
       "1      1       0   0.024    0.209        1        0  0.894118      183   \n",
       "2      2       1   0.279    0.209        1        0  0.552941       27   \n",
       "3      0       0   0.024    0.354        1        1  0.247059      203   \n",
       "4      0       0   0.048    0.354        1        1  0.341176       39   \n",
       "\n",
       "      Rate  Response  Gender_Female  Gender_Male  \n",
       "0  40454.0         1              0            1  \n",
       "1  33536.0         0              0            1  \n",
       "2  38294.0         1              0            1  \n",
       "3  28619.0         0              0            1  \n",
       "4  27496.0         0              1            0  "
      ]
     },
     "execution_count": 4,
     "metadata": {},
     "output_type": "execute_result"
    }
   ],
   "source": [
    "data.head()"
   ]
  },
  {
   "cell_type": "markdown",
   "metadata": {},
   "source": [
    "#### Separando os conjuntos de dados."
   ]
  },
  {
   "cell_type": "code",
   "execution_count": 5,
   "metadata": {},
   "outputs": [],
   "source": [
    "target_name = 'Response'\n",
    "X = data.drop('Response', axis=1)\n",
    "y = data[target_name]"
   ]
  },
  {
   "cell_type": "code",
   "execution_count": 6,
   "metadata": {},
   "outputs": [],
   "source": [
    "# Normalizando os dados\n",
    "num_feat = ['Age','Rate']\n",
    "mm_scaler = MinMaxScaler()\n",
    "X[num_feat] = mm_scaler.fit_transform(X[num_feat])"
   ]
  },
  {
   "cell_type": "markdown",
   "metadata": {},
   "source": [
    "#### Tratando classe desbalanceada"
   ]
  },
  {
   "cell_type": "code",
   "execution_count": 7,
   "metadata": {},
   "outputs": [],
   "source": [
    "smt = SMOTE()"
   ]
  },
  {
   "cell_type": "code",
   "execution_count": 8,
   "metadata": {},
   "outputs": [],
   "source": [
    "X, y = smt.fit_resample(X, y)"
   ]
  },
  {
   "cell_type": "code",
   "execution_count": 9,
   "metadata": {},
   "outputs": [
    {
     "data": {
      "text/plain": [
       "array([334399, 334399])"
      ]
     },
     "execution_count": 9,
     "metadata": {},
     "output_type": "execute_result"
    }
   ],
   "source": [
    "np.bincount(y)"
   ]
  },
  {
   "cell_type": "code",
   "execution_count": 10,
   "metadata": {},
   "outputs": [
    {
     "data": {
      "image/png": "[encoded data removed]",
      "text/plain": [
       "<Figure size 432x288 with 1 Axes>"
      ]
     },
     "metadata": {
      "needs_background": "light"
     },
     "output_type": "display_data"
    }
   ],
   "source": [
    "ax=sns.countplot(x=y)"
   ]
  },
  {
   "cell_type": "code",
   "execution_count": 11,
   "metadata": {},
   "outputs": [
    {
     "data": {
      "text/plain": [
       "((535038, 11), (535038,), (133760, 11), (133760,))"
      ]
     },
     "execution_count": 11,
     "metadata": {},
     "output_type": "execute_result"
    }
   ],
   "source": [
    "X_train, X_test,y_train,y_test = train_test_split(X,y,test_size = 0.2 ,random_state = 123,stratify = y)\n",
    "X_train.shape, y_train.shape, X_test.shape, y_test.shape"
   ]
  },
  {
   "cell_type": "markdown",
   "metadata": {},
   "source": [
    "#### Análise do modelo de baseline"
   ]
  },
  {
   "cell_type": "code",
   "execution_count": 12,
   "metadata": {},
   "outputs": [],
   "source": [
    "y_pred = base_rate_model(X_test)"
   ]
  },
  {
   "cell_type": "code",
   "execution_count": 13,
   "metadata": {},
   "outputs": [
    {
     "name": "stdout",
     "output_type": "stream",
     "text": [
      "              precision    recall  f1-score   support\n",
      "\n",
      "           0       0.50      1.00      0.67     66880\n",
      "           1       0.00      0.00      0.00     66880\n",
      "\n",
      "    accuracy                           0.50    133760\n",
      "   macro avg       0.25      0.50      0.33    133760\n",
      "weighted avg       0.25      0.50      0.33    133760\n",
      " AUC: 0.5\n"
     ]
    }
   ],
   "source": [
    "print(metrics.classification_report(y_test,y_pred),'AUC:', roc_auc_score(y_test, y_pred))"
   ]
  },
  {
   "cell_type": "markdown",
   "metadata": {},
   "source": [
    "### Modelo de Regressão Logística."
   ]
  },
  {
   "cell_type": "code",
   "execution_count": 14,
   "metadata": {},
   "outputs": [],
   "source": [
    "# Definindo Modelo\n",
    "lr = LogisticRegression()\n",
    "\n",
    "#Treinando modelo\n",
    "lr.fit(X_train, y_train)\n",
    "\n",
    "#Predição do modelo\n",
    "y_pred = lr.predict(X_test)\n",
    "lr_probability =lr.predict_proba(X_test)[:,1]\n",
    "\n",
    "#Metricas\n",
    "AUC_lr=roc_auc_score(y_pred,y_test)\n",
    "acc_lr=accuracy_score(y_test,y_pred)\n",
    "recall_lr=recall_score(y_test,y_pred)\n",
    "precision_lr=precision_score(y_test,y_pred)\n",
    "f1score_lr=f1_score(y_test,y_pred)"
   ]
  },
  {
   "cell_type": "markdown",
   "metadata": {},
   "source": [
    "#### Avaliando o resultado."
   ]
  },
  {
   "cell_type": "code",
   "execution_count": 15,
   "metadata": {},
   "outputs": [
    {
     "name": "stdout",
     "output_type": "stream",
     "text": [
      "Predito      0      1     All\n",
      "Real                         \n",
      "0        39530  27350   66880\n",
      "1         1466  65414   66880\n",
      "All      40996  92764  133760\n"
     ]
    }
   ],
   "source": [
    "print (pd.crosstab(y_test, y_pred, rownames=['Real'], colnames=['Predito'], margins=True))"
   ]
  },
  {
   "cell_type": "code",
   "execution_count": 16,
   "metadata": {},
   "outputs": [
    {
     "name": "stdout",
     "output_type": "stream",
     "text": [
      "              precision    recall  f1-score   support\n",
      "\n",
      "           0       0.96      0.59      0.73     66880\n",
      "           1       0.71      0.98      0.82     66880\n",
      "\n",
      "    accuracy                           0.78    133760\n",
      "   macro avg       0.83      0.78      0.78    133760\n",
      "weighted avg       0.83      0.78      0.78    133760\n",
      " AUC: 0.7845693779904306\n"
     ]
    }
   ],
   "source": [
    "print(metrics.classification_report(y_test,y_pred),'AUC:', roc_auc_score(y_test, y_pred))"
   ]
  },
  {
   "cell_type": "markdown",
   "metadata": {},
   "source": [
    "### Modelo de Arvore Aleatória (Random Forest)"
   ]
  },
  {
   "cell_type": "code",
   "execution_count": 18,
   "metadata": {},
   "outputs": [],
   "source": [
    "# definido modelo\n",
    "rf = RandomForestClassifier()\n",
    "\n",
    "#Treinando modelo\n",
    "rf = rf.fit(X_train,y_train)\n",
    "\n",
    "#predição do modelo\n",
    "y_pred = rf.predict(X_test)\n",
    "\n",
    "rf_probability =rf.predict_proba(X_test)[:,1]\n",
    "\n",
    "#Metricas\n",
    "AUC_rf=roc_auc_score(y_pred,y_test)\n",
    "acc_rf=accuracy_score(y_test,y_pred)\n",
    "recall_rf=recall_score(y_test,y_pred)\n",
    "precision_rf=precision_score(y_test,y_pred)\n",
    "f1score_rf=f1_score(y_test,y_pred)"
   ]
  },
  {
   "cell_type": "markdown",
   "metadata": {},
   "source": [
    "#### Avaliando o resultado."
   ]
  },
  {
   "cell_type": "code",
   "execution_count": 19,
   "metadata": {},
   "outputs": [
    {
     "name": "stdout",
     "output_type": "stream",
     "text": [
      "Predito      0      1     All\n",
      "Real                         \n",
      "0        60786   6094   66880\n",
      "1         6145  60735   66880\n",
      "All      66931  66829  133760\n"
     ]
    }
   ],
   "source": [
    "print (pd.crosstab(y_test, y_pred, rownames=['Real'], colnames=['Predito'], margins=True))"
   ]
  },
  {
   "cell_type": "code",
   "execution_count": 20,
   "metadata": {},
   "outputs": [
    {
     "name": "stdout",
     "output_type": "stream",
     "text": [
      "              precision    recall  f1-score   support\n",
      "\n",
      "           0       0.91      0.91      0.91     66880\n",
      "           1       0.91      0.91      0.91     66880\n",
      "\n",
      "    accuracy                           0.91    133760\n",
      "   macro avg       0.91      0.91      0.91    133760\n",
      "weighted avg       0.91      0.91      0.91    133760\n",
      " AUC: 0.9085002990430622\n"
     ]
    }
   ],
   "source": [
    "print(metrics.classification_report(y_test,y_pred),'AUC:', roc_auc_score(y_test, y_pred))"
   ]
  },
  {
   "cell_type": "markdown",
   "metadata": {},
   "source": [
    "### Modelo Extreme Gradient Boosting (XGBoost)"
   ]
  },
  {
   "cell_type": "code",
   "execution_count": 21,
   "metadata": {},
   "outputs": [
    {
     "name": "stdout",
     "output_type": "stream",
     "text": [
      "[00:34:27] WARNING: ../src/learner.cc:1115: Starting in XGBoost 1.3.0, the default evaluation metric used with the objective 'binary:logistic' was changed from 'error' to 'logloss'. Explicitly set eval_metric if you'd like to restore the old behavior.\n"
     ]
    }
   ],
   "source": [
    "# Definindo Modelo\n",
    "xgb=XGBClassifier()\n",
    "\n",
    "#Treinando modelo\n",
    "xgb=xgb.fit(X_train, y_train)\n",
    "\n",
    "#Predição do Modelo\n",
    "y_pred = xgb.predict(X_test)\n",
    "\n",
    "xgb_probability =xgb.predict_proba(X_test)[:,1]\n",
    "\n",
    "#Metricas\n",
    "AUC_xgb=roc_auc_score(y_pred,y_test)\n",
    "acc_xgb=accuracy_score(y_test,y_pred)\n",
    "recall_xgb=recall_score(y_test,y_pred)\n",
    "precision_xgb=precision_score(y_test,y_pred)\n",
    "f1score_xgb=f1_score(y_test,y_pred)"
   ]
  },
  {
   "cell_type": "markdown",
   "metadata": {},
   "source": [
    "#### Avaliando o resultado."
   ]
  },
  {
   "cell_type": "code",
   "execution_count": 22,
   "metadata": {},
   "outputs": [
    {
     "name": "stdout",
     "output_type": "stream",
     "text": [
      "Predito      0      1     All\n",
      "Real                         \n",
      "0        64532   2348   66880\n",
      "1         8358  58522   66880\n",
      "All      72890  60870  133760\n"
     ]
    }
   ],
   "source": [
    "print (pd.crosstab(y_test, y_pred, rownames=['Real'], colnames=['Predito'], margins=True))"
   ]
  },
  {
   "cell_type": "code",
   "execution_count": 23,
   "metadata": {},
   "outputs": [
    {
     "name": "stdout",
     "output_type": "stream",
     "text": [
      "              precision    recall  f1-score   support\n",
      "\n",
      "           0       0.89      0.96      0.92     66880\n",
      "           1       0.96      0.88      0.92     66880\n",
      "\n",
      "    accuracy                           0.92    133760\n",
      "   macro avg       0.92      0.92      0.92    133760\n",
      "weighted avg       0.92      0.92      0.92    133760\n",
      " AUC: 0.9199611244019138\n"
     ]
    }
   ],
   "source": [
    "print(metrics.classification_report(y_test,y_pred),'AUC:', roc_auc_score(y_test, y_pred))"
   ]
  },
  {
   "cell_type": "markdown",
   "metadata": {},
   "source": [
    "### Modelo Gradient Boosting (GBoost)"
   ]
  },
  {
   "cell_type": "code",
   "execution_count": 24,
   "metadata": {},
   "outputs": [],
   "source": [
    "#Definindo Modelo\n",
    "gb= GradientBoostingClassifier()\n",
    "\n",
    "#Treinando Modelo\n",
    "gb=gb.fit(X_train, y_train)\n",
    "\n",
    "#Predição do Modelo\n",
    "y_pred = gb.predict(X_test)\n",
    "gb_probability =gb.predict_proba(X_test)[:,1]\n",
    "\n",
    "#Metricas\n",
    "AUC_gb=roc_auc_score(y_pred,y_test)\n",
    "acc_gb=accuracy_score(y_test,y_pred)\n",
    "recall_gb=recall_score(y_test,y_pred)\n",
    "precision_gb=precision_score(y_test,y_pred)\n",
    "f1score_gb=f1_score(y_test,y_pred)"
   ]
  },
  {
   "cell_type": "markdown",
   "metadata": {},
   "source": [
    "#### Avaliando o resultado."
   ]
  },
  {
   "cell_type": "code",
   "execution_count": 25,
   "metadata": {
    "scrolled": true
   },
   "outputs": [
    {
     "name": "stdout",
     "output_type": "stream",
     "text": [
      "Predito      0      1     All\n",
      "Real                         \n",
      "0        52212  14668   66880\n",
      "1         4251  62629   66880\n",
      "All      56463  77297  133760\n"
     ]
    }
   ],
   "source": [
    "print (pd.crosstab(y_test, y_pred, rownames=['Real'], colnames=['Predito'], margins=True))"
   ]
  },
  {
   "cell_type": "code",
   "execution_count": 26,
   "metadata": {},
   "outputs": [
    {
     "name": "stdout",
     "output_type": "stream",
     "text": [
      "              precision    recall  f1-score   support\n",
      "\n",
      "           0       0.92      0.78      0.85     66880\n",
      "           1       0.81      0.94      0.87     66880\n",
      "\n",
      "    accuracy                           0.86    133760\n",
      "   macro avg       0.87      0.86      0.86    133760\n",
      "weighted avg       0.87      0.86      0.86    133760\n",
      " AUC: 0.8585601076555024\n"
     ]
    }
   ],
   "source": [
    "print(metrics.classification_report(y_test,y_pred),'AUC:', roc_auc_score(y_test, y_pred))"
   ]
  },
  {
   "cell_type": "markdown",
   "metadata": {},
   "source": [
    "#### Comparando o resultado dos Modelos."
   ]
  },
  {
   "cell_type": "code",
   "execution_count": 27,
   "metadata": {
    "scrolled": true
   },
   "outputs": [
    {
     "data": {
      "text/html": [
       "<div>\n",
       "<style scoped>\n",
       "    .dataframe tbody tr th:only-of-type {\n",
       "        vertical-align: middle;\n",
       "    }\n",
       "\n",
       "    .dataframe tbody tr th {\n",
       "        vertical-align: top;\n",
       "    }\n",
       "\n",
       "    .dataframe thead th {\n",
       "        text-align: right;\n",
       "    }\n",
       "</style>\n",
       "<table border=\"1\" class=\"dataframe\">\n",
       "  <thead>\n",
       "    <tr style=\"text-align: right;\">\n",
       "      <th></th>\n",
       "      <th>Accuracy</th>\n",
       "      <th>Recall</th>\n",
       "      <th>Precision</th>\n",
       "      <th>f1_score</th>\n",
       "      <th>ROC_AUC</th>\n",
       "    </tr>\n",
       "  </thead>\n",
       "  <tbody>\n",
       "    <tr>\n",
       "      <th>Logistic regression</th>\n",
       "      <td>0.784569</td>\n",
       "      <td>0.978080</td>\n",
       "      <td>0.705166</td>\n",
       "      <td>0.819498</td>\n",
       "      <td>0.834703</td>\n",
       "    </tr>\n",
       "    <tr>\n",
       "      <th>Randomforest</th>\n",
       "      <td>0.908500</td>\n",
       "      <td>0.908119</td>\n",
       "      <td>0.908812</td>\n",
       "      <td>0.908465</td>\n",
       "      <td>0.908501</td>\n",
       "    </tr>\n",
       "    <tr>\n",
       "      <th>XGBClassifier</th>\n",
       "      <td>0.919961</td>\n",
       "      <td>0.875030</td>\n",
       "      <td>0.961426</td>\n",
       "      <td>0.916196</td>\n",
       "      <td>0.923380</td>\n",
       "    </tr>\n",
       "    <tr>\n",
       "      <th>GBoost</th>\n",
       "      <td>0.858560</td>\n",
       "      <td>0.936438</td>\n",
       "      <td>0.810238</td>\n",
       "      <td>0.868779</td>\n",
       "      <td>0.867475</td>\n",
       "    </tr>\n",
       "  </tbody>\n",
       "</table>\n",
       "</div>"
      ],
      "text/plain": [
       "                     Accuracy    Recall  Precision  f1_score   ROC_AUC\n",
       "Logistic regression  0.784569  0.978080   0.705166  0.819498  0.834703\n",
       "Randomforest         0.908500  0.908119   0.908812  0.908465  0.908501\n",
       "XGBClassifier        0.919961  0.875030   0.961426  0.916196  0.923380\n",
       "GBoost               0.858560  0.936438   0.810238  0.868779  0.867475"
      ]
     },
     "execution_count": 27,
     "metadata": {},
     "output_type": "execute_result"
    }
   ],
   "source": [
    "ind=['Logistic regression','Randomforest','XGBClassifier','GBoost']\n",
    "\n",
    "data={\"Accuracy\":[acc_lr,acc_rf,acc_xgb,acc_gb],\n",
    "      \"Recall\":[recall_lr,recall_rf,recall_xgb,recall_gb],\n",
    "      \"Precision\":[precision_lr,precision_rf,precision_xgb,precision_gb],\n",
    "      \"f1_score\":[f1score_lr,f1score_rf,f1score_xgb,f1score_gb],\n",
    "      \"ROC_AUC\":[AUC_lr,AUC_rf,AUC_xgb,AUC_gb]}\n",
    "\n",
    "result=pd.DataFrame(data=data,index=ind)\n",
    "result"
   ]
  },
  {
   "cell_type": "markdown",
   "metadata": {},
   "source": [
    "#### Salvando Modelo"
   ]
  },
  {
   "cell_type": "code",
   "execution_count": 30,
   "metadata": {},
   "outputs": [],
   "source": [
    "pickle.dump(rf,open('model.pkl','wb'))"
   ]
  },
  {
   "cell_type": "code",
   "execution_count": null,
   "metadata": {},
   "outputs": [],
   "source": []
  }
 ],
 "metadata": {
  "kernelspec": {
   "display_name": "Python 3",
   "language": "python",
   "name": "python3"
  },
  "language_info": {
   "codemirror_mode": {
    "name": "ipython",
    "version": 3
   },
   "file_extension": ".py",
   "mimetype": "text/x-python",
   "name": "python",
   "nbconvert_exporter": "python",
   "pygments_lexer": "ipython3",
   "version": "3.8.5"
  },
  "varInspector": {
   "cols": {
    "lenName": 16,
    "lenType": 16,
    "lenVar": 40
   },
   "kernels_config": {
    "python": {
     "delete_cmd_postfix": "",
     "delete_cmd_prefix": "del ",
     "library": "var_list.py",
     "varRefreshCmd": "print(var_dic_list())"
    },
    "r": {
     "delete_cmd_postfix": ") ",
     "delete_cmd_prefix": "rm(",
     "library": "var_list.r",
     "varRefreshCmd": "cat(var_dic_list()) "
    }
   },
   "types_to_exclude": [
    "module",
    "function",
    "builtin_function_or_method",
    "instance",
    "_Feature"
   ],
   "window_display": false
  }
 },
 "nbformat": 4,
 "nbformat_minor": 5
}
