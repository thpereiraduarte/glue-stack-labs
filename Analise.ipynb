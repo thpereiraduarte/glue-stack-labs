{
 "cells": [
  {
   "cell_type": "markdown",
   "id": "a7a7b0ed",
   "metadata": {},
   "source": [
    "## StackLabs - Health Cross Sell"
   ]
  },
  {
   "cell_type": "markdown",
   "id": "8e2d0184",
   "metadata": {},
   "source": [
    "### Análise Exploratória de Dados"
   ]
  },
  {
   "cell_type": "code",
   "execution_count": 2,
   "id": "ec2bf157",
   "metadata": {},
   "outputs": [],
   "source": [
    "import pandas as pd\n",
    "import datetime\n",
    "import glob\n",
    "import numpy as np\n",
    "import sidetable as stb\n",
    "from minio import Minio\n",
    "import seaborn as sns\n",
    "import warnings\n",
    "import sweetviz as sv\n",
    "warnings.filterwarnings(\"ignore\")\n",
    "import matplotlib.pyplot as plt"
   ]
  },
  {
   "cell_type": "code",
   "execution_count": 3,
   "id": "eb8cf076",
   "metadata": {},
   "outputs": [],
   "source": [
    "# Função para converter o tipo de dado para categórico\n",
    "def conv_cat(df,cols):\n",
    "    df[cols]=df[cols].astype('category')"
   ]
  },
  {
   "cell_type": "code",
   "execution_count": 5,
   "id": "c049e6a5",
   "metadata": {
    "scrolled": true
   },
   "outputs": [
    {
     "data": {
      "text/html": [
       "<div>\n",
       "<style scoped>\n",
       "    .dataframe tbody tr th:only-of-type {\n",
       "        vertical-align: middle;\n",
       "    }\n",
       "\n",
       "    .dataframe tbody tr th {\n",
       "        vertical-align: top;\n",
       "    }\n",
       "\n",
       "    .dataframe thead th {\n",
       "        text-align: right;\n",
       "    }\n",
       "</style>\n",
       "<table border=\"1\" class=\"dataframe\">\n",
       "  <thead>\n",
       "    <tr style=\"text-align: right;\">\n",
       "      <th></th>\n",
       "      <th>id</th>\n",
       "      <th>Gender</th>\n",
       "      <th>Age</th>\n",
       "      <th>Driving_License</th>\n",
       "      <th>Region_Code</th>\n",
       "      <th>Previously_Insured</th>\n",
       "      <th>Vehicle_Age</th>\n",
       "      <th>Vehicle_Damage</th>\n",
       "      <th>Annual_Premium</th>\n",
       "      <th>Policy_Sales_Channel</th>\n",
       "      <th>Vintage</th>\n",
       "      <th>Response</th>\n",
       "    </tr>\n",
       "  </thead>\n",
       "  <tbody>\n",
       "    <tr>\n",
       "      <th>0</th>\n",
       "      <td>1</td>\n",
       "      <td>Male</td>\n",
       "      <td>44</td>\n",
       "      <td>1</td>\n",
       "      <td>28.0</td>\n",
       "      <td>0</td>\n",
       "      <td>&gt; 2 Years</td>\n",
       "      <td>Yes</td>\n",
       "      <td>40454.0</td>\n",
       "      <td>26.0</td>\n",
       "      <td>217</td>\n",
       "      <td>1</td>\n",
       "    </tr>\n",
       "    <tr>\n",
       "      <th>1</th>\n",
       "      <td>2</td>\n",
       "      <td>Male</td>\n",
       "      <td>76</td>\n",
       "      <td>1</td>\n",
       "      <td>3.0</td>\n",
       "      <td>0</td>\n",
       "      <td>1-2 Year</td>\n",
       "      <td>No</td>\n",
       "      <td>33536.0</td>\n",
       "      <td>26.0</td>\n",
       "      <td>183</td>\n",
       "      <td>0</td>\n",
       "    </tr>\n",
       "    <tr>\n",
       "      <th>2</th>\n",
       "      <td>3</td>\n",
       "      <td>Male</td>\n",
       "      <td>47</td>\n",
       "      <td>1</td>\n",
       "      <td>28.0</td>\n",
       "      <td>0</td>\n",
       "      <td>&gt; 2 Years</td>\n",
       "      <td>Yes</td>\n",
       "      <td>38294.0</td>\n",
       "      <td>26.0</td>\n",
       "      <td>27</td>\n",
       "      <td>1</td>\n",
       "    </tr>\n",
       "    <tr>\n",
       "      <th>3</th>\n",
       "      <td>4</td>\n",
       "      <td>Male</td>\n",
       "      <td>21</td>\n",
       "      <td>1</td>\n",
       "      <td>11.0</td>\n",
       "      <td>1</td>\n",
       "      <td>&lt; 1 Year</td>\n",
       "      <td>No</td>\n",
       "      <td>28619.0</td>\n",
       "      <td>152.0</td>\n",
       "      <td>203</td>\n",
       "      <td>0</td>\n",
       "    </tr>\n",
       "    <tr>\n",
       "      <th>4</th>\n",
       "      <td>5</td>\n",
       "      <td>Female</td>\n",
       "      <td>29</td>\n",
       "      <td>1</td>\n",
       "      <td>41.0</td>\n",
       "      <td>1</td>\n",
       "      <td>&lt; 1 Year</td>\n",
       "      <td>No</td>\n",
       "      <td>27496.0</td>\n",
       "      <td>152.0</td>\n",
       "      <td>39</td>\n",
       "      <td>0</td>\n",
       "    </tr>\n",
       "  </tbody>\n",
       "</table>\n",
       "</div>"
      ],
      "text/plain": [
       "   id  Gender  Age  Driving_License  Region_Code  Previously_Insured  \\\n",
       "0   1    Male   44                1         28.0                   0   \n",
       "1   2    Male   76                1          3.0                   0   \n",
       "2   3    Male   47                1         28.0                   0   \n",
       "3   4    Male   21                1         11.0                   1   \n",
       "4   5  Female   29                1         41.0                   1   \n",
       "\n",
       "  Vehicle_Age Vehicle_Damage  Annual_Premium  Policy_Sales_Channel  Vintage  \\\n",
       "0   > 2 Years            Yes         40454.0                  26.0      217   \n",
       "1    1-2 Year             No         33536.0                  26.0      183   \n",
       "2   > 2 Years            Yes         38294.0                  26.0       27   \n",
       "3    < 1 Year             No         28619.0                 152.0      203   \n",
       "4    < 1 Year             No         27496.0                 152.0       39   \n",
       "\n",
       "   Response  \n",
       "0         1  \n",
       "1         0  \n",
       "2         1  \n",
       "3         0  \n",
       "4         0  "
      ]
     },
     "execution_count": 5,
     "metadata": {},
     "output_type": "execute_result"
    }
   ],
   "source": [
    "data = pd.read_csv('train.csv')\n",
    "data.head()"
   ]
  },
  {
   "cell_type": "markdown",
   "id": "dbc24066",
   "metadata": {},
   "source": [
    "#### Organizando o dataset"
   ]
  },
  {
   "cell_type": "code",
   "execution_count": 6,
   "id": "537badc2",
   "metadata": {},
   "outputs": [],
   "source": [
    "data = data[['id','Gender','Vehicle_Age','Vehicle_Damage','Region_Code','Policy_Sales_Channel','Driving_License','Previously_Insured',\n",
    "          'Age','Vintage','Annual_Premium','Response']]"
   ]
  },
  {
   "cell_type": "markdown",
   "id": "48bd2c63",
   "metadata": {},
   "source": [
    "#### Descrição dos dados"
   ]
  },
  {
   "cell_type": "code",
   "execution_count": 7,
   "id": "cd5b5e14",
   "metadata": {},
   "outputs": [
    {
     "data": {
      "text/html": [
       "<div>\n",
       "<style scoped>\n",
       "    .dataframe tbody tr th:only-of-type {\n",
       "        vertical-align: middle;\n",
       "    }\n",
       "\n",
       "    .dataframe tbody tr th {\n",
       "        vertical-align: top;\n",
       "    }\n",
       "\n",
       "    .dataframe thead th {\n",
       "        text-align: right;\n",
       "    }\n",
       "</style>\n",
       "<table border=\"1\" class=\"dataframe\">\n",
       "  <thead>\n",
       "    <tr style=\"text-align: right;\">\n",
       "      <th></th>\n",
       "      <th>Coluna</th>\n",
       "      <th>Dtype</th>\n",
       "      <th>Null</th>\n",
       "      <th>Null (%)</th>\n",
       "      <th>Nunique</th>\n",
       "      <th>Unique</th>\n",
       "      <th>Descrição</th>\n",
       "    </tr>\n",
       "  </thead>\n",
       "  <tbody>\n",
       "    <tr>\n",
       "      <th>0</th>\n",
       "      <td>id</td>\n",
       "      <td>int64</td>\n",
       "      <td>0</td>\n",
       "      <td>0.0</td>\n",
       "      <td>381109</td>\n",
       "      <td>[1, 2, 3, 4, 5, 6, 7, 8, 9, 10, 11, 12, 13, 14...</td>\n",
       "      <td>ID unico para o cliente.</td>\n",
       "    </tr>\n",
       "    <tr>\n",
       "      <th>1</th>\n",
       "      <td>Gender</td>\n",
       "      <td>object</td>\n",
       "      <td>0</td>\n",
       "      <td>0.0</td>\n",
       "      <td>2</td>\n",
       "      <td>[Male, Female]</td>\n",
       "      <td>Sexo do cliente.</td>\n",
       "    </tr>\n",
       "    <tr>\n",
       "      <th>2</th>\n",
       "      <td>Vehicle_Age</td>\n",
       "      <td>object</td>\n",
       "      <td>0</td>\n",
       "      <td>0.0</td>\n",
       "      <td>3</td>\n",
       "      <td>[&gt; 2 Years, 1-2 Year, &lt; 1 Year]</td>\n",
       "      <td>Idade do Veiculo.</td>\n",
       "    </tr>\n",
       "    <tr>\n",
       "      <th>3</th>\n",
       "      <td>Vehicle_Damage</td>\n",
       "      <td>object</td>\n",
       "      <td>0</td>\n",
       "      <td>0.0</td>\n",
       "      <td>2</td>\n",
       "      <td>[Yes, No]</td>\n",
       "      <td>1 : Cliente ja teve veiculo danificado no pass...</td>\n",
       "    </tr>\n",
       "    <tr>\n",
       "      <th>4</th>\n",
       "      <td>Region_Code</td>\n",
       "      <td>float64</td>\n",
       "      <td>0</td>\n",
       "      <td>0.0</td>\n",
       "      <td>53</td>\n",
       "      <td>[28.0, 3.0, 11.0, 41.0, 33.0, 6.0, 35.0, 50.0,...</td>\n",
       "      <td>Codigo unico da regiao do cliente.</td>\n",
       "    </tr>\n",
       "    <tr>\n",
       "      <th>5</th>\n",
       "      <td>Policy_Sales_Channel</td>\n",
       "      <td>float64</td>\n",
       "      <td>0</td>\n",
       "      <td>0.0</td>\n",
       "      <td>155</td>\n",
       "      <td>[26.0, 152.0, 160.0, 124.0, 14.0, 13.0, 30.0, ...</td>\n",
       "      <td>Código para o canal de divulgação ao cliente o...</td>\n",
       "    </tr>\n",
       "    <tr>\n",
       "      <th>6</th>\n",
       "      <td>Driving_License</td>\n",
       "      <td>int64</td>\n",
       "      <td>0</td>\n",
       "      <td>0.0</td>\n",
       "      <td>2</td>\n",
       "      <td>[1, 0]</td>\n",
       "      <td>0: não tem habilitacao, 1: tem habilitacao.</td>\n",
       "    </tr>\n",
       "    <tr>\n",
       "      <th>7</th>\n",
       "      <td>Previously_Insured</td>\n",
       "      <td>int64</td>\n",
       "      <td>0</td>\n",
       "      <td>0.0</td>\n",
       "      <td>2</td>\n",
       "      <td>[0, 1]</td>\n",
       "      <td>1 : Cliente já possui seguro, 0 : Cliente não ...</td>\n",
       "    </tr>\n",
       "    <tr>\n",
       "      <th>8</th>\n",
       "      <td>Age</td>\n",
       "      <td>int64</td>\n",
       "      <td>0</td>\n",
       "      <td>0.0</td>\n",
       "      <td>66</td>\n",
       "      <td>[44, 76, 47, 21, 29, 24, 23, 56, 32, 41, 71, 3...</td>\n",
       "      <td>Idade do cliente.</td>\n",
       "    </tr>\n",
       "    <tr>\n",
       "      <th>9</th>\n",
       "      <td>Vintage</td>\n",
       "      <td>int64</td>\n",
       "      <td>0</td>\n",
       "      <td>0.0</td>\n",
       "      <td>290</td>\n",
       "      <td>[217, 183, 27, 203, 39, 176, 249, 72, 28, 80, ...</td>\n",
       "      <td>Número de dias, o cliente foi associado à empr...</td>\n",
       "    </tr>\n",
       "    <tr>\n",
       "      <th>10</th>\n",
       "      <td>Annual_Premium</td>\n",
       "      <td>float64</td>\n",
       "      <td>0</td>\n",
       "      <td>0.0</td>\n",
       "      <td>48838</td>\n",
       "      <td>[40454.0, 33536.0, 38294.0, 28619.0, 27496.0, ...</td>\n",
       "      <td>O valor que o cliente precisa pagar como taxa ...</td>\n",
       "    </tr>\n",
       "    <tr>\n",
       "      <th>11</th>\n",
       "      <td>Response</td>\n",
       "      <td>int64</td>\n",
       "      <td>0</td>\n",
       "      <td>0.0</td>\n",
       "      <td>2</td>\n",
       "      <td>[1, 0]</td>\n",
       "      <td>1 : Cliente esta interessado, 0 : Cliente não ...</td>\n",
       "    </tr>\n",
       "  </tbody>\n",
       "</table>\n",
       "</div>"
      ],
      "text/plain": [
       "                  Coluna    Dtype  Null  Null (%)  Nunique  \\\n",
       "0                     id    int64     0       0.0   381109   \n",
       "1                 Gender   object     0       0.0        2   \n",
       "2            Vehicle_Age   object     0       0.0        3   \n",
       "3         Vehicle_Damage   object     0       0.0        2   \n",
       "4            Region_Code  float64     0       0.0       53   \n",
       "5   Policy_Sales_Channel  float64     0       0.0      155   \n",
       "6        Driving_License    int64     0       0.0        2   \n",
       "7     Previously_Insured    int64     0       0.0        2   \n",
       "8                    Age    int64     0       0.0       66   \n",
       "9                Vintage    int64     0       0.0      290   \n",
       "10        Annual_Premium  float64     0       0.0    48838   \n",
       "11              Response    int64     0       0.0        2   \n",
       "\n",
       "                                               Unique  \\\n",
       "0   [1, 2, 3, 4, 5, 6, 7, 8, 9, 10, 11, 12, 13, 14...   \n",
       "1                                      [Male, Female]   \n",
       "2                     [> 2 Years, 1-2 Year, < 1 Year]   \n",
       "3                                           [Yes, No]   \n",
       "4   [28.0, 3.0, 11.0, 41.0, 33.0, 6.0, 35.0, 50.0,...   \n",
       "5   [26.0, 152.0, 160.0, 124.0, 14.0, 13.0, 30.0, ...   \n",
       "6                                              [1, 0]   \n",
       "7                                              [0, 1]   \n",
       "8   [44, 76, 47, 21, 29, 24, 23, 56, 32, 41, 71, 3...   \n",
       "9   [217, 183, 27, 203, 39, 176, 249, 72, 28, 80, ...   \n",
       "10  [40454.0, 33536.0, 38294.0, 28619.0, 27496.0, ...   \n",
       "11                                             [1, 0]   \n",
       "\n",
       "                                            Descrição  \n",
       "0                            ID unico para o cliente.  \n",
       "1                                    Sexo do cliente.  \n",
       "2                                   Idade do Veiculo.  \n",
       "3   1 : Cliente ja teve veiculo danificado no pass...  \n",
       "4                  Codigo unico da regiao do cliente.  \n",
       "5   Código para o canal de divulgação ao cliente o...  \n",
       "6         0: não tem habilitacao, 1: tem habilitacao.  \n",
       "7   1 : Cliente já possui seguro, 0 : Cliente não ...  \n",
       "8                                   Idade do cliente.  \n",
       "9   Número de dias, o cliente foi associado à empr...  \n",
       "10  O valor que o cliente precisa pagar como taxa ...  \n",
       "11  1 : Cliente esta interessado, 0 : Cliente não ...  "
      ]
     },
     "execution_count": 7,
     "metadata": {},
     "output_type": "execute_result"
    }
   ],
   "source": [
    "desc       = [\"ID unico para o cliente.\",\n",
    "              \"Sexo do cliente.\",\n",
    "              \"Idade do Veiculo.\",\n",
    "              \"1 : Cliente ja teve veiculo danificado no passado. 0 : Cliente não teve veiculo danificado no passado.\",\n",
    "              \"Codigo unico da regiao do cliente.\",\n",
    "              \"Código para o canal de divulgação ao cliente ou seja. Agentes diferentes, por correio, por telefone, etc..\",\n",
    "              \"0: não tem habilitacao, 1: tem habilitacao.\",\n",
    "              \"1 : Cliente já possui seguro, 0 : Cliente não possui seguro.\",\n",
    "              \"Idade do cliente.\",\n",
    "              \"Número de dias, o cliente foi associado à empresa.\",    \n",
    "              \"O valor que o cliente precisa pagar como taxa no ano.\",                          \n",
    "              \"1 : Cliente esta interessado, 0 : Cliente não esta interessado\"]\n",
    "\n",
    "data_desc = []\n",
    "j = 0\n",
    "for column in data.columns:\n",
    "  data_desc.append(\n",
    "      [\n",
    "       column,\n",
    "       data[column].dtypes,\n",
    "       data[column].isnull().sum(),\n",
    "       round(data[column].isnull().sum()/len(data)*100, 2),\n",
    "       data[column].nunique(),\n",
    "       data[column].unique(),\n",
    "       desc[j]\n",
    "       ]\n",
    "       )\n",
    "  j += 1\n",
    "\n",
    "df = pd.DataFrame(data_desc, columns = ['Coluna', 'Dtype', 'Null', 'Null (%)', 'Nunique', 'Unique','Descrição'])\n",
    "df"
   ]
  },
  {
   "cell_type": "markdown",
   "id": "9786a294",
   "metadata": {},
   "source": [
    "#### Alterando os tipos de dados"
   ]
  },
  {
   "cell_type": "code",
   "execution_count": 10,
   "id": "89ffcae3",
   "metadata": {},
   "outputs": [],
   "source": [
    "cols = ['Gender','Vehicle_Age','Vehicle_Damage']\n",
    "conv_cat(data,cols)"
   ]
  },
  {
   "cell_type": "code",
   "execution_count": 11,
   "id": "b19d99e7",
   "metadata": {},
   "outputs": [
    {
     "name": "stdout",
     "output_type": "stream",
     "text": [
      "<class 'pandas.core.frame.DataFrame'>\n",
      "RangeIndex: 381109 entries, 0 to 381108\n",
      "Data columns (total 12 columns):\n",
      " #   Column                Non-Null Count   Dtype   \n",
      "---  ------                --------------   -----   \n",
      " 0   id                    381109 non-null  int64   \n",
      " 1   Gender                381109 non-null  category\n",
      " 2   Vehicle_Age           381109 non-null  category\n",
      " 3   Vehicle_Damage        381109 non-null  category\n",
      " 4   Region_Code           381109 non-null  float64 \n",
      " 5   Policy_Sales_Channel  381109 non-null  float64 \n",
      " 6   Driving_License       381109 non-null  int64   \n",
      " 7   Previously_Insured    381109 non-null  int64   \n",
      " 8   Age                   381109 non-null  int64   \n",
      " 9   Vintage               381109 non-null  int64   \n",
      " 10  Annual_Premium        381109 non-null  float64 \n",
      " 11  Response              381109 non-null  int64   \n",
      "dtypes: category(3), float64(3), int64(6)\n",
      "memory usage: 27.3 MB\n"
     ]
    }
   ],
   "source": [
    "data.info()"
   ]
  },
  {
   "cell_type": "code",
   "execution_count": 12,
   "id": "0cb7c177",
   "metadata": {},
   "outputs": [
    {
     "data": {
      "text/html": [
       "<div>\n",
       "<style scoped>\n",
       "    .dataframe tbody tr th:only-of-type {\n",
       "        vertical-align: middle;\n",
       "    }\n",
       "\n",
       "    .dataframe tbody tr th {\n",
       "        vertical-align: top;\n",
       "    }\n",
       "\n",
       "    .dataframe thead th {\n",
       "        text-align: right;\n",
       "    }\n",
       "</style>\n",
       "<table border=\"1\" class=\"dataframe\">\n",
       "  <thead>\n",
       "    <tr style=\"text-align: right;\">\n",
       "      <th></th>\n",
       "      <th>id</th>\n",
       "      <th>Gender</th>\n",
       "      <th>Vehicle_Age</th>\n",
       "      <th>Vehicle_Damage</th>\n",
       "      <th>Region_Code</th>\n",
       "      <th>Policy_Sales_Channel</th>\n",
       "      <th>Driving_License</th>\n",
       "      <th>Previously_Insured</th>\n",
       "      <th>Age</th>\n",
       "      <th>Vintage</th>\n",
       "      <th>Annual_Premium</th>\n",
       "      <th>Response</th>\n",
       "    </tr>\n",
       "  </thead>\n",
       "  <tbody>\n",
       "    <tr>\n",
       "      <th>0</th>\n",
       "      <td>1</td>\n",
       "      <td>Male</td>\n",
       "      <td>&gt; 2 Years</td>\n",
       "      <td>Yes</td>\n",
       "      <td>28.0</td>\n",
       "      <td>26.0</td>\n",
       "      <td>1</td>\n",
       "      <td>0</td>\n",
       "      <td>44</td>\n",
       "      <td>217</td>\n",
       "      <td>40454.0</td>\n",
       "      <td>1</td>\n",
       "    </tr>\n",
       "    <tr>\n",
       "      <th>1</th>\n",
       "      <td>2</td>\n",
       "      <td>Male</td>\n",
       "      <td>1-2 Year</td>\n",
       "      <td>No</td>\n",
       "      <td>3.0</td>\n",
       "      <td>26.0</td>\n",
       "      <td>1</td>\n",
       "      <td>0</td>\n",
       "      <td>76</td>\n",
       "      <td>183</td>\n",
       "      <td>33536.0</td>\n",
       "      <td>0</td>\n",
       "    </tr>\n",
       "    <tr>\n",
       "      <th>2</th>\n",
       "      <td>3</td>\n",
       "      <td>Male</td>\n",
       "      <td>&gt; 2 Years</td>\n",
       "      <td>Yes</td>\n",
       "      <td>28.0</td>\n",
       "      <td>26.0</td>\n",
       "      <td>1</td>\n",
       "      <td>0</td>\n",
       "      <td>47</td>\n",
       "      <td>27</td>\n",
       "      <td>38294.0</td>\n",
       "      <td>1</td>\n",
       "    </tr>\n",
       "    <tr>\n",
       "      <th>3</th>\n",
       "      <td>4</td>\n",
       "      <td>Male</td>\n",
       "      <td>&lt; 1 Year</td>\n",
       "      <td>No</td>\n",
       "      <td>11.0</td>\n",
       "      <td>152.0</td>\n",
       "      <td>1</td>\n",
       "      <td>1</td>\n",
       "      <td>21</td>\n",
       "      <td>203</td>\n",
       "      <td>28619.0</td>\n",
       "      <td>0</td>\n",
       "    </tr>\n",
       "    <tr>\n",
       "      <th>4</th>\n",
       "      <td>5</td>\n",
       "      <td>Female</td>\n",
       "      <td>&lt; 1 Year</td>\n",
       "      <td>No</td>\n",
       "      <td>41.0</td>\n",
       "      <td>152.0</td>\n",
       "      <td>1</td>\n",
       "      <td>1</td>\n",
       "      <td>29</td>\n",
       "      <td>39</td>\n",
       "      <td>27496.0</td>\n",
       "      <td>0</td>\n",
       "    </tr>\n",
       "  </tbody>\n",
       "</table>\n",
       "</div>"
      ],
      "text/plain": [
       "   id  Gender Vehicle_Age Vehicle_Damage  Region_Code  Policy_Sales_Channel  \\\n",
       "0   1    Male   > 2 Years            Yes         28.0                  26.0   \n",
       "1   2    Male    1-2 Year             No          3.0                  26.0   \n",
       "2   3    Male   > 2 Years            Yes         28.0                  26.0   \n",
       "3   4    Male    < 1 Year             No         11.0                 152.0   \n",
       "4   5  Female    < 1 Year             No         41.0                 152.0   \n",
       "\n",
       "   Driving_License  Previously_Insured  Age  Vintage  Annual_Premium  Response  \n",
       "0                1                   0   44      217         40454.0         1  \n",
       "1                1                   0   76      183         33536.0         0  \n",
       "2                1                   0   47       27         38294.0         1  \n",
       "3                1                   1   21      203         28619.0         0  \n",
       "4                1                   1   29       39         27496.0         0  "
      ]
     },
     "execution_count": 12,
     "metadata": {},
     "output_type": "execute_result"
    }
   ],
   "source": [
    "data.head()"
   ]
  },
  {
   "cell_type": "markdown",
   "id": "9a8c680b",
   "metadata": {},
   "source": [
    "#### Renomeando atributos"
   ]
  },
  {
   "cell_type": "code",
   "execution_count": 13,
   "id": "cfdef794",
   "metadata": {
    "scrolled": true
   },
   "outputs": [],
   "source": [
    "data=data.rename(columns={'Vehicle_Age':'V_age','Vehicle_Damage':'Damage','Region_Code':'Region','Policy_Sales_Channel':'Channel','Driving_License':'License',\n",
    "                  'Previously_Insured':'Insured','Annual_Premium':'Rate' })"
   ]
  },
  {
   "cell_type": "markdown",
   "id": "bdf106c1",
   "metadata": {},
   "source": [
    "##  Análise Estatística"
   ]
  },
  {
   "cell_type": "code",
   "execution_count": 14,
   "id": "a9655ead",
   "metadata": {},
   "outputs": [
    {
     "name": "stdout",
     "output_type": "stream",
     "text": [
      "O Data Frame possui 381109 linhas e 12 colunas\n"
     ]
    }
   ],
   "source": [
    "print('O Data Frame possui {} linhas e {} colunas'.format(data.shape[0],data.shape[1]))"
   ]
  },
  {
   "cell_type": "markdown",
   "id": "7ce890a3",
   "metadata": {},
   "source": [
    "#### Calculando a taxa de Response"
   ]
  },
  {
   "cell_type": "code",
   "execution_count": 15,
   "id": "1c5cdc86",
   "metadata": {},
   "outputs": [
    {
     "data": {
      "text/plain": [
       "0    0.877437\n",
       "1    0.122563\n",
       "Name: Response, dtype: float64"
      ]
     },
     "execution_count": 15,
     "metadata": {},
     "output_type": "execute_result"
    }
   ],
   "source": [
    "response_rate = data.Response.value_counts() / len(data)\n",
    "response_rate"
   ]
  },
  {
   "cell_type": "markdown",
   "id": "69a0f1dc",
   "metadata": {},
   "source": [
    "#### Overview statistico dos dados"
   ]
  },
  {
   "cell_type": "code",
   "execution_count": 16,
   "id": "089909cc",
   "metadata": {
    "scrolled": true
   },
   "outputs": [
    {
     "data": {
      "text/html": [
       "<div>\n",
       "<style scoped>\n",
       "    .dataframe tbody tr th:only-of-type {\n",
       "        vertical-align: middle;\n",
       "    }\n",
       "\n",
       "    .dataframe tbody tr th {\n",
       "        vertical-align: top;\n",
       "    }\n",
       "\n",
       "    .dataframe thead th {\n",
       "        text-align: right;\n",
       "    }\n",
       "</style>\n",
       "<table border=\"1\" class=\"dataframe\">\n",
       "  <thead>\n",
       "    <tr style=\"text-align: right;\">\n",
       "      <th></th>\n",
       "      <th>id</th>\n",
       "      <th>Region</th>\n",
       "      <th>Channel</th>\n",
       "      <th>License</th>\n",
       "      <th>Insured</th>\n",
       "      <th>Age</th>\n",
       "      <th>Vintage</th>\n",
       "      <th>Rate</th>\n",
       "      <th>Response</th>\n",
       "    </tr>\n",
       "  </thead>\n",
       "  <tbody>\n",
       "    <tr>\n",
       "      <th>count</th>\n",
       "      <td>381109.000000</td>\n",
       "      <td>381109.000000</td>\n",
       "      <td>381109.000000</td>\n",
       "      <td>381109.000000</td>\n",
       "      <td>381109.000000</td>\n",
       "      <td>381109.000000</td>\n",
       "      <td>381109.000000</td>\n",
       "      <td>381109.000000</td>\n",
       "      <td>381109.000000</td>\n",
       "    </tr>\n",
       "    <tr>\n",
       "      <th>mean</th>\n",
       "      <td>190555.000000</td>\n",
       "      <td>26.388807</td>\n",
       "      <td>112.034295</td>\n",
       "      <td>0.997869</td>\n",
       "      <td>0.458210</td>\n",
       "      <td>38.822584</td>\n",
       "      <td>154.347397</td>\n",
       "      <td>30564.389581</td>\n",
       "      <td>0.122563</td>\n",
       "    </tr>\n",
       "    <tr>\n",
       "      <th>std</th>\n",
       "      <td>110016.836208</td>\n",
       "      <td>13.229888</td>\n",
       "      <td>54.203995</td>\n",
       "      <td>0.046110</td>\n",
       "      <td>0.498251</td>\n",
       "      <td>15.511611</td>\n",
       "      <td>83.671304</td>\n",
       "      <td>17213.155057</td>\n",
       "      <td>0.327936</td>\n",
       "    </tr>\n",
       "    <tr>\n",
       "      <th>min</th>\n",
       "      <td>1.000000</td>\n",
       "      <td>0.000000</td>\n",
       "      <td>1.000000</td>\n",
       "      <td>0.000000</td>\n",
       "      <td>0.000000</td>\n",
       "      <td>20.000000</td>\n",
       "      <td>10.000000</td>\n",
       "      <td>2630.000000</td>\n",
       "      <td>0.000000</td>\n",
       "    </tr>\n",
       "    <tr>\n",
       "      <th>25%</th>\n",
       "      <td>95278.000000</td>\n",
       "      <td>15.000000</td>\n",
       "      <td>29.000000</td>\n",
       "      <td>1.000000</td>\n",
       "      <td>0.000000</td>\n",
       "      <td>25.000000</td>\n",
       "      <td>82.000000</td>\n",
       "      <td>24405.000000</td>\n",
       "      <td>0.000000</td>\n",
       "    </tr>\n",
       "    <tr>\n",
       "      <th>50%</th>\n",
       "      <td>190555.000000</td>\n",
       "      <td>28.000000</td>\n",
       "      <td>133.000000</td>\n",
       "      <td>1.000000</td>\n",
       "      <td>0.000000</td>\n",
       "      <td>36.000000</td>\n",
       "      <td>154.000000</td>\n",
       "      <td>31669.000000</td>\n",
       "      <td>0.000000</td>\n",
       "    </tr>\n",
       "    <tr>\n",
       "      <th>75%</th>\n",
       "      <td>285832.000000</td>\n",
       "      <td>35.000000</td>\n",
       "      <td>152.000000</td>\n",
       "      <td>1.000000</td>\n",
       "      <td>1.000000</td>\n",
       "      <td>49.000000</td>\n",
       "      <td>227.000000</td>\n",
       "      <td>39400.000000</td>\n",
       "      <td>0.000000</td>\n",
       "    </tr>\n",
       "    <tr>\n",
       "      <th>max</th>\n",
       "      <td>381109.000000</td>\n",
       "      <td>52.000000</td>\n",
       "      <td>163.000000</td>\n",
       "      <td>1.000000</td>\n",
       "      <td>1.000000</td>\n",
       "      <td>85.000000</td>\n",
       "      <td>299.000000</td>\n",
       "      <td>540165.000000</td>\n",
       "      <td>1.000000</td>\n",
       "    </tr>\n",
       "  </tbody>\n",
       "</table>\n",
       "</div>"
      ],
      "text/plain": [
       "                  id         Region        Channel        License  \\\n",
       "count  381109.000000  381109.000000  381109.000000  381109.000000   \n",
       "mean   190555.000000      26.388807     112.034295       0.997869   \n",
       "std    110016.836208      13.229888      54.203995       0.046110   \n",
       "min         1.000000       0.000000       1.000000       0.000000   \n",
       "25%     95278.000000      15.000000      29.000000       1.000000   \n",
       "50%    190555.000000      28.000000     133.000000       1.000000   \n",
       "75%    285832.000000      35.000000     152.000000       1.000000   \n",
       "max    381109.000000      52.000000     163.000000       1.000000   \n",
       "\n",
       "             Insured            Age        Vintage           Rate  \\\n",
       "count  381109.000000  381109.000000  381109.000000  381109.000000   \n",
       "mean        0.458210      38.822584     154.347397   30564.389581   \n",
       "std         0.498251      15.511611      83.671304   17213.155057   \n",
       "min         0.000000      20.000000      10.000000    2630.000000   \n",
       "25%         0.000000      25.000000      82.000000   24405.000000   \n",
       "50%         0.000000      36.000000     154.000000   31669.000000   \n",
       "75%         1.000000      49.000000     227.000000   39400.000000   \n",
       "max         1.000000      85.000000     299.000000  540165.000000   \n",
       "\n",
       "            Response  \n",
       "count  381109.000000  \n",
       "mean        0.122563  \n",
       "std         0.327936  \n",
       "min         0.000000  \n",
       "25%         0.000000  \n",
       "50%         0.000000  \n",
       "75%         0.000000  \n",
       "max         1.000000  "
      ]
     },
     "execution_count": 16,
     "metadata": {},
     "output_type": "execute_result"
    }
   ],
   "source": [
    "data.describe()"
   ]
  },
  {
   "cell_type": "code",
   "execution_count": 17,
   "id": "298112bd",
   "metadata": {},
   "outputs": [
    {
     "data": {
      "text/html": [
       "<div>\n",
       "<style scoped>\n",
       "    .dataframe tbody tr th:only-of-type {\n",
       "        vertical-align: middle;\n",
       "    }\n",
       "\n",
       "    .dataframe tbody tr th {\n",
       "        vertical-align: top;\n",
       "    }\n",
       "\n",
       "    .dataframe thead th {\n",
       "        text-align: right;\n",
       "    }\n",
       "</style>\n",
       "<table border=\"1\" class=\"dataframe\">\n",
       "  <thead>\n",
       "    <tr style=\"text-align: right;\">\n",
       "      <th></th>\n",
       "      <th>Gender</th>\n",
       "      <th>V_age</th>\n",
       "      <th>Damage</th>\n",
       "    </tr>\n",
       "  </thead>\n",
       "  <tbody>\n",
       "    <tr>\n",
       "      <th>count</th>\n",
       "      <td>381109</td>\n",
       "      <td>381109</td>\n",
       "      <td>381109</td>\n",
       "    </tr>\n",
       "    <tr>\n",
       "      <th>unique</th>\n",
       "      <td>2</td>\n",
       "      <td>3</td>\n",
       "      <td>2</td>\n",
       "    </tr>\n",
       "    <tr>\n",
       "      <th>top</th>\n",
       "      <td>Male</td>\n",
       "      <td>1-2 Year</td>\n",
       "      <td>Yes</td>\n",
       "    </tr>\n",
       "    <tr>\n",
       "      <th>freq</th>\n",
       "      <td>206089</td>\n",
       "      <td>200316</td>\n",
       "      <td>192413</td>\n",
       "    </tr>\n",
       "  </tbody>\n",
       "</table>\n",
       "</div>"
      ],
      "text/plain": [
       "        Gender     V_age  Damage\n",
       "count   381109    381109  381109\n",
       "unique       2         3       2\n",
       "top       Male  1-2 Year     Yes\n",
       "freq    206089    200316  192413"
      ]
     },
     "execution_count": 17,
     "metadata": {},
     "output_type": "execute_result"
    }
   ],
   "source": [
    "data.select_dtypes(include='category').describe()"
   ]
  },
  {
   "cell_type": "markdown",
   "id": "262808d1",
   "metadata": {},
   "source": [
    "#### Overview statistico por Response\n"
   ]
  },
  {
   "cell_type": "code",
   "execution_count": 18,
   "id": "29f503c8",
   "metadata": {},
   "outputs": [
    {
     "data": {
      "text/html": [
       "<div>\n",
       "<style scoped>\n",
       "    .dataframe tbody tr th:only-of-type {\n",
       "        vertical-align: middle;\n",
       "    }\n",
       "\n",
       "    .dataframe tbody tr th {\n",
       "        vertical-align: top;\n",
       "    }\n",
       "\n",
       "    .dataframe thead th {\n",
       "        text-align: right;\n",
       "    }\n",
       "</style>\n",
       "<table border=\"1\" class=\"dataframe\">\n",
       "  <thead>\n",
       "    <tr style=\"text-align: right;\">\n",
       "      <th></th>\n",
       "      <th>id</th>\n",
       "      <th>Region</th>\n",
       "      <th>Channel</th>\n",
       "      <th>License</th>\n",
       "      <th>Insured</th>\n",
       "      <th>Age</th>\n",
       "      <th>Vintage</th>\n",
       "      <th>Rate</th>\n",
       "    </tr>\n",
       "    <tr>\n",
       "      <th>Response</th>\n",
       "      <th></th>\n",
       "      <th></th>\n",
       "      <th></th>\n",
       "      <th></th>\n",
       "      <th></th>\n",
       "      <th></th>\n",
       "      <th></th>\n",
       "      <th></th>\n",
       "    </tr>\n",
       "  </thead>\n",
       "  <tbody>\n",
       "    <tr>\n",
       "      <th>0</th>\n",
       "      <td>190611.255476</td>\n",
       "      <td>26.336544</td>\n",
       "      <td>114.851040</td>\n",
       "      <td>0.997694</td>\n",
       "      <td>0.521742</td>\n",
       "      <td>38.178227</td>\n",
       "      <td>154.380243</td>\n",
       "      <td>30419.160276</td>\n",
       "    </tr>\n",
       "    <tr>\n",
       "      <th>1</th>\n",
       "      <td>190152.264504</td>\n",
       "      <td>26.762963</td>\n",
       "      <td>91.869086</td>\n",
       "      <td>0.999122</td>\n",
       "      <td>0.003383</td>\n",
       "      <td>43.435560</td>\n",
       "      <td>154.112246</td>\n",
       "      <td>31604.092742</td>\n",
       "    </tr>\n",
       "  </tbody>\n",
       "</table>\n",
       "</div>"
      ],
      "text/plain": [
       "                     id     Region     Channel   License   Insured        Age  \\\n",
       "Response                                                                        \n",
       "0         190611.255476  26.336544  114.851040  0.997694  0.521742  38.178227   \n",
       "1         190152.264504  26.762963   91.869086  0.999122  0.003383  43.435560   \n",
       "\n",
       "             Vintage          Rate  \n",
       "Response                            \n",
       "0         154.380243  30419.160276  \n",
       "1         154.112246  31604.092742  "
      ]
     },
     "execution_count": 18,
     "metadata": {},
     "output_type": "execute_result"
    }
   ],
   "source": [
    "Response_summary = data.groupby('Response')\n",
    "Response_summary.mean()"
   ]
  },
  {
   "cell_type": "markdown",
   "id": "801f7c14",
   "metadata": {},
   "source": [
    "O conjuto de dados tem:\n",
    "- 381.109 observações de clientes e 12 atributos;\n",
    "- Há mais clientes do sexo masculino;\n",
    "- A média de dias de clientes na empresa é de 154 dias;\n",
    "- 12% dos clientes estão interessados em adquirir um seguro de automóvel;\n",
    "- Menos de 1% dos clientes que demonstraram estarem interessados já possuem um seguro de automóvel;\n",
    "- A maioria já teve seu veículo danificado anteriormente;\n",
    "- A maioria dos clientes tem um veículo com mais de um ano e menos de dois;\n",
    "- A média de idade dos clientes de seguro saúde está entre 38 e 39 anos;\n",
    "- O valor máximo da taxa anual varia 94,13% comparado ao valor média."
   ]
  },
  {
   "cell_type": "markdown",
   "id": "b405554f",
   "metadata": {},
   "source": [
    "#### Calculando a matriz de correlação"
   ]
  },
  {
   "cell_type": "code",
   "execution_count": 19,
   "id": "d76dd165",
   "metadata": {},
   "outputs": [
    {
     "data": {
      "text/html": [
       "<div>\n",
       "<style scoped>\n",
       "    .dataframe tbody tr th:only-of-type {\n",
       "        vertical-align: middle;\n",
       "    }\n",
       "\n",
       "    .dataframe tbody tr th {\n",
       "        vertical-align: top;\n",
       "    }\n",
       "\n",
       "    .dataframe thead th {\n",
       "        text-align: right;\n",
       "    }\n",
       "</style>\n",
       "<table border=\"1\" class=\"dataframe\">\n",
       "  <thead>\n",
       "    <tr style=\"text-align: right;\">\n",
       "      <th></th>\n",
       "      <th>id</th>\n",
       "      <th>Region</th>\n",
       "      <th>Channel</th>\n",
       "      <th>License</th>\n",
       "      <th>Insured</th>\n",
       "      <th>Age</th>\n",
       "      <th>Vintage</th>\n",
       "      <th>Rate</th>\n",
       "      <th>Response</th>\n",
       "    </tr>\n",
       "  </thead>\n",
       "  <tbody>\n",
       "    <tr>\n",
       "      <th>id</th>\n",
       "      <td>1.000000</td>\n",
       "      <td>-0.000572</td>\n",
       "      <td>-0.002837</td>\n",
       "      <td>-0.000564</td>\n",
       "      <td>0.002457</td>\n",
       "      <td>0.001561</td>\n",
       "      <td>-0.000630</td>\n",
       "      <td>0.003027</td>\n",
       "      <td>-0.001368</td>\n",
       "    </tr>\n",
       "    <tr>\n",
       "      <th>Region</th>\n",
       "      <td>-0.000572</td>\n",
       "      <td>1.000000</td>\n",
       "      <td>-0.042420</td>\n",
       "      <td>-0.001081</td>\n",
       "      <td>-0.024659</td>\n",
       "      <td>0.042574</td>\n",
       "      <td>-0.002750</td>\n",
       "      <td>-0.010588</td>\n",
       "      <td>0.010570</td>\n",
       "    </tr>\n",
       "    <tr>\n",
       "      <th>Channel</th>\n",
       "      <td>-0.002837</td>\n",
       "      <td>-0.042420</td>\n",
       "      <td>1.000000</td>\n",
       "      <td>0.043731</td>\n",
       "      <td>0.219381</td>\n",
       "      <td>-0.577826</td>\n",
       "      <td>0.000002</td>\n",
       "      <td>-0.113247</td>\n",
       "      <td>-0.139042</td>\n",
       "    </tr>\n",
       "    <tr>\n",
       "      <th>License</th>\n",
       "      <td>-0.000564</td>\n",
       "      <td>-0.001081</td>\n",
       "      <td>0.043731</td>\n",
       "      <td>1.000000</td>\n",
       "      <td>0.014969</td>\n",
       "      <td>-0.079782</td>\n",
       "      <td>-0.000848</td>\n",
       "      <td>-0.011906</td>\n",
       "      <td>0.010155</td>\n",
       "    </tr>\n",
       "    <tr>\n",
       "      <th>Insured</th>\n",
       "      <td>0.002457</td>\n",
       "      <td>-0.024659</td>\n",
       "      <td>0.219381</td>\n",
       "      <td>0.014969</td>\n",
       "      <td>1.000000</td>\n",
       "      <td>-0.254682</td>\n",
       "      <td>0.002537</td>\n",
       "      <td>0.004269</td>\n",
       "      <td>-0.341170</td>\n",
       "    </tr>\n",
       "    <tr>\n",
       "      <th>Age</th>\n",
       "      <td>0.001561</td>\n",
       "      <td>0.042574</td>\n",
       "      <td>-0.577826</td>\n",
       "      <td>-0.079782</td>\n",
       "      <td>-0.254682</td>\n",
       "      <td>1.000000</td>\n",
       "      <td>-0.001264</td>\n",
       "      <td>0.067507</td>\n",
       "      <td>0.111147</td>\n",
       "    </tr>\n",
       "    <tr>\n",
       "      <th>Vintage</th>\n",
       "      <td>-0.000630</td>\n",
       "      <td>-0.002750</td>\n",
       "      <td>0.000002</td>\n",
       "      <td>-0.000848</td>\n",
       "      <td>0.002537</td>\n",
       "      <td>-0.001264</td>\n",
       "      <td>1.000000</td>\n",
       "      <td>-0.000608</td>\n",
       "      <td>-0.001050</td>\n",
       "    </tr>\n",
       "    <tr>\n",
       "      <th>Rate</th>\n",
       "      <td>0.003027</td>\n",
       "      <td>-0.010588</td>\n",
       "      <td>-0.113247</td>\n",
       "      <td>-0.011906</td>\n",
       "      <td>0.004269</td>\n",
       "      <td>0.067507</td>\n",
       "      <td>-0.000608</td>\n",
       "      <td>1.000000</td>\n",
       "      <td>0.022575</td>\n",
       "    </tr>\n",
       "    <tr>\n",
       "      <th>Response</th>\n",
       "      <td>-0.001368</td>\n",
       "      <td>0.010570</td>\n",
       "      <td>-0.139042</td>\n",
       "      <td>0.010155</td>\n",
       "      <td>-0.341170</td>\n",
       "      <td>0.111147</td>\n",
       "      <td>-0.001050</td>\n",
       "      <td>0.022575</td>\n",
       "      <td>1.000000</td>\n",
       "    </tr>\n",
       "  </tbody>\n",
       "</table>\n",
       "</div>"
      ],
      "text/plain": [
       "                id    Region   Channel   License   Insured       Age  \\\n",
       "id        1.000000 -0.000572 -0.002837 -0.000564  0.002457  0.001561   \n",
       "Region   -0.000572  1.000000 -0.042420 -0.001081 -0.024659  0.042574   \n",
       "Channel  -0.002837 -0.042420  1.000000  0.043731  0.219381 -0.577826   \n",
       "License  -0.000564 -0.001081  0.043731  1.000000  0.014969 -0.079782   \n",
       "Insured   0.002457 -0.024659  0.219381  0.014969  1.000000 -0.254682   \n",
       "Age       0.001561  0.042574 -0.577826 -0.079782 -0.254682  1.000000   \n",
       "Vintage  -0.000630 -0.002750  0.000002 -0.000848  0.002537 -0.001264   \n",
       "Rate      0.003027 -0.010588 -0.113247 -0.011906  0.004269  0.067507   \n",
       "Response -0.001368  0.010570 -0.139042  0.010155 -0.341170  0.111147   \n",
       "\n",
       "           Vintage      Rate  Response  \n",
       "id       -0.000630  0.003027 -0.001368  \n",
       "Region   -0.002750 -0.010588  0.010570  \n",
       "Channel   0.000002 -0.113247 -0.139042  \n",
       "License  -0.000848 -0.011906  0.010155  \n",
       "Insured   0.002537  0.004269 -0.341170  \n",
       "Age      -0.001264  0.067507  0.111147  \n",
       "Vintage   1.000000 -0.000608 -0.001050  \n",
       "Rate     -0.000608  1.000000  0.022575  \n",
       "Response -0.001050  0.022575  1.000000  "
      ]
     },
     "execution_count": 19,
     "metadata": {},
     "output_type": "execute_result"
    },
    {
     "data": {
      "image/png": "[encoded data removed]",
      "text/plain": [
       "<Figure size 432x288 with 2 Axes>"
      ]
     },
     "metadata": {
      "needs_background": "light"
     },
     "output_type": "display_data"
    }
   ],
   "source": [
    "corr = data.corr()\n",
    "corr = (corr)\n",
    "sns.heatmap(corr, \n",
    "            xticklabels=corr.columns.values,\n",
    "            yticklabels=corr.columns.values)\n",
    "\n",
    "corr"
   ]
  },
  {
   "cell_type": "markdown",
   "id": "9f5518cd",
   "metadata": {},
   "source": [
    "### Correlation Matrix & Heatmap\n",
    "\n",
    "**Atributos com uma correlação fraca positiva:**\n",
    "    \n",
    "Age vs Response: 0.11\n",
    "    \n",
    "**Atributos com uma correlação moderada negativa:**\n",
    "\n",
    "Insured vs Response: -0.34\n",
    "Age vs Insured  :-0.25\n",
    "\n",
    "**Questões:**\n",
    "- Quais atributos afetam nossa variável alvo (Response)?\n",
    "\n",
    "- Existem atributos com alta correlação entre eles?\n",
    "\n",
    "- Como podemos aprofundar para entender as correlações?\n",
    "\n",
    "**Resumo:**\n",
    "\n",
    "Existe uma **correlação negativa** entre os atributos Insured e Response  \n",
    "\n",
    "- Faz sentido pois quem já possui um seguro pode não se interessar em adquirir um novo \n",
    "\n",
    "Há tambem **correlação negativa** entre os atributos Age vs Insured \n",
    "\n",
    "- Faz sentido já que pessoas mais velhas pegam mais por um seguro saúde.\n"
   ]
  },
  {
   "cell_type": "markdown",
   "id": "a341f5d0",
   "metadata": {},
   "source": [
    "#### Calculando distribuições dos atributos"
   ]
  },
  {
   "cell_type": "code",
   "execution_count": 21,
   "id": "9cce18f6",
   "metadata": {},
   "outputs": [
    {
     "data": {
      "image/png": "[encoded data removed]",
      "text/plain": [
       "<Figure size 1440x1080 with 5 Axes>"
      ]
     },
     "metadata": {
      "needs_background": "light"
     },
     "output_type": "display_data"
    }
   ],
   "source": [
    "fig, ax = plt.subplots(figsize=(20,15))\n",
    "\n",
    "plt.subplot(2,3,1)\n",
    "plt.title('Age')\n",
    "ax=sns.distplot(data.Age, kde=False, color=\"g\");\n",
    "\n",
    "plt.subplot(2,3,2)\n",
    "plt.title('Rate')\n",
    "ax=sns.distplot(data.Rate, kde=False, color=\"r\");\n",
    "\n",
    "plt.subplot(2,3,3)\n",
    "plt.title('Vintage')\n",
    "ax=sns.distplot(data.Vintage, kde=False, color=\"b\");\n",
    "\n",
    "plt.subplot(2,3,4)\n",
    "plt.title('Region')\n",
    "ax=sns.histplot(data.Region, kde=False, color=\"r\");\n",
    "\n",
    "plt.subplot(2,3,5)\n",
    "plt.title('Sales Channel')\n",
    "sns.histplot(data.Channel, kde=False, color=\"m\");"
   ]
  },
  {
   "cell_type": "markdown",
   "id": "46e0a093",
   "metadata": {},
   "source": [
    "## Distribuições (Age - Rate - Vintage)\n",
    "***\n",
    "**Summary:** Examinando a distribuição de alguns atributos do conjunto de dados:\n",
    " - **Age** - Existe um pico de clientes com idade de 25 anos  e um outro pico na faixa entre 40 e 50 anos, mas a maioria dos clientes se concentram na faixa de idade entre 20 e 30 anos\n",
    " - **Rate** - A taxa anual paga mostra um pico de clientes que pagam em torno de 50.000 e a maior concentração está abaixo de 100.000\n",
    " - **Vintage** - A distribuição de quanto tempo a pessoa está na empresa parece não variar\n",
    " - **Region** - Uma das regiões apresenta alta concentração de clientes\n",
    " - **Sales Channel**- Três dos canais de vendas são os que apresentam maior concentração de clientes\n",
    " \n",
    "**Questões**\n",
    "- Pessoas jovens e de meia idade tem maior interesse em seguro saúde? \n",
    "- O valor anual pago por pessoas idosas é mais elevado por isso o menor interesse?\n",
    "- Quanto maior o tempo associado do cliente a empresa a probabilidade de adquirir um seguro de automóvel aumenta?\n",
    "- Regiões que possuem concentração de cliente alta trabalham com canais de vendas mais efetivos?\n",
    "- Os canais de venda mais efetivos utlizam mídias de divulgação que impactam pessoas mais jovens?"
   ]
  },
  {
   "cell_type": "code",
   "execution_count": 22,
   "id": "bded427e",
   "metadata": {},
   "outputs": [
    {
     "data": {
      "image/png": "[encoded data removed]",
      "text/plain": [
       "<Figure size 1440x1080 with 5 Axes>"
      ]
     },
     "metadata": {
      "needs_background": "light"
     },
     "output_type": "display_data"
    }
   ],
   "source": [
    "fig, ax = plt.subplots(figsize=(20,15))\n",
    "\n",
    "plt.subplot(2,3,1)\n",
    "plt.title('Gender')\n",
    "ax=sns.countplot(data=data,x='Gender')\n",
    "for i in ax.patches:\n",
    "    ax.annotate((i.get_height()/len(data)*100).round(2),\n",
    "             (i.get_x() + i.get_width()/2,i.get_height()),\n",
    "             ha='center',va='baseline',fontsize=12,color='black',\n",
    "             xytext=(0,1),textcoords='offset points') \n",
    "    \n",
    "  \n",
    "plt.subplot(2,3,2)\n",
    "plt.title('License')\n",
    "ax=sns.countplot(data=data,x='License')\n",
    "for i in ax.patches:\n",
    "    ax.annotate((i.get_height()/len(data)*100).round(2),\n",
    "             (i.get_x() + i.get_width()/2,i.get_height()),\n",
    "             ha='center',va='baseline',fontsize=12,color='black',\n",
    "             xytext=(0,1),textcoords='offset points')\n",
    "  \n",
    "  \n",
    "plt.subplot(2,3,3)\n",
    "plt.title('Insured')\n",
    "\n",
    "ax =sns.countplot(data=data,x='Insured')\n",
    "for i in ax.patches:\n",
    "    ax.annotate((i.get_height()/len(data)*100).round(2),\n",
    "             (i.get_x() + i.get_width()/2,i.get_height()),\n",
    "             ha='center',va='baseline',fontsize=12,color='black',\n",
    "             xytext=(0,1),textcoords='offset points')\n",
    "    \n",
    "plt.subplot(2,3,4)\n",
    "plt.title('Vehicle Age')\n",
    "ax =sns.countplot(data=data,x='V_age')\n",
    "for i in ax.patches:\n",
    "    ax.annotate((i.get_height()/len(data)*100).round(2),\n",
    "             (i.get_x() + i.get_width()/2,i.get_height()),\n",
    "             ha='center',va='baseline',fontsize=12,color='black',\n",
    "             xytext=(0,1),textcoords='offset points')\n",
    "    \n",
    "    \n",
    "plt.subplot(2,3,5)\n",
    "plt.title('Vehicle Damage')\n",
    "ax =sns.countplot(data=data,x='Damage')\n",
    "for i in ax.patches:\n",
    "    ax.annotate((i.get_height()/len(data)*100).round(2),\n",
    "             (i.get_x() + i.get_width()/2,i.get_height()),\n",
    "             ha='center',va='baseline',fontsize=12,color='black',\n",
    "             xytext=(0,1),textcoords='offset points')\n",
    "    \n",
    "plt.subplots_adjust(left=0.1, \n",
    "                    bottom=0.1,  \n",
    "                    right=0.9,  \n",
    "                    top=0.9,  \n",
    "                    wspace=0.4,  \n",
    "                    hspace=0.4) "
   ]
  },
  {
   "cell_type": "markdown",
   "id": "35372809",
   "metadata": {},
   "source": [
    "## Distribuições (Gender - License - Insured - V_age - Demage)\n",
    "***\n",
    "**Summary:** Examinando a distribuição de alguns atributos categóricos do conjunto de dados:\n",
    "\n",
    " - **Gender**- A quantidade de clientes homens e mulheres é quase igual\n",
    " - **License** - Quase todos os clientes possuem habilitação\n",
    " - **Inured** - Metade dos clientes não possuem seguro de automóvel\n",
    " - **V_age** - 95% dos clientes possuem veículos com menos de 2 anos\n",
    " - **Demage** - Um pouco mais da metade dos clientes já sofreu algum dano no veículo anteriormente\n",
    " \n",
    "**Questões**\n",
    "- Pessoas que já sofreram algum dano são mais propensas a adquirir um seguro de automóvel?\n",
    "- Quem possui veículos mais novos são menos propensas a aquirir um seguro?\n",
    "- Mulheres são mais interessadas em seguro saúde do que em seguro de automóvel?"
   ]
  },
  {
   "cell_type": "markdown",
   "id": "e5d29a56",
   "metadata": {},
   "source": [
    "#### Verificando o Resposta em relação ao Gênero"
   ]
  },
  {
   "cell_type": "code",
   "execution_count": 23,
   "id": "d6283bfc",
   "metadata": {
    "scrolled": true
   },
   "outputs": [
    {
     "data": {
      "text/html": [
       "<div>\n",
       "<style scoped>\n",
       "    .dataframe tbody tr th:only-of-type {\n",
       "        vertical-align: middle;\n",
       "    }\n",
       "\n",
       "    .dataframe tbody tr th {\n",
       "        vertical-align: top;\n",
       "    }\n",
       "\n",
       "    .dataframe thead th {\n",
       "        text-align: right;\n",
       "    }\n",
       "</style>\n",
       "<table border=\"1\" class=\"dataframe\">\n",
       "  <thead>\n",
       "    <tr style=\"text-align: right;\">\n",
       "      <th>Gender</th>\n",
       "      <th>Female</th>\n",
       "      <th>Male</th>\n",
       "    </tr>\n",
       "    <tr>\n",
       "      <th>Response</th>\n",
       "      <th></th>\n",
       "      <th></th>\n",
       "    </tr>\n",
       "  </thead>\n",
       "  <tbody>\n",
       "    <tr>\n",
       "      <th>0</th>\n",
       "      <td>0.469006</td>\n",
       "      <td>0.530994</td>\n",
       "    </tr>\n",
       "    <tr>\n",
       "      <th>1</th>\n",
       "      <td>0.389317</td>\n",
       "      <td>0.610683</td>\n",
       "    </tr>\n",
       "  </tbody>\n",
       "</table>\n",
       "</div>"
      ],
      "text/plain": [
       "Gender      Female      Male\n",
       "Response                    \n",
       "0         0.469006  0.530994\n",
       "1         0.389317  0.610683"
      ]
     },
     "execution_count": 23,
     "metadata": {},
     "output_type": "execute_result"
    }
   ],
   "source": [
    "pd.crosstab(index = data['Response'], columns = data['Gender'], normalize = 'index')"
   ]
  },
  {
   "cell_type": "code",
   "execution_count": 24,
   "id": "toxic-absence",
   "metadata": {},
   "outputs": [
    {
     "data": {
      "text/plain": [
       "Male      177564\n",
       "Female    156835\n",
       "Name: Gender, dtype: int64"
      ]
     },
     "execution_count": 24,
     "metadata": {},
     "output_type": "execute_result"
    }
   ],
   "source": [
    "data[data['Response'] == 0]['Gender'].value_counts()"
   ]
  },
  {
   "cell_type": "code",
   "execution_count": 25,
   "id": "southeast-wagon",
   "metadata": {},
   "outputs": [
    {
     "data": {
      "text/plain": [
       "Male      28525\n",
       "Female    18185\n",
       "Name: Gender, dtype: int64"
      ]
     },
     "execution_count": 25,
     "metadata": {},
     "output_type": "execute_result"
    }
   ],
   "source": [
    "data[data['Response'] == 1]['Gender'].value_counts()"
   ]
  },
  {
   "cell_type": "code",
   "execution_count": 27,
   "id": "ed160e6e",
   "metadata": {
    "scrolled": true
   },
   "outputs": [
    {
     "data": {
      "image/png": "[encoded data removed]",
      "text/plain": [
       "<Figure size 1080x288 with 1 Axes>"
      ]
     },
     "metadata": {
      "needs_background": "light"
     },
     "output_type": "display_data"
    }
   ],
   "source": [
    "f, ax = plt.subplots(figsize=(15, 4))\n",
    "sns.countplot(y='Gender',hue='Response',data=data).set_title('Gender Response');"
   ]
  },
  {
   "cell_type": "markdown",
   "id": "42694c32",
   "metadata": {},
   "source": [
    "## Age VS. Response"
   ]
  },
  {
   "cell_type": "markdown",
   "id": "f7c16c1c",
   "metadata": {},
   "source": [
    "**Resumo**:\n",
    "- Homens possuem maior interesse em adquirir um seguro de automóvel.\n"
   ]
  },
  {
   "cell_type": "markdown",
   "id": "a5ab34ef",
   "metadata": {},
   "source": [
    "#### Verificando o Resposta em relação a Idade."
   ]
  },
  {
   "cell_type": "code",
   "execution_count": 28,
   "id": "47d8f650",
   "metadata": {},
   "outputs": [],
   "source": [
    "data['Range_age']=data['Age'].apply(lambda x: '<26' if x<=26 else '<40' if x>26 and x<40 else '<60' if x>=40 and x<60 else 'maior_60')"
   ]
  },
  {
   "cell_type": "code",
   "execution_count": 29,
   "id": "e5378848",
   "metadata": {
    "scrolled": false
   },
   "outputs": [
    {
     "data": {
      "image/png": "[encoded data removed]",
      "text/plain": [
       "<Figure size 1296x360 with 1 Axes>"
      ]
     },
     "metadata": {
      "needs_background": "light"
     },
     "output_type": "display_data"
    }
   ],
   "source": [
    "plt.figure(figsize = (18, 5))\n",
    "plt.title('Range_age V.S Response',fontsize=20)\n",
    "ax=data[['Range_age','Response']].groupby(['Range_age','Response']).size().reset_index().rename(columns={0:'qtd'})\n",
    "ax=sns.barplot(data=ax,x='Range_age',y='qtd',hue='Response')"
   ]
  },
  {
   "cell_type": "code",
   "execution_count": 30,
   "id": "0cb7af25",
   "metadata": {},
   "outputs": [
    {
     "data": {
      "text/html": [
       "<div>\n",
       "<style scoped>\n",
       "    .dataframe tbody tr th:only-of-type {\n",
       "        vertical-align: middle;\n",
       "    }\n",
       "\n",
       "    .dataframe tbody tr th {\n",
       "        vertical-align: top;\n",
       "    }\n",
       "\n",
       "    .dataframe thead th {\n",
       "        text-align: right;\n",
       "    }\n",
       "</style>\n",
       "<table border=\"1\" class=\"dataframe\">\n",
       "  <thead>\n",
       "    <tr style=\"text-align: right;\">\n",
       "      <th>Range_age</th>\n",
       "      <th>&lt;26</th>\n",
       "      <th>&lt;40</th>\n",
       "      <th>&lt;60</th>\n",
       "      <th>maior_60</th>\n",
       "    </tr>\n",
       "    <tr>\n",
       "      <th>Gender</th>\n",
       "      <th></th>\n",
       "      <th></th>\n",
       "      <th></th>\n",
       "      <th></th>\n",
       "    </tr>\n",
       "  </thead>\n",
       "  <tbody>\n",
       "    <tr>\n",
       "      <th>Female</th>\n",
       "      <td>0.559239</td>\n",
       "      <td>0.481097</td>\n",
       "      <td>0.366672</td>\n",
       "      <td>0.394587</td>\n",
       "    </tr>\n",
       "    <tr>\n",
       "      <th>Male</th>\n",
       "      <td>0.440761</td>\n",
       "      <td>0.518903</td>\n",
       "      <td>0.633328</td>\n",
       "      <td>0.605413</td>\n",
       "    </tr>\n",
       "  </tbody>\n",
       "</table>\n",
       "</div>"
      ],
      "text/plain": [
       "Range_age       <26       <40       <60  maior_60\n",
       "Gender                                           \n",
       "Female     0.559239  0.481097  0.366672  0.394587\n",
       "Male       0.440761  0.518903  0.633328  0.605413"
      ]
     },
     "execution_count": 30,
     "metadata": {},
     "output_type": "execute_result"
    }
   ],
   "source": [
    "pd.crosstab(index = data['Gender'], columns = data['Range_age'], normalize='columns')"
   ]
  },
  {
   "cell_type": "markdown",
   "id": "b149527e",
   "metadata": {},
   "source": [
    "##  Age VS. Response"
   ]
  },
  {
   "cell_type": "markdown",
   "id": "e89353f1",
   "metadata": {},
   "source": [
    "**Resumo:** Informação sobre a idade dos clientes\n",
    "- Podemos ver que clientes mais jovens não estão interessados no seguro do veículo\n",
    "\n",
    "**Insights**\n",
    "- Clientes jovens tem menor interesse em adquirir um seguro de automóvel e isso faz sentido, já que \n",
    "  o valor do seguro é maior devido ao aumento no risco de acidentes.\n",
    "- A maioria dos clientes jovens são mulheres"
   ]
  },
  {
   "cell_type": "markdown",
   "id": "44f4d69f",
   "metadata": {},
   "source": [
    "#### Verificando o Resposta em relação a Danos no Veículo"
   ]
  },
  {
   "cell_type": "code",
   "execution_count": 32,
   "id": "09bda206",
   "metadata": {
    "scrolled": true
   },
   "outputs": [
    {
     "data": {
      "image/png": "[encoded data removed]",
      "text/plain": [
       "<Figure size 1080x288 with 1 Axes>"
      ]
     },
     "metadata": {
      "needs_background": "light"
     },
     "output_type": "display_data"
    }
   ],
   "source": [
    "f, ax = plt.subplots(figsize=(15, 4))\n",
    "sns.countplot(y='Damage',hue='Response',data=data).set_title('Gender Response');"
   ]
  },
  {
   "cell_type": "code",
   "execution_count": 33,
   "id": "8edb1f37",
   "metadata": {},
   "outputs": [
    {
     "data": {
      "text/html": [
       "<div>\n",
       "<style scoped>\n",
       "    .dataframe tbody tr th:only-of-type {\n",
       "        vertical-align: middle;\n",
       "    }\n",
       "\n",
       "    .dataframe tbody tr th {\n",
       "        vertical-align: top;\n",
       "    }\n",
       "\n",
       "    .dataframe thead th {\n",
       "        text-align: right;\n",
       "    }\n",
       "</style>\n",
       "<table border=\"1\" class=\"dataframe\">\n",
       "  <thead>\n",
       "    <tr style=\"text-align: right;\">\n",
       "      <th>Damage</th>\n",
       "      <th>No</th>\n",
       "      <th>Yes</th>\n",
       "    </tr>\n",
       "    <tr>\n",
       "      <th>Gender</th>\n",
       "      <th></th>\n",
       "      <th></th>\n",
       "    </tr>\n",
       "  </thead>\n",
       "  <tbody>\n",
       "    <tr>\n",
       "      <th>Female</th>\n",
       "      <td>0.505337</td>\n",
       "      <td>0.414031</td>\n",
       "    </tr>\n",
       "    <tr>\n",
       "      <th>Male</th>\n",
       "      <td>0.494663</td>\n",
       "      <td>0.585969</td>\n",
       "    </tr>\n",
       "  </tbody>\n",
       "</table>\n",
       "</div>"
      ],
      "text/plain": [
       "Damage        No       Yes\n",
       "Gender                    \n",
       "Female  0.505337  0.414031\n",
       "Male    0.494663  0.585969"
      ]
     },
     "execution_count": 33,
     "metadata": {},
     "output_type": "execute_result"
    }
   ],
   "source": [
    "pd.crosstab(index = data['Gender'], columns = data['Damage'], normalize='columns')"
   ]
  },
  {
   "cell_type": "code",
   "execution_count": 34,
   "id": "7d22caec",
   "metadata": {},
   "outputs": [
    {
     "data": {
      "text/html": [
       "<div>\n",
       "<style scoped>\n",
       "    .dataframe tbody tr th:only-of-type {\n",
       "        vertical-align: middle;\n",
       "    }\n",
       "\n",
       "    .dataframe tbody tr th {\n",
       "        vertical-align: top;\n",
       "    }\n",
       "\n",
       "    .dataframe thead th {\n",
       "        text-align: right;\n",
       "    }\n",
       "</style>\n",
       "<table border=\"1\" class=\"dataframe\">\n",
       "  <thead>\n",
       "    <tr style=\"text-align: right;\">\n",
       "      <th>Damage</th>\n",
       "      <th>No</th>\n",
       "      <th>Yes</th>\n",
       "    </tr>\n",
       "    <tr>\n",
       "      <th>Range_age</th>\n",
       "      <th></th>\n",
       "      <th></th>\n",
       "    </tr>\n",
       "  </thead>\n",
       "  <tbody>\n",
       "    <tr>\n",
       "      <th>&lt;26</th>\n",
       "      <td>0.469713</td>\n",
       "      <td>0.204804</td>\n",
       "    </tr>\n",
       "    <tr>\n",
       "      <th>&lt;40</th>\n",
       "      <td>0.226020</td>\n",
       "      <td>0.201478</td>\n",
       "    </tr>\n",
       "    <tr>\n",
       "      <th>&lt;60</th>\n",
       "      <td>0.208653</td>\n",
       "      <td>0.444398</td>\n",
       "    </tr>\n",
       "    <tr>\n",
       "      <th>maior_60</th>\n",
       "      <td>0.095614</td>\n",
       "      <td>0.149319</td>\n",
       "    </tr>\n",
       "  </tbody>\n",
       "</table>\n",
       "</div>"
      ],
      "text/plain": [
       "Damage           No       Yes\n",
       "Range_age                    \n",
       "<26        0.469713  0.204804\n",
       "<40        0.226020  0.201478\n",
       "<60        0.208653  0.444398\n",
       "maior_60   0.095614  0.149319"
      ]
     },
     "execution_count": 34,
     "metadata": {},
     "output_type": "execute_result"
    }
   ],
   "source": [
    "pd.crosstab(index = data['Range_age'], columns = data['Damage'], normalize='columns')"
   ]
  },
  {
   "cell_type": "markdown",
   "id": "6301ccf9",
   "metadata": {},
   "source": [
    "## Damage VS. Response"
   ]
  },
  {
   "cell_type": "markdown",
   "id": "164c076b",
   "metadata": {},
   "source": [
    "**Resumo:** Informação sobre danos no veículo\n",
    "- Quem já sofreu algum dano no veículo é mais propenso a adquirir um seguro de automóvel\n",
    "\n",
    "**Insights**\n",
    "- Homens possuem mais danos em veículos do que mulheres\n",
    "- Pessoas mais jovens são as que sofrem mais danos no veículo"
   ]
  },
  {
   "cell_type": "markdown",
   "id": "8518bbec",
   "metadata": {},
   "source": [
    "#### Verificando o Resposta em relação ao Idade do Veiculo"
   ]
  },
  {
   "cell_type": "code",
   "execution_count": 35,
   "id": "699582a6",
   "metadata": {
    "scrolled": false
   },
   "outputs": [
    {
     "data": {
      "image/png": "[encoded data removed]",
      "text/plain": [
       "<Figure size 1080x288 with 1 Axes>"
      ]
     },
     "metadata": {
      "needs_background": "light"
     },
     "output_type": "display_data"
    }
   ],
   "source": [
    "f, ax = plt.subplots(figsize=(15, 4))\n",
    "sns.countplot(y='V_age',hue='Response',data=data).set_title('Vehicle Age Response');"
   ]
  },
  {
   "cell_type": "code",
   "execution_count": 36,
   "id": "423c94b5",
   "metadata": {},
   "outputs": [
    {
     "data": {
      "text/html": [
       "<div>\n",
       "<style scoped>\n",
       "    .dataframe tbody tr th:only-of-type {\n",
       "        vertical-align: middle;\n",
       "    }\n",
       "\n",
       "    .dataframe tbody tr th {\n",
       "        vertical-align: top;\n",
       "    }\n",
       "\n",
       "    .dataframe thead th {\n",
       "        text-align: right;\n",
       "    }\n",
       "</style>\n",
       "<table border=\"1\" class=\"dataframe\">\n",
       "  <thead>\n",
       "    <tr style=\"text-align: right;\">\n",
       "      <th>Damage</th>\n",
       "      <th>No</th>\n",
       "      <th>Yes</th>\n",
       "    </tr>\n",
       "    <tr>\n",
       "      <th>V_age</th>\n",
       "      <th></th>\n",
       "      <th></th>\n",
       "    </tr>\n",
       "  </thead>\n",
       "  <tbody>\n",
       "    <tr>\n",
       "      <th>1-2 Year</th>\n",
       "      <td>0.382048</td>\n",
       "      <td>0.666405</td>\n",
       "    </tr>\n",
       "    <tr>\n",
       "      <th>&lt; 1 Year</th>\n",
       "      <td>0.617872</td>\n",
       "      <td>0.250482</td>\n",
       "    </tr>\n",
       "    <tr>\n",
       "      <th>&gt; 2 Years</th>\n",
       "      <td>0.000079</td>\n",
       "      <td>0.083113</td>\n",
       "    </tr>\n",
       "  </tbody>\n",
       "</table>\n",
       "</div>"
      ],
      "text/plain": [
       "Damage           No       Yes\n",
       "V_age                        \n",
       "1-2 Year   0.382048  0.666405\n",
       "< 1 Year   0.617872  0.250482\n",
       "> 2 Years  0.000079  0.083113"
      ]
     },
     "execution_count": 36,
     "metadata": {},
     "output_type": "execute_result"
    }
   ],
   "source": [
    "pd.crosstab(index = data['V_age'], columns = data['Damage'], normalize='columns')"
   ]
  },
  {
   "cell_type": "code",
   "execution_count": 37,
   "id": "069f8253",
   "metadata": {},
   "outputs": [
    {
     "data": {
      "text/html": [
       "<div>\n",
       "<style scoped>\n",
       "    .dataframe tbody tr th:only-of-type {\n",
       "        vertical-align: middle;\n",
       "    }\n",
       "\n",
       "    .dataframe tbody tr th {\n",
       "        vertical-align: top;\n",
       "    }\n",
       "\n",
       "    .dataframe thead th {\n",
       "        text-align: right;\n",
       "    }\n",
       "</style>\n",
       "<table border=\"1\" class=\"dataframe\">\n",
       "  <thead>\n",
       "    <tr style=\"text-align: right;\">\n",
       "      <th>Range_age</th>\n",
       "      <th>&lt;26</th>\n",
       "      <th>&lt;40</th>\n",
       "      <th>&lt;60</th>\n",
       "      <th>maior_60</th>\n",
       "    </tr>\n",
       "    <tr>\n",
       "      <th>V_age</th>\n",
       "      <th></th>\n",
       "      <th></th>\n",
       "      <th></th>\n",
       "      <th></th>\n",
       "    </tr>\n",
       "  </thead>\n",
       "  <tbody>\n",
       "    <tr>\n",
       "      <th>1-2 Year</th>\n",
       "      <td>0.028226</td>\n",
       "      <td>0.500123</td>\n",
       "      <td>0.919603</td>\n",
       "      <td>0.879653</td>\n",
       "    </tr>\n",
       "    <tr>\n",
       "      <th>&lt; 1 Year</th>\n",
       "      <td>0.971478</td>\n",
       "      <td>0.488135</td>\n",
       "      <td>0.004396</td>\n",
       "      <td>0.002288</td>\n",
       "    </tr>\n",
       "    <tr>\n",
       "      <th>&gt; 2 Years</th>\n",
       "      <td>0.000297</td>\n",
       "      <td>0.011742</td>\n",
       "      <td>0.076001</td>\n",
       "      <td>0.118060</td>\n",
       "    </tr>\n",
       "  </tbody>\n",
       "</table>\n",
       "</div>"
      ],
      "text/plain": [
       "Range_age       <26       <40       <60  maior_60\n",
       "V_age                                            \n",
       "1-2 Year   0.028226  0.500123  0.919603  0.879653\n",
       "< 1 Year   0.971478  0.488135  0.004396  0.002288\n",
       "> 2 Years  0.000297  0.011742  0.076001  0.118060"
      ]
     },
     "execution_count": 37,
     "metadata": {},
     "output_type": "execute_result"
    }
   ],
   "source": [
    "pd.crosstab(index = data['V_age'], columns = data['Range_age'], normalize='columns')"
   ]
  },
  {
   "cell_type": "markdown",
   "id": "4e56a916",
   "metadata": {},
   "source": [
    "##  V_Age VS. Response"
   ]
  },
  {
   "cell_type": "markdown",
   "id": "68a41031",
   "metadata": {},
   "source": [
    "**Resumo**: Informações idade do veiculo\n",
    "- A maioria dos veículos tem menos de 1 ano de idade\n",
    "- Veículos entre 1 e 2 anos de idade tem uma taxa de resposta maior de\n",
    "  interesse em adquirir seguros\n",
    "  \n",
    "**Insights**\n",
    "- Veículos entre 1 e 2 anos de idade tem mais danos\n",
    "- Jovens possuem veículos com menos de 1 anos"
   ]
  },
  {
   "cell_type": "markdown",
   "id": "1222587d",
   "metadata": {},
   "source": [
    "#### Verificando o Resposta em relação a Habilitação"
   ]
  },
  {
   "cell_type": "code",
   "execution_count": 38,
   "id": "cc077fef",
   "metadata": {
    "scrolled": false
   },
   "outputs": [
    {
     "data": {
      "image/png": "[encoded data removed]",
      "text/plain": [
       "<Figure size 1080x288 with 1 Axes>"
      ]
     },
     "metadata": {
      "needs_background": "light"
     },
     "output_type": "display_data"
    }
   ],
   "source": [
    "f, ax = plt.subplots(figsize=(15, 4))\n",
    "sns.countplot(y='License',hue='Response',data=data).set_title('License Response');"
   ]
  },
  {
   "cell_type": "code",
   "execution_count": 39,
   "id": "11ae7d45",
   "metadata": {},
   "outputs": [
    {
     "data": {
      "text/html": [
       "<div>\n",
       "<style scoped>\n",
       "    .dataframe tbody tr th:only-of-type {\n",
       "        vertical-align: middle;\n",
       "    }\n",
       "\n",
       "    .dataframe tbody tr th {\n",
       "        vertical-align: top;\n",
       "    }\n",
       "\n",
       "    .dataframe thead th {\n",
       "        text-align: right;\n",
       "    }\n",
       "</style>\n",
       "<table border=\"1\" class=\"dataframe\">\n",
       "  <thead>\n",
       "    <tr style=\"text-align: right;\">\n",
       "      <th></th>\n",
       "      <th>Age</th>\n",
       "    </tr>\n",
       "    <tr>\n",
       "      <th>License</th>\n",
       "      <th></th>\n",
       "    </tr>\n",
       "  </thead>\n",
       "  <tbody>\n",
       "    <tr>\n",
       "      <th>0</th>\n",
       "      <td>65.604680</td>\n",
       "    </tr>\n",
       "    <tr>\n",
       "      <th>1</th>\n",
       "      <td>38.765399</td>\n",
       "    </tr>\n",
       "  </tbody>\n",
       "</table>\n",
       "</div>"
      ],
      "text/plain": [
       "               Age\n",
       "License           \n",
       "0        65.604680\n",
       "1        38.765399"
      ]
     },
     "execution_count": 39,
     "metadata": {},
     "output_type": "execute_result"
    }
   ],
   "source": [
    "data[['License','Age']].groupby('License').mean()"
   ]
  },
  {
   "cell_type": "markdown",
   "id": "5d3654c4",
   "metadata": {},
   "source": [
    "##  License VS. Response"
   ]
  },
  {
   "cell_type": "markdown",
   "id": "2ce1cf66",
   "metadata": {},
   "source": [
    "**Resumo**: Informações sobre habilitação\n",
    "- A maioria dos clientes possui habilitação\n",
    "\n",
    "**Insights**\n",
    "- Os clientes que não possuem habilitação tem em média idade acima dos 60 anos\n"
   ]
  },
  {
   "cell_type": "markdown",
   "id": "63288de6",
   "metadata": {},
   "source": [
    "#### Verificando o Resposta em relação a Previamente Assegurado"
   ]
  },
  {
   "cell_type": "code",
   "execution_count": 40,
   "id": "588c4403",
   "metadata": {
    "scrolled": true
   },
   "outputs": [
    {
     "data": {
      "image/png": "[encoded data removed]",
      "text/plain": [
       "<Figure size 1080x288 with 1 Axes>"
      ]
     },
     "metadata": {
      "needs_background": "light"
     },
     "output_type": "display_data"
    }
   ],
   "source": [
    "f, ax = plt.subplots(figsize=(15, 4))\n",
    "sns.countplot(y='Insured',hue='Response',data=data).set_title('Isured Response');"
   ]
  },
  {
   "cell_type": "code",
   "execution_count": 41,
   "id": "bb193ad9",
   "metadata": {},
   "outputs": [
    {
     "data": {
      "text/html": [
       "<div>\n",
       "<style scoped>\n",
       "    .dataframe tbody tr th:only-of-type {\n",
       "        vertical-align: middle;\n",
       "    }\n",
       "\n",
       "    .dataframe tbody tr th {\n",
       "        vertical-align: top;\n",
       "    }\n",
       "\n",
       "    .dataframe thead th {\n",
       "        text-align: right;\n",
       "    }\n",
       "</style>\n",
       "<table border=\"1\" class=\"dataframe\">\n",
       "  <thead>\n",
       "    <tr style=\"text-align: right;\">\n",
       "      <th>V_age</th>\n",
       "      <th>1-2 Year</th>\n",
       "      <th>&lt; 1 Year</th>\n",
       "      <th>&gt; 2 Years</th>\n",
       "    </tr>\n",
       "    <tr>\n",
       "      <th>Insured</th>\n",
       "      <th></th>\n",
       "      <th></th>\n",
       "      <th></th>\n",
       "    </tr>\n",
       "  </thead>\n",
       "  <tbody>\n",
       "    <tr>\n",
       "      <th>0</th>\n",
       "      <td>0.67389</td>\n",
       "      <td>0.336976</td>\n",
       "      <td>0.997126</td>\n",
       "    </tr>\n",
       "    <tr>\n",
       "      <th>1</th>\n",
       "      <td>0.32611</td>\n",
       "      <td>0.663024</td>\n",
       "      <td>0.002874</td>\n",
       "    </tr>\n",
       "  </tbody>\n",
       "</table>\n",
       "</div>"
      ],
      "text/plain": [
       "V_age    1-2 Year  < 1 Year  > 2 Years\n",
       "Insured                               \n",
       "0         0.67389  0.336976   0.997126\n",
       "1         0.32611  0.663024   0.002874"
      ]
     },
     "execution_count": 41,
     "metadata": {},
     "output_type": "execute_result"
    }
   ],
   "source": [
    "pd.crosstab(index = data['Insured'], columns = data['V_age'], normalize='columns')"
   ]
  },
  {
   "cell_type": "markdown",
   "id": "adfa3012",
   "metadata": {},
   "source": [
    "##  Insured VS. Response"
   ]
  },
  {
   "cell_type": "markdown",
   "id": "8cc37555",
   "metadata": {},
   "source": [
    "**Resumo**: Informações sobre possuir um seguro de automóvel.\n",
    "- A maioria dos clientes que possuem um seguro não estão interessados em adquirir um novo seguro de automóvel\n",
    "\n",
    "**Insights**\n",
    "- Quanto mais jovem o veículo maior é a probabilidade de possuir seguro\n",
    "- Os clientes que possuem seguro saúde estão há pouco tempo associados e por isso possuem um interesse menor?"
   ]
  },
  {
   "cell_type": "markdown",
   "id": "d8e6786c",
   "metadata": {},
   "source": [
    "#### Verificando o Resposta em relação a Taxa Anual"
   ]
  },
  {
   "cell_type": "code",
   "execution_count": 46,
   "id": "23a89280",
   "metadata": {},
   "outputs": [],
   "source": [
    "data['Range_rate']=data['Rate'].apply(lambda x: 'Bronze' if x< 50000 else 'Prata' if x>50000 and x<100000 else 'Ouro')"
   ]
  },
  {
   "cell_type": "code",
   "execution_count": 47,
   "id": "5c1ef122",
   "metadata": {},
   "outputs": [
    {
     "data": {
      "image/png": "[encoded data removed]",
      "text/plain": [
       "<Figure size 1296x360 with 1 Axes>"
      ]
     },
     "metadata": {
      "needs_background": "light"
     },
     "output_type": "display_data"
    }
   ],
   "source": [
    "plt.figure(figsize = (18, 5))\n",
    "plt.title('Range_rate VS Response',fontsize=20)\n",
    "ax=data[['Range_rate','Response']].groupby(['Range_rate','Response']).size().reset_index().rename(columns={0:'qtd'})\n",
    "ax=sns.barplot(data=ax,x='Range_rate',y='qtd',hue='Response')"
   ]
  },
  {
   "cell_type": "code",
   "execution_count": 48,
   "id": "db060071",
   "metadata": {},
   "outputs": [
    {
     "data": {
      "text/html": [
       "<div>\n",
       "<style scoped>\n",
       "    .dataframe tbody tr th:only-of-type {\n",
       "        vertical-align: middle;\n",
       "    }\n",
       "\n",
       "    .dataframe tbody tr th {\n",
       "        vertical-align: top;\n",
       "    }\n",
       "\n",
       "    .dataframe thead tr th {\n",
       "        text-align: left;\n",
       "    }\n",
       "\n",
       "    .dataframe thead tr:last-of-type th {\n",
       "        text-align: right;\n",
       "    }\n",
       "</style>\n",
       "<table border=\"1\" class=\"dataframe\">\n",
       "  <thead>\n",
       "    <tr>\n",
       "      <th>Insured</th>\n",
       "      <th colspan=\"3\" halign=\"left\">0</th>\n",
       "      <th colspan=\"3\" halign=\"left\">1</th>\n",
       "    </tr>\n",
       "    <tr>\n",
       "      <th>Range_rate</th>\n",
       "      <th>Bronze</th>\n",
       "      <th>Ouro</th>\n",
       "      <th>Prata</th>\n",
       "      <th>Bronze</th>\n",
       "      <th>Ouro</th>\n",
       "      <th>Prata</th>\n",
       "    </tr>\n",
       "    <tr>\n",
       "      <th>Response</th>\n",
       "      <th></th>\n",
       "      <th></th>\n",
       "      <th></th>\n",
       "      <th></th>\n",
       "      <th></th>\n",
       "      <th></th>\n",
       "    </tr>\n",
       "  </thead>\n",
       "  <tbody>\n",
       "    <tr>\n",
       "      <th>0</th>\n",
       "      <td>0.777185</td>\n",
       "      <td>0.719818</td>\n",
       "      <td>0.749921</td>\n",
       "      <td>0.999074</td>\n",
       "      <td>1.0</td>\n",
       "      <td>0.999353</td>\n",
       "    </tr>\n",
       "    <tr>\n",
       "      <th>1</th>\n",
       "      <td>0.222815</td>\n",
       "      <td>0.280182</td>\n",
       "      <td>0.250079</td>\n",
       "      <td>0.000926</td>\n",
       "      <td>0.0</td>\n",
       "      <td>0.000647</td>\n",
       "    </tr>\n",
       "  </tbody>\n",
       "</table>\n",
       "</div>"
      ],
      "text/plain": [
       "Insured            0                             1               \n",
       "Range_rate    Bronze      Ouro     Prata    Bronze Ouro     Prata\n",
       "Response                                                         \n",
       "0           0.777185  0.719818  0.749921  0.999074  1.0  0.999353\n",
       "1           0.222815  0.280182  0.250079  0.000926  0.0  0.000647"
      ]
     },
     "execution_count": 48,
     "metadata": {},
     "output_type": "execute_result"
    }
   ],
   "source": [
    "pd.crosstab(index = data['Response'], columns = [data['Insured'], data['Range_rate']],normalize = 'columns')"
   ]
  },
  {
   "cell_type": "markdown",
   "id": "3078c754",
   "metadata": {},
   "source": [
    "## Rate VS. Response"
   ]
  },
  {
   "cell_type": "markdown",
   "id": "5046a024",
   "metadata": {},
   "source": [
    "**Resumo**: Informações sobre Taxa anual.\n",
    "- A maioria dos clientes interessados em adquirir um seguro de automóvel paga anualmente até 50.000 por um seguro saúde\n",
    "\n",
    "**Questões**\n",
    "- Clientes que estão na classificação bronze possuem menor interesse em adquirir um seguro de automóvel?\n"
   ]
  },
  {
   "cell_type": "markdown",
   "id": "bd9fe3a1",
   "metadata": {},
   "source": [
    "#### Verificando o Resposta em relação a Canal de Vendas"
   ]
  },
  {
   "cell_type": "code",
   "execution_count": 51,
   "id": "83442eeb",
   "metadata": {
    "scrolled": false
   },
   "outputs": [
    {
     "data": {
      "image/png": "[encoded data removed]",
      "text/plain": [
       "<Figure size 432x288 with 1 Axes>"
      ]
     },
     "metadata": {
      "needs_background": "light"
     },
     "output_type": "display_data"
    }
   ],
   "source": [
    "pd.crosstab(index = data['Channel'], columns = data['Response'], normalize='columns').sort_values(1,ascending = False).head(10).plot(kind='bar');\n",
    "plt.title('Top 10 Canais de Vendas');"
   ]
  },
  {
   "cell_type": "code",
   "execution_count": 52,
   "id": "9fbf600c",
   "metadata": {},
   "outputs": [
    {
     "data": {
      "text/html": [
       "<div>\n",
       "<style scoped>\n",
       "    .dataframe tbody tr th:only-of-type {\n",
       "        vertical-align: middle;\n",
       "    }\n",
       "\n",
       "    .dataframe tbody tr th {\n",
       "        vertical-align: top;\n",
       "    }\n",
       "\n",
       "    .dataframe thead th {\n",
       "        text-align: right;\n",
       "    }\n",
       "</style>\n",
       "<table border=\"1\" class=\"dataframe\">\n",
       "  <thead>\n",
       "    <tr style=\"text-align: right;\">\n",
       "      <th></th>\n",
       "      <th>Response</th>\n",
       "      <th>0</th>\n",
       "      <th>1</th>\n",
       "    </tr>\n",
       "    <tr>\n",
       "      <th>Channel</th>\n",
       "      <th>Range_age</th>\n",
       "      <th></th>\n",
       "      <th></th>\n",
       "    </tr>\n",
       "  </thead>\n",
       "  <tbody>\n",
       "    <tr>\n",
       "      <th>26.0</th>\n",
       "      <th>&lt;60</th>\n",
       "      <td>0.109028</td>\n",
       "      <td>0.235667</td>\n",
       "    </tr>\n",
       "    <tr>\n",
       "      <th rowspan=\"2\" valign=\"top\">124.0</th>\n",
       "      <th>&lt;60</th>\n",
       "      <td>0.103673</td>\n",
       "      <td>0.167416</td>\n",
       "    </tr>\n",
       "    <tr>\n",
       "      <th>&lt;40</th>\n",
       "      <td>0.036878</td>\n",
       "      <td>0.098459</td>\n",
       "    </tr>\n",
       "    <tr>\n",
       "      <th>152.0</th>\n",
       "      <th>&lt;26</th>\n",
       "      <td>0.277103</td>\n",
       "      <td>0.054956</td>\n",
       "    </tr>\n",
       "    <tr>\n",
       "      <th rowspan=\"2\" valign=\"top\">26.0</th>\n",
       "      <th>&lt;40</th>\n",
       "      <td>0.020063</td>\n",
       "      <td>0.050246</td>\n",
       "    </tr>\n",
       "    <tr>\n",
       "      <th>maior_60</th>\n",
       "      <td>0.051370</td>\n",
       "      <td>0.047313</td>\n",
       "    </tr>\n",
       "    <tr>\n",
       "      <th>152.0</th>\n",
       "      <th>&lt;40</th>\n",
       "      <td>0.100228</td>\n",
       "      <td>0.025369</td>\n",
       "    </tr>\n",
       "    <tr>\n",
       "      <th>156.0</th>\n",
       "      <th>&lt;40</th>\n",
       "      <td>0.010598</td>\n",
       "      <td>0.025348</td>\n",
       "    </tr>\n",
       "    <tr>\n",
       "      <th>124.0</th>\n",
       "      <th>maior_60</th>\n",
       "      <td>0.032309</td>\n",
       "      <td>0.022693</td>\n",
       "    </tr>\n",
       "    <tr>\n",
       "      <th>122.0</th>\n",
       "      <th>&lt;60</th>\n",
       "      <td>0.011214</td>\n",
       "      <td>0.019011</td>\n",
       "    </tr>\n",
       "  </tbody>\n",
       "</table>\n",
       "</div>"
      ],
      "text/plain": [
       "Response                  0         1\n",
       "Channel Range_age                    \n",
       "26.0    <60        0.109028  0.235667\n",
       "124.0   <60        0.103673  0.167416\n",
       "        <40        0.036878  0.098459\n",
       "152.0   <26        0.277103  0.054956\n",
       "26.0    <40        0.020063  0.050246\n",
       "        maior_60   0.051370  0.047313\n",
       "152.0   <40        0.100228  0.025369\n",
       "156.0   <40        0.010598  0.025348\n",
       "124.0   maior_60   0.032309  0.022693\n",
       "122.0   <60        0.011214  0.019011"
      ]
     },
     "execution_count": 52,
     "metadata": {},
     "output_type": "execute_result"
    }
   ],
   "source": [
    "pd.crosstab(index = [data['Channel'], data['Range_age']],columns = data['Response'], normalize='columns').sort_values(1,ascending = False).head(10)"
   ]
  },
  {
   "cell_type": "markdown",
   "id": "c37c84c5",
   "metadata": {},
   "source": [
    "## Sales Chanel VS. Response"
   ]
  },
  {
   "cell_type": "markdown",
   "id": "7f0501d7",
   "metadata": {},
   "source": [
    "**Resumo**: Informações sobre Canal de Vendas.\n",
    "- Os canais de vendas que atraem o maior número de clientes são 152, 26 e 124\n",
    "- Apesar do canal 152 atrair mais clientes para seguro saúde, ele é o que possui o menor\n",
    "  número de clientes interessados em seguro de veículos\n",
    "\n",
    "**Insights**\n",
    "- Os clientes dos canais de vendas com menor interesse em seguro de automóveis são jovens\n",
    "- Os canais com maior número de clientes utilizam mídias direcionadas ao público jovem?\n",
    "\n"
   ]
  },
  {
   "cell_type": "markdown",
   "id": "8a145e65",
   "metadata": {},
   "source": [
    "#### Verificando o Resposta em relação a Codigo da Região"
   ]
  },
  {
   "cell_type": "code",
   "execution_count": 53,
   "id": "287afc02",
   "metadata": {
    "scrolled": false
   },
   "outputs": [
    {
     "data": {
      "text/plain": [
       "[Text(0, 0, '0'),\n",
       " Text(1, 0, '1'),\n",
       " Text(2, 0, '2'),\n",
       " Text(3, 0, '3'),\n",
       " Text(4, 0, '4'),\n",
       " Text(5, 0, '5'),\n",
       " Text(6, 0, '6'),\n",
       " Text(7, 0, '7'),\n",
       " Text(8, 0, '8'),\n",
       " Text(9, 0, '9'),\n",
       " Text(10, 0, '10'),\n",
       " Text(11, 0, '11'),\n",
       " Text(12, 0, '12'),\n",
       " Text(13, 0, '13'),\n",
       " Text(14, 0, '14'),\n",
       " Text(15, 0, '15'),\n",
       " Text(16, 0, '16'),\n",
       " Text(17, 0, '17'),\n",
       " Text(18, 0, '18'),\n",
       " Text(19, 0, '19'),\n",
       " Text(20, 0, '20'),\n",
       " Text(21, 0, '21'),\n",
       " Text(22, 0, '22'),\n",
       " Text(23, 0, '23'),\n",
       " Text(24, 0, '24'),\n",
       " Text(25, 0, '25'),\n",
       " Text(26, 0, '26'),\n",
       " Text(27, 0, '27'),\n",
       " Text(28, 0, '28'),\n",
       " Text(29, 0, '29'),\n",
       " Text(30, 0, '30'),\n",
       " Text(31, 0, '31'),\n",
       " Text(32, 0, '32'),\n",
       " Text(33, 0, '33'),\n",
       " Text(34, 0, '34'),\n",
       " Text(35, 0, '35'),\n",
       " Text(36, 0, '36'),\n",
       " Text(37, 0, '37'),\n",
       " Text(38, 0, '38'),\n",
       " Text(39, 0, '39'),\n",
       " Text(40, 0, '40'),\n",
       " Text(41, 0, '41'),\n",
       " Text(42, 0, '42'),\n",
       " Text(43, 0, '43'),\n",
       " Text(44, 0, '44'),\n",
       " Text(45, 0, '45'),\n",
       " Text(46, 0, '46'),\n",
       " Text(47, 0, '47'),\n",
       " Text(48, 0, '48'),\n",
       " Text(49, 0, '49'),\n",
       " Text(50, 0, '50'),\n",
       " Text(51, 0, '51'),\n",
       " Text(52, 0, '52')]"
      ]
     },
     "execution_count": 53,
     "metadata": {},
     "output_type": "execute_result"
    },
    {
     "data": {
      "image/png": "[encoded data removed]",
      "text/plain": [
       "<Figure size 1296x360 with 1 Axes>"
      ]
     },
     "metadata": {
      "needs_background": "light"
     },
     "output_type": "display_data"
    }
   ],
   "source": [
    "plt.figure(figsize = (18, 5))\n",
    "plt.title('Region V.S Response',fontsize=20)\n",
    "ax=sns.countplot(data['Region'], hue = data['Response'])\n",
    "ax.set_xticklabels(ax.get_xticks(), rotation = 90) "
   ]
  },
  {
   "cell_type": "code",
   "execution_count": 54,
   "id": "dd4fae5b",
   "metadata": {},
   "outputs": [
    {
     "data": {
      "text/html": [
       "<div>\n",
       "<style scoped>\n",
       "    .dataframe tbody tr th:only-of-type {\n",
       "        vertical-align: middle;\n",
       "    }\n",
       "\n",
       "    .dataframe tbody tr th {\n",
       "        vertical-align: top;\n",
       "    }\n",
       "\n",
       "    .dataframe thead th {\n",
       "        text-align: right;\n",
       "    }\n",
       "</style>\n",
       "<table border=\"1\" class=\"dataframe\">\n",
       "  <thead>\n",
       "    <tr style=\"text-align: right;\">\n",
       "      <th>Response</th>\n",
       "      <th>0</th>\n",
       "      <th>1</th>\n",
       "    </tr>\n",
       "    <tr>\n",
       "      <th>Region</th>\n",
       "      <th></th>\n",
       "      <th></th>\n",
       "    </tr>\n",
       "  </thead>\n",
       "  <tbody>\n",
       "    <tr>\n",
       "      <th>38.0</th>\n",
       "      <td>0.807996</td>\n",
       "      <td>0.192004</td>\n",
       "    </tr>\n",
       "    <tr>\n",
       "      <th>28.0</th>\n",
       "      <td>0.812837</td>\n",
       "      <td>0.187163</td>\n",
       "    </tr>\n",
       "    <tr>\n",
       "      <th>19.0</th>\n",
       "      <td>0.837134</td>\n",
       "      <td>0.162866</td>\n",
       "    </tr>\n",
       "    <tr>\n",
       "      <th>4.0</th>\n",
       "      <td>0.841755</td>\n",
       "      <td>0.158245</td>\n",
       "    </tr>\n",
       "    <tr>\n",
       "      <th>23.0</th>\n",
       "      <td>0.846939</td>\n",
       "      <td>0.153061</td>\n",
       "    </tr>\n",
       "  </tbody>\n",
       "</table>\n",
       "</div>"
      ],
      "text/plain": [
       "Response         0         1\n",
       "Region                      \n",
       "38.0      0.807996  0.192004\n",
       "28.0      0.812837  0.187163\n",
       "19.0      0.837134  0.162866\n",
       "4.0       0.841755  0.158245\n",
       "23.0      0.846939  0.153061"
      ]
     },
     "execution_count": 54,
     "metadata": {},
     "output_type": "execute_result"
    }
   ],
   "source": [
    "pd.crosstab(index = data['Region'], columns = data['Response'], normalize = 'index').sort_values(1,ascending = False).head(5)"
   ]
  },
  {
   "cell_type": "code",
   "execution_count": 55,
   "id": "3f5ee9b8",
   "metadata": {},
   "outputs": [
    {
     "data": {
      "text/html": [
       "<div>\n",
       "<style scoped>\n",
       "    .dataframe tbody tr th:only-of-type {\n",
       "        vertical-align: middle;\n",
       "    }\n",
       "\n",
       "    .dataframe tbody tr th {\n",
       "        vertical-align: top;\n",
       "    }\n",
       "\n",
       "    .dataframe thead th {\n",
       "        text-align: right;\n",
       "    }\n",
       "</style>\n",
       "<table border=\"1\" class=\"dataframe\">\n",
       "  <thead>\n",
       "    <tr style=\"text-align: right;\">\n",
       "      <th></th>\n",
       "      <th>Channel</th>\n",
       "    </tr>\n",
       "    <tr>\n",
       "      <th>Region</th>\n",
       "      <th></th>\n",
       "    </tr>\n",
       "  </thead>\n",
       "  <tbody>\n",
       "    <tr>\n",
       "      <th>28.0</th>\n",
       "      <td>106415</td>\n",
       "    </tr>\n",
       "    <tr>\n",
       "      <th>8.0</th>\n",
       "      <td>33877</td>\n",
       "    </tr>\n",
       "    <tr>\n",
       "      <th>46.0</th>\n",
       "      <td>19749</td>\n",
       "    </tr>\n",
       "    <tr>\n",
       "      <th>41.0</th>\n",
       "      <td>18263</td>\n",
       "    </tr>\n",
       "    <tr>\n",
       "      <th>15.0</th>\n",
       "      <td>13308</td>\n",
       "    </tr>\n",
       "  </tbody>\n",
       "</table>\n",
       "</div>"
      ],
      "text/plain": [
       "        Channel\n",
       "Region         \n",
       "28.0     106415\n",
       "8.0       33877\n",
       "46.0      19749\n",
       "41.0      18263\n",
       "15.0      13308"
      ]
     },
     "execution_count": 55,
     "metadata": {},
     "output_type": "execute_result"
    }
   ],
   "source": [
    "data[['Region','Channel',]].groupby('Region').count().sort_values(by='Channel',ascending = False).head()"
   ]
  },
  {
   "cell_type": "code",
   "execution_count": 56,
   "id": "67da68a9",
   "metadata": {},
   "outputs": [
    {
     "data": {
      "text/html": [
       "<div>\n",
       "<style scoped>\n",
       "    .dataframe tbody tr th:only-of-type {\n",
       "        vertical-align: middle;\n",
       "    }\n",
       "\n",
       "    .dataframe tbody tr th {\n",
       "        vertical-align: top;\n",
       "    }\n",
       "\n",
       "    .dataframe thead th {\n",
       "        text-align: right;\n",
       "    }\n",
       "</style>\n",
       "<table border=\"1\" class=\"dataframe\">\n",
       "  <thead>\n",
       "    <tr style=\"text-align: right;\">\n",
       "      <th>Range_age</th>\n",
       "      <th>&lt;26</th>\n",
       "      <th>&lt;40</th>\n",
       "      <th>&lt;60</th>\n",
       "      <th>maior_60</th>\n",
       "    </tr>\n",
       "    <tr>\n",
       "      <th>Region</th>\n",
       "      <th></th>\n",
       "      <th></th>\n",
       "      <th></th>\n",
       "      <th></th>\n",
       "    </tr>\n",
       "  </thead>\n",
       "  <tbody>\n",
       "    <tr>\n",
       "      <th>0.0</th>\n",
       "      <td>0.009896</td>\n",
       "      <td>0.217219</td>\n",
       "      <td>0.609599</td>\n",
       "      <td>0.163286</td>\n",
       "    </tr>\n",
       "    <tr>\n",
       "      <th>1.0</th>\n",
       "      <td>0.132937</td>\n",
       "      <td>0.197421</td>\n",
       "      <td>0.516865</td>\n",
       "      <td>0.152778</td>\n",
       "    </tr>\n",
       "    <tr>\n",
       "      <th>2.0</th>\n",
       "      <td>0.602526</td>\n",
       "      <td>0.189450</td>\n",
       "      <td>0.159733</td>\n",
       "      <td>0.048291</td>\n",
       "    </tr>\n",
       "    <tr>\n",
       "      <th>3.0</th>\n",
       "      <td>0.358015</td>\n",
       "      <td>0.262674</td>\n",
       "      <td>0.283321</td>\n",
       "      <td>0.095990</td>\n",
       "    </tr>\n",
       "    <tr>\n",
       "      <th>4.0</th>\n",
       "      <td>0.285952</td>\n",
       "      <td>0.270405</td>\n",
       "      <td>0.347585</td>\n",
       "      <td>0.096058</td>\n",
       "    </tr>\n",
       "    <tr>\n",
       "      <th>5.0</th>\n",
       "      <td>0.515246</td>\n",
       "      <td>0.207193</td>\n",
       "      <td>0.207975</td>\n",
       "      <td>0.069586</td>\n",
       "    </tr>\n",
       "    <tr>\n",
       "      <th>6.0</th>\n",
       "      <td>0.607006</td>\n",
       "      <td>0.220064</td>\n",
       "      <td>0.133121</td>\n",
       "      <td>0.039809</td>\n",
       "    </tr>\n",
       "    <tr>\n",
       "      <th>7.0</th>\n",
       "      <td>0.271729</td>\n",
       "      <td>0.201586</td>\n",
       "      <td>0.403782</td>\n",
       "      <td>0.122903</td>\n",
       "    </tr>\n",
       "    <tr>\n",
       "      <th>8.0</th>\n",
       "      <td>0.368451</td>\n",
       "      <td>0.177111</td>\n",
       "      <td>0.331729</td>\n",
       "      <td>0.122709</td>\n",
       "    </tr>\n",
       "    <tr>\n",
       "      <th>9.0</th>\n",
       "      <td>0.453402</td>\n",
       "      <td>0.207675</td>\n",
       "      <td>0.237343</td>\n",
       "      <td>0.101580</td>\n",
       "    </tr>\n",
       "    <tr>\n",
       "      <th>10.0</th>\n",
       "      <td>0.581161</td>\n",
       "      <td>0.254001</td>\n",
       "      <td>0.122085</td>\n",
       "      <td>0.042753</td>\n",
       "    </tr>\n",
       "    <tr>\n",
       "      <th>11.0</th>\n",
       "      <td>0.462630</td>\n",
       "      <td>0.238302</td>\n",
       "      <td>0.220862</td>\n",
       "      <td>0.078206</td>\n",
       "    </tr>\n",
       "    <tr>\n",
       "      <th>12.0</th>\n",
       "      <td>0.472170</td>\n",
       "      <td>0.228580</td>\n",
       "      <td>0.232333</td>\n",
       "      <td>0.066917</td>\n",
       "    </tr>\n",
       "    <tr>\n",
       "      <th>13.0</th>\n",
       "      <td>0.586472</td>\n",
       "      <td>0.184093</td>\n",
       "      <td>0.175917</td>\n",
       "      <td>0.053518</td>\n",
       "    </tr>\n",
       "    <tr>\n",
       "      <th>14.0</th>\n",
       "      <td>0.476699</td>\n",
       "      <td>0.233861</td>\n",
       "      <td>0.218042</td>\n",
       "      <td>0.071398</td>\n",
       "    </tr>\n",
       "    <tr>\n",
       "      <th>15.0</th>\n",
       "      <td>0.521566</td>\n",
       "      <td>0.224301</td>\n",
       "      <td>0.186655</td>\n",
       "      <td>0.067478</td>\n",
       "    </tr>\n",
       "    <tr>\n",
       "      <th>16.0</th>\n",
       "      <td>0.569008</td>\n",
       "      <td>0.231191</td>\n",
       "      <td>0.155456</td>\n",
       "      <td>0.044345</td>\n",
       "    </tr>\n",
       "    <tr>\n",
       "      <th>17.0</th>\n",
       "      <td>0.507069</td>\n",
       "      <td>0.164310</td>\n",
       "      <td>0.238059</td>\n",
       "      <td>0.090562</td>\n",
       "    </tr>\n",
       "    <tr>\n",
       "      <th>18.0</th>\n",
       "      <td>0.349505</td>\n",
       "      <td>0.290316</td>\n",
       "      <td>0.260043</td>\n",
       "      <td>0.100136</td>\n",
       "    </tr>\n",
       "    <tr>\n",
       "      <th>19.0</th>\n",
       "      <td>0.175896</td>\n",
       "      <td>0.238436</td>\n",
       "      <td>0.452769</td>\n",
       "      <td>0.132899</td>\n",
       "    </tr>\n",
       "    <tr>\n",
       "      <th>20.0</th>\n",
       "      <td>0.097674</td>\n",
       "      <td>0.177778</td>\n",
       "      <td>0.516279</td>\n",
       "      <td>0.208269</td>\n",
       "    </tr>\n",
       "    <tr>\n",
       "      <th>21.0</th>\n",
       "      <td>0.435068</td>\n",
       "      <td>0.372480</td>\n",
       "      <td>0.144398</td>\n",
       "      <td>0.048054</td>\n",
       "    </tr>\n",
       "    <tr>\n",
       "      <th>22.0</th>\n",
       "      <td>0.540107</td>\n",
       "      <td>0.163484</td>\n",
       "      <td>0.222307</td>\n",
       "      <td>0.074102</td>\n",
       "    </tr>\n",
       "    <tr>\n",
       "      <th>23.0</th>\n",
       "      <td>0.295918</td>\n",
       "      <td>0.270408</td>\n",
       "      <td>0.327041</td>\n",
       "      <td>0.106633</td>\n",
       "    </tr>\n",
       "    <tr>\n",
       "      <th>24.0</th>\n",
       "      <td>0.312215</td>\n",
       "      <td>0.207453</td>\n",
       "      <td>0.327122</td>\n",
       "      <td>0.153209</td>\n",
       "    </tr>\n",
       "    <tr>\n",
       "      <th>25.0</th>\n",
       "      <td>0.630843</td>\n",
       "      <td>0.154614</td>\n",
       "      <td>0.164203</td>\n",
       "      <td>0.050340</td>\n",
       "    </tr>\n",
       "    <tr>\n",
       "      <th>26.0</th>\n",
       "      <td>0.418632</td>\n",
       "      <td>0.190568</td>\n",
       "      <td>0.269424</td>\n",
       "      <td>0.121376</td>\n",
       "    </tr>\n",
       "    <tr>\n",
       "      <th>27.0</th>\n",
       "      <td>0.620616</td>\n",
       "      <td>0.196245</td>\n",
       "      <td>0.133900</td>\n",
       "      <td>0.049238</td>\n",
       "    </tr>\n",
       "    <tr>\n",
       "      <th>28.0</th>\n",
       "      <td>0.117559</td>\n",
       "      <td>0.195010</td>\n",
       "      <td>0.493220</td>\n",
       "      <td>0.194211</td>\n",
       "    </tr>\n",
       "    <tr>\n",
       "      <th>29.0</th>\n",
       "      <td>0.423859</td>\n",
       "      <td>0.208766</td>\n",
       "      <td>0.274650</td>\n",
       "      <td>0.092725</td>\n",
       "    </tr>\n",
       "    <tr>\n",
       "      <th>30.0</th>\n",
       "      <td>0.502748</td>\n",
       "      <td>0.282421</td>\n",
       "      <td>0.162661</td>\n",
       "      <td>0.052170</td>\n",
       "    </tr>\n",
       "    <tr>\n",
       "      <th>31.0</th>\n",
       "      <td>0.191837</td>\n",
       "      <td>0.206122</td>\n",
       "      <td>0.425000</td>\n",
       "      <td>0.177041</td>\n",
       "    </tr>\n",
       "    <tr>\n",
       "      <th>32.0</th>\n",
       "      <td>0.616075</td>\n",
       "      <td>0.211697</td>\n",
       "      <td>0.132759</td>\n",
       "      <td>0.039469</td>\n",
       "    </tr>\n",
       "    <tr>\n",
       "      <th>33.0</th>\n",
       "      <td>0.351320</td>\n",
       "      <td>0.242880</td>\n",
       "      <td>0.286256</td>\n",
       "      <td>0.119545</td>\n",
       "    </tr>\n",
       "    <tr>\n",
       "      <th>34.0</th>\n",
       "      <td>0.551683</td>\n",
       "      <td>0.195913</td>\n",
       "      <td>0.180288</td>\n",
       "      <td>0.072115</td>\n",
       "    </tr>\n",
       "    <tr>\n",
       "      <th>35.0</th>\n",
       "      <td>0.352924</td>\n",
       "      <td>0.286661</td>\n",
       "      <td>0.281475</td>\n",
       "      <td>0.078940</td>\n",
       "    </tr>\n",
       "    <tr>\n",
       "      <th>36.0</th>\n",
       "      <td>0.565193</td>\n",
       "      <td>0.215187</td>\n",
       "      <td>0.171195</td>\n",
       "      <td>0.048426</td>\n",
       "    </tr>\n",
       "    <tr>\n",
       "      <th>37.0</th>\n",
       "      <td>0.543538</td>\n",
       "      <td>0.209780</td>\n",
       "      <td>0.173423</td>\n",
       "      <td>0.073259</td>\n",
       "    </tr>\n",
       "    <tr>\n",
       "      <th>38.0</th>\n",
       "      <td>0.104640</td>\n",
       "      <td>0.256170</td>\n",
       "      <td>0.486673</td>\n",
       "      <td>0.152517</td>\n",
       "    </tr>\n",
       "    <tr>\n",
       "      <th>39.0</th>\n",
       "      <td>0.321490</td>\n",
       "      <td>0.203704</td>\n",
       "      <td>0.330965</td>\n",
       "      <td>0.143842</td>\n",
       "    </tr>\n",
       "    <tr>\n",
       "      <th>40.0</th>\n",
       "      <td>0.438610</td>\n",
       "      <td>0.193822</td>\n",
       "      <td>0.271042</td>\n",
       "      <td>0.096525</td>\n",
       "    </tr>\n",
       "    <tr>\n",
       "      <th>41.0</th>\n",
       "      <td>0.374637</td>\n",
       "      <td>0.260582</td>\n",
       "      <td>0.273394</td>\n",
       "      <td>0.091387</td>\n",
       "    </tr>\n",
       "    <tr>\n",
       "      <th>42.0</th>\n",
       "      <td>0.487310</td>\n",
       "      <td>0.169205</td>\n",
       "      <td>0.255499</td>\n",
       "      <td>0.087986</td>\n",
       "    </tr>\n",
       "    <tr>\n",
       "      <th>43.0</th>\n",
       "      <td>0.362637</td>\n",
       "      <td>0.190981</td>\n",
       "      <td>0.322092</td>\n",
       "      <td>0.124290</td>\n",
       "    </tr>\n",
       "    <tr>\n",
       "      <th>44.0</th>\n",
       "      <td>0.622525</td>\n",
       "      <td>0.198020</td>\n",
       "      <td>0.125000</td>\n",
       "      <td>0.054455</td>\n",
       "    </tr>\n",
       "    <tr>\n",
       "      <th>45.0</th>\n",
       "      <td>0.441035</td>\n",
       "      <td>0.241392</td>\n",
       "      <td>0.244246</td>\n",
       "      <td>0.073327</td>\n",
       "    </tr>\n",
       "    <tr>\n",
       "      <th>46.0</th>\n",
       "      <td>0.397894</td>\n",
       "      <td>0.193326</td>\n",
       "      <td>0.297889</td>\n",
       "      <td>0.110892</td>\n",
       "    </tr>\n",
       "    <tr>\n",
       "      <th>47.0</th>\n",
       "      <td>0.493814</td>\n",
       "      <td>0.166487</td>\n",
       "      <td>0.249328</td>\n",
       "      <td>0.090371</td>\n",
       "    </tr>\n",
       "    <tr>\n",
       "      <th>48.0</th>\n",
       "      <td>0.045076</td>\n",
       "      <td>0.165990</td>\n",
       "      <td>0.548173</td>\n",
       "      <td>0.240761</td>\n",
       "    </tr>\n",
       "    <tr>\n",
       "      <th>49.0</th>\n",
       "      <td>0.576419</td>\n",
       "      <td>0.212882</td>\n",
       "      <td>0.144651</td>\n",
       "      <td>0.066048</td>\n",
       "    </tr>\n",
       "    <tr>\n",
       "      <th>50.0</th>\n",
       "      <td>0.371376</td>\n",
       "      <td>0.225032</td>\n",
       "      <td>0.272772</td>\n",
       "      <td>0.130821</td>\n",
       "    </tr>\n",
       "    <tr>\n",
       "      <th>51.0</th>\n",
       "      <td>0.207650</td>\n",
       "      <td>0.147541</td>\n",
       "      <td>0.480874</td>\n",
       "      <td>0.163934</td>\n",
       "    </tr>\n",
       "    <tr>\n",
       "      <th>52.0</th>\n",
       "      <td>0.224719</td>\n",
       "      <td>0.164794</td>\n",
       "      <td>0.404494</td>\n",
       "      <td>0.205993</td>\n",
       "    </tr>\n",
       "  </tbody>\n",
       "</table>\n",
       "</div>"
      ],
      "text/plain": [
       "Range_age       <26       <40       <60  maior_60\n",
       "Region                                           \n",
       "0.0        0.009896  0.217219  0.609599  0.163286\n",
       "1.0        0.132937  0.197421  0.516865  0.152778\n",
       "2.0        0.602526  0.189450  0.159733  0.048291\n",
       "3.0        0.358015  0.262674  0.283321  0.095990\n",
       "4.0        0.285952  0.270405  0.347585  0.096058\n",
       "5.0        0.515246  0.207193  0.207975  0.069586\n",
       "6.0        0.607006  0.220064  0.133121  0.039809\n",
       "7.0        0.271729  0.201586  0.403782  0.122903\n",
       "8.0        0.368451  0.177111  0.331729  0.122709\n",
       "9.0        0.453402  0.207675  0.237343  0.101580\n",
       "10.0       0.581161  0.254001  0.122085  0.042753\n",
       "11.0       0.462630  0.238302  0.220862  0.078206\n",
       "12.0       0.472170  0.228580  0.232333  0.066917\n",
       "13.0       0.586472  0.184093  0.175917  0.053518\n",
       "14.0       0.476699  0.233861  0.218042  0.071398\n",
       "15.0       0.521566  0.224301  0.186655  0.067478\n",
       "16.0       0.569008  0.231191  0.155456  0.044345\n",
       "17.0       0.507069  0.164310  0.238059  0.090562\n",
       "18.0       0.349505  0.290316  0.260043  0.100136\n",
       "19.0       0.175896  0.238436  0.452769  0.132899\n",
       "20.0       0.097674  0.177778  0.516279  0.208269\n",
       "21.0       0.435068  0.372480  0.144398  0.048054\n",
       "22.0       0.540107  0.163484  0.222307  0.074102\n",
       "23.0       0.295918  0.270408  0.327041  0.106633\n",
       "24.0       0.312215  0.207453  0.327122  0.153209\n",
       "25.0       0.630843  0.154614  0.164203  0.050340\n",
       "26.0       0.418632  0.190568  0.269424  0.121376\n",
       "27.0       0.620616  0.196245  0.133900  0.049238\n",
       "28.0       0.117559  0.195010  0.493220  0.194211\n",
       "29.0       0.423859  0.208766  0.274650  0.092725\n",
       "30.0       0.502748  0.282421  0.162661  0.052170\n",
       "31.0       0.191837  0.206122  0.425000  0.177041\n",
       "32.0       0.616075  0.211697  0.132759  0.039469\n",
       "33.0       0.351320  0.242880  0.286256  0.119545\n",
       "34.0       0.551683  0.195913  0.180288  0.072115\n",
       "35.0       0.352924  0.286661  0.281475  0.078940\n",
       "36.0       0.565193  0.215187  0.171195  0.048426\n",
       "37.0       0.543538  0.209780  0.173423  0.073259\n",
       "38.0       0.104640  0.256170  0.486673  0.152517\n",
       "39.0       0.321490  0.203704  0.330965  0.143842\n",
       "40.0       0.438610  0.193822  0.271042  0.096525\n",
       "41.0       0.374637  0.260582  0.273394  0.091387\n",
       "42.0       0.487310  0.169205  0.255499  0.087986\n",
       "43.0       0.362637  0.190981  0.322092  0.124290\n",
       "44.0       0.622525  0.198020  0.125000  0.054455\n",
       "45.0       0.441035  0.241392  0.244246  0.073327\n",
       "46.0       0.397894  0.193326  0.297889  0.110892\n",
       "47.0       0.493814  0.166487  0.249328  0.090371\n",
       "48.0       0.045076  0.165990  0.548173  0.240761\n",
       "49.0       0.576419  0.212882  0.144651  0.066048\n",
       "50.0       0.371376  0.225032  0.272772  0.130821\n",
       "51.0       0.207650  0.147541  0.480874  0.163934\n",
       "52.0       0.224719  0.164794  0.404494  0.205993"
      ]
     },
     "execution_count": 56,
     "metadata": {},
     "output_type": "execute_result"
    }
   ],
   "source": [
    "pd.crosstab(index = data['Region'], columns = data['Range_age'], normalize = 'index')"
   ]
  },
  {
   "cell_type": "markdown",
   "id": "d7a46692",
   "metadata": {},
   "source": [
    "## Region VS. Response"
   ]
  },
  {
   "cell_type": "markdown",
   "id": "3dc19dbf",
   "metadata": {},
   "source": [
    "**Resumo**: Informações sobre Region.\n",
    "- A Região com o maior número de clientes é 28, mas a região 38 é a que possui mais clientes interessados\n",
    "\n",
    "**Insights**\n",
    "- As Regiões com maior número de clientes utlizam mais canais de venda\n",
    "- As Regiões que possuem maior número de clientes interessados utilizam canais de venda mais efetivos\n"
   ]
  },
  {
   "cell_type": "code",
   "execution_count": 57,
   "id": "a837c85a",
   "metadata": {},
   "outputs": [
    {
     "data": {
      "application/vnd.jupyter.widget-view+json": {
       "model_id": "5c03e8c448064a6bb9fd088e79949edc",
       "version_major": 2,
       "version_minor": 0
      },
      "text/plain": [
       "                                             |          | [  0%]   00:00 -> (? left)"
      ]
     },
     "metadata": {},
     "output_type": "display_data"
    },
    {
     "name": "stdout",
     "output_type": "stream",
     "text": [
      "Report SWEETVIZ_REPORT.html was generated! NOTEBOOK/COLAB USERS: the web browser MAY not pop up, regardless, the report IS saved in your notebook/colab files.\n"
     ]
    }
   ],
   "source": [
    "my_report = sv.analyze(data,\"Response\")\n",
    "my_report.show_html()"
   ]
  },
  {
   "cell_type": "code",
   "execution_count": null,
   "id": "beneficial-peace",
   "metadata": {},
   "outputs": [],
   "source": []
  }
 ],
 "metadata": {
  "kernelspec": {
   "display_name": "Python 3 (ipykernel)",
   "language": "python",
   "name": "python3"
  },
  "language_info": {
   "codemirror_mode": {
    "name": "ipython",
    "version": 3
   },
   "file_extension": ".py",
   "mimetype": "text/x-python",
   "name": "python",
   "nbconvert_exporter": "python",
   "pygments_lexer": "ipython3",
   "version": "3.8.6"
  }
 },
 "nbformat": 4,
 "nbformat_minor": 5
}
