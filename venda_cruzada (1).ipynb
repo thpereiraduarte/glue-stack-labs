{
  "cells": [
    {
      "cell_type": "markdown",
      "source": [
        "# **Análise Exploratória de Dados**"
      ],
      "metadata": {
        "id": "R_kkiEU8wUeB"
      }
    },
    {
      "cell_type": "code",
      "source": [
        "!pip install sidetable"
      ],
      "metadata": {
        "colab": {
          "base_uri": "https://localhost:8080/"
        },
        "id": "kSNNTbS2_Ytx",
        "outputId": "242a7eb3-8aca-4cf0-c6a2-fd5b7453c841"
      },
      "execution_count": null,
      "outputs": [
        {
          "output_type": "stream",
          "name": "stdout",
          "text": [
            "Requirement already satisfied: sidetable in /usr/local/lib/python3.7/dist-packages (0.9.0)\n",
            "Requirement already satisfied: pandas>=1.0 in /usr/local/lib/python3.7/dist-packages (from sidetable) (1.3.5)\n",
            "Requirement already satisfied: python-dateutil>=2.7.3 in /usr/local/lib/python3.7/dist-packages (from pandas>=1.0->sidetable) (2.8.2)\n",
            "Requirement already satisfied: numpy>=1.17.3 in /usr/local/lib/python3.7/dist-packages (from pandas>=1.0->sidetable) (1.21.5)\n",
            "Requirement already satisfied: pytz>=2017.3 in /usr/local/lib/python3.7/dist-packages (from pandas>=1.0->sidetable) (2018.9)\n",
            "Requirement already satisfied: six>=1.5 in /usr/local/lib/python3.7/dist-packages (from python-dateutil>=2.7.3->pandas>=1.0->sidetable) (1.15.0)\n"
          ]
        }
      ]
    },
    {
      "cell_type": "markdown",
      "source": [
        "Bibliotecas"
      ],
      "metadata": {
        "id": "bEculfZ-xed2"
      }
    },
    {
      "cell_type": "code",
      "execution_count": null,
      "metadata": {
        "id": "YUhF_FJ4cWQX"
      },
      "outputs": [],
      "source": [
        "import pandas as pd\n",
        "import numpy as np\n",
        "import matplotlib.pyplot as plt\n",
        "import seaborn as sns\n",
        "import warnings\n",
        "import sidetable as stb\n",
        "\n",
        "from sklearn.preprocessing import OneHotEncoder\n",
        "warnings.filterwarnings(\"ignore\")\n"
      ]
    },
    {
      "cell_type": "markdown",
      "source": [
        "Carga dos dados"
      ],
      "metadata": {
        "id": "0RPpQm9SxmAk"
      }
    },
    {
      "cell_type": "code",
      "execution_count": null,
      "metadata": {
        "id": "IL-MzSqcdJI0"
      },
      "outputs": [],
      "source": [
        "train=pd.read_csv('/content/drive/MyDrive/seguros/train.csv')\n",
        "test=pd.read_csv('/content/drive/MyDrive/seguros/test.csv')"
      ]
    },
    {
      "cell_type": "markdown",
      "source": [
        "Cópia do dataframe train"
      ],
      "metadata": {
        "id": "eHxwd6C5xtLW"
      }
    },
    {
      "cell_type": "code",
      "execution_count": null,
      "metadata": {
        "id": "fKcATia_RYk0"
      },
      "outputs": [],
      "source": [
        "data=train.copy()"
      ]
    },
    {
      "cell_type": "code",
      "execution_count": null,
      "metadata": {
        "id": "6gxVXk1LdTyf"
      },
      "outputs": [],
      "source": [
        "data.head()"
      ]
    },
    {
      "cell_type": "markdown",
      "source": [
        "Renomeando as colunas"
      ],
      "metadata": {
        "id": "7ospWTQ8yPuo"
      }
    },
    {
      "cell_type": "code",
      "source": [
        "#lista com novos nomes das colunas\n",
        "nomes=['id','sexo','idade','habilitacao','cod_regiao','prev_seguro','veiculo_idade','veiculo_danos','taxa_anual','canal_vendas','tempo_filiado','resposta']\n",
        "\n"
      ],
      "metadata": {
        "id": "4aXM3S9-yPP7"
      },
      "execution_count": null,
      "outputs": []
    },
    {
      "cell_type": "code",
      "source": [
        "#dicionario os nomes da colunas\n",
        "colunas=dict(zip(data.columns.to_list(),nomes))\n"
      ],
      "metadata": {
        "id": "cZ9yIay52NF8"
      },
      "execution_count": null,
      "outputs": []
    },
    {
      "cell_type": "code",
      "source": [
        "#renomeando as \n",
        "data.rename(columns=colunas,inplace=True)"
      ],
      "metadata": {
        "id": "TCIU3RvI2_zj"
      },
      "execution_count": null,
      "outputs": []
    },
    {
      "cell_type": "markdown",
      "source": [
        "Infomaçãos do dataframe"
      ],
      "metadata": {
        "id": "qZXVfA7D3j-c"
      }
    },
    {
      "cell_type": "code",
      "execution_count": null,
      "metadata": {
        "id": "cg_qrbOXRwK1"
      },
      "outputs": [],
      "source": [
        "data.info()"
      ]
    },
    {
      "cell_type": "code",
      "source": [
        "desc       = [\"ID unico para o cliente.\",\n",
        "              \"Sexo do cliente.\",\n",
        "              \"Idade do cliente.\",\n",
        "              \"0: não tem habilitacao, 1: tem habilitacao.\",\n",
        "              \"Codigo unico da regiao do cliente.\",\n",
        "              \"1 : Cliente já possui seguro, 0 : Cliente não possui seguro.\",\n",
        "              \"Idade do Veiculo.\",\n",
        "              \"1 : Cliente ja teve veiculo danificado no passado. 0 : Cliente não teve veiculo danificado no passado.\",\n",
        "              \"O valor que o cliente precisa pagar como taxa no ano.\",\n",
        "              \"Código para o canal de divulgação ao cliente ou seja. Agentes diferentes, por correio, por telefone, pessoalmente, etc..\",\n",
        "              \"Número de dias, o cliente foi associado à empresa.\",\n",
        "              \"1 : Cliente esta interessado, 0 : Cliente não esta interessadpo\"]\n",
        "\n",
        "data_desc = []\n",
        "j = 0\n",
        "for column in data.columns:\n",
        "  data_desc.append(\n",
        "      [\n",
        "       column,\n",
        "       data[column].dtypes,\n",
        "       data[column].isnull().sum(),\n",
        "       round(data[column].isnull().sum()/len(data)*100, 2),\n",
        "       data[column].nunique(),\n",
        "       data[column].unique(),\n",
        "       desc[j]\n",
        "       ]\n",
        "       )\n",
        "  j += 1\n",
        "\n",
        "df = pd.DataFrame(data_desc, columns = ['Coluna', 'Dtype', 'Null', 'Null (%)', 'Nunique', 'Unique','Descrição'])\n",
        "df\n",
        "\n"
      ],
      "metadata": {
        "id": "tFIlDTryG0kr"
      },
      "execution_count": null,
      "outputs": []
    },
    {
      "cell_type": "markdown",
      "source": [
        "Registros duplicados"
      ],
      "metadata": {
        "id": "HdVkFTJT3rxe"
      }
    },
    {
      "cell_type": "code",
      "execution_count": null,
      "metadata": {
        "id": "yGin321GWi6V"
      },
      "outputs": [],
      "source": [
        "train.duplicated().sum()\n"
      ]
    },
    {
      "cell_type": "markdown",
      "source": [
        "Verificando balanceamento dos Dados"
      ],
      "metadata": {
        "id": "XRfCL35MAEhl"
      }
    },
    {
      "cell_type": "code",
      "source": [
        "g=sns.countplot(data=data,x='resposta')\n",
        "for i in g.patches:\n",
        "  g.annotate((i.get_height()/len(data)*100).round(2),\n",
        "             (i.get_x() + i.get_width()/2,i.get_height()),\n",
        "             ha='center',va='baseline',fontsize=12,color='black',\n",
        "             xytext=(0,1),textcoords='offset points')\n",
        "  \n",
        "# Apenas 12% dos clientes estão interessados ​​em comprar um seguro de veículo\n"
      ],
      "metadata": {
        "id": "HSQJRrCnAB46"
      },
      "execution_count": null,
      "outputs": []
    },
    {
      "cell_type": "markdown",
      "source": [
        "# Análise Univariada"
      ],
      "metadata": {
        "id": "iHRHEFRyF4vB"
      }
    },
    {
      "cell_type": "markdown",
      "source": [
        "Analise descritiva "
      ],
      "metadata": {
        "id": "DXNRbtAh6Jk1"
      }
    },
    {
      "cell_type": "code",
      "source": [
        "#seleciona variveis numericas e categoricas\n",
        "var_num=data.select_dtypes(exclude='object')\n",
        "var_cat=data.select_dtypes(include='object')"
      ],
      "metadata": {
        "id": "5Cp2-8QBLsOX"
      },
      "execution_count": null,
      "outputs": []
    },
    {
      "cell_type": "code",
      "source": [
        "# Media, Mediana\n",
        "tcm = pd.DataFrame( var_num.apply( np.mean ) ).T\n",
        "tcmd= pd.DataFrame( var_num.apply( np.median ) ).T\n",
        "\n",
        "#  std, min, max, range, skew, kurtosis\n",
        "dvp = pd.DataFrame( var_num.apply( np.std ) ).T \n",
        "v_min = pd.DataFrame( var_num.apply( min ) ).T \n",
        "v_max = pd.DataFrame( var_num.apply( max ) ).T \n",
        "range = pd.DataFrame( var_num.apply( lambda x: x.max() - x.min() ) ).T \n",
        "sk= pd.DataFrame( var_num.apply( lambda x: x.skew() ) ).T \n",
        "k = pd.DataFrame( var_num.apply( lambda x: x.kurtosis() ) ).T \n",
        "\n",
        "# concatenar\n",
        "df = pd.concat( [v_min, v_max, range, tcm, tcmd, dvp, sk, k] ).T.reset_index()\n",
        "df.columns = ['Variaveis', 'min', 'max', 'range', 'mean', 'median', 'std', 'skew', 'kurtosis']\n",
        "df\n",
        "#A média de dias de clientes na empresa é de 154 dias\n",
        "# nenhum cliente está na seguradora há 1 ano inteiro\n",
        "# os clientes mais antigos neste conjunto de dados são 85 e a mediana é 36\n",
        "# o valor maximo da taxa anual varia 94,13% comparado ao valor media no da taxa_anual\n"
      ],
      "metadata": {
        "id": "kMBHDgVK8dV2"
      },
      "execution_count": null,
      "outputs": []
    },
    {
      "cell_type": "code",
      "execution_count": null,
      "metadata": {
        "id": "_O-kXBBxgDTt"
      },
      "outputs": [],
      "source": [
        "plt.figure(figsize=(20,10))\n",
        "plt.subplot(3,2,1)\n",
        "plt.title('Idade')\n",
        "sns.distplot(data['idade'])\n",
        "\n",
        "plt.subplot(3,2,2)\n",
        "plt.title('Codigo da Regiao')\n",
        "\n",
        "sns.histplot(data['cod_regiao'])\n",
        "\n",
        "plt.subplot(3,2,3)\n",
        "plt.title('Taxa Anual')\n",
        "\n",
        "sns.distplot(data['taxa_anual'])\n",
        "\n",
        "plt.subplot(3,2,4)\n",
        "plt.title('Tempo Filiação em dias')\n",
        "\n",
        "sns.histplot(data['tempo_filiado'])\n",
        "\n",
        "plt.subplot(3,2,5)\n",
        "plt.title('Canal de Vendas')\n",
        "\n",
        "sns.histplot(data['canal_vendas'],bins=25)\n",
        "\n",
        "plt.subplots_adjust(left=0.1, \n",
        "                    bottom=0.1,  \n",
        "                    right=0.9,  \n",
        "                    top=0.9,  \n",
        "                    wspace=0.4,  \n",
        "                    hspace=0.4) \n",
        "\n",
        "\n"
      ]
    },
    {
      "cell_type": "code",
      "source": [
        "var_cat.describe()\n",
        "# ha mais clientes do sexo masculino\n",
        "# A maioria do clientes tem um veículo com mais de um ano e menos de dois anos\n",
        "# a maioria dos clientes neste conjunto de dados teve seu veículo danificado antes\n"
      ],
      "metadata": {
        "id": "bL7bDADKC8B7"
      },
      "execution_count": null,
      "outputs": []
    },
    {
      "cell_type": "code",
      "source": [
        "#Variavel geração baseada nas idades\n",
        "# Baseado em (https://rockcontent.com/br/blog/dossie-das-geracoes/)\n",
        "  \n",
        "    # Millenials : 18 - 34\n",
        "    # Gen X : 35 - 50\n",
        "    # Boomer : 51 - 69\n",
        "    # Silent : 70 e acima\n",
        "\n",
        "\n",
        "faixa_idade = [18, 34, 50, 69, data['idade'].max()]\n",
        "rotulo_geracao = ['Millenials', 'Gen X', 'Boomer', 'Silent']\n",
        "\n",
        "data['geracao'] = pd.cut(data['idade'], bins = faixa_idade, labels = rotulo_geracao)\n",
        "data.head()\n"
      ],
      "metadata": {
        "id": "qpczDL5kIrtz"
      },
      "execution_count": null,
      "outputs": []
    },
    {
      "cell_type": "markdown",
      "source": [
        "Verificando outliers"
      ],
      "metadata": {
        "id": "teHqhH3pAtT_"
      }
    },
    {
      "cell_type": "code",
      "source": [
        "plt.figure(figsize = (15, 10))\n",
        "x = 1      \n",
        "\n",
        "for column in var_num:\n",
        "    plt.subplot(3,3,x)\n",
        "    sns.boxplot(data[column])\n",
        "    x += 1\n",
        "# podemos ver que há muitos outliers na coluna taxa_anual"
      ],
      "metadata": {
        "id": "cypg8jifAr7-"
      },
      "execution_count": null,
      "outputs": []
    },
    {
      "cell_type": "code",
      "execution_count": null,
      "metadata": {
        "id": "84IfAU79kfzS"
      },
      "outputs": [],
      "source": [
        "fig, ax = plt.subplots(figsize=(20,15))\n",
        "\n",
        "plt.subplot(3,2,1)\n",
        "plt.title('Sexo do Cliente')\n",
        "ax=sns.countplot(data=data,x='sexo')\n",
        "for i in ax.patches:\n",
        "  ax.annotate((i.get_height()/len(data)*100).round(2),\n",
        "             (i.get_x() + i.get_width()/2,i.get_height()),\n",
        "             ha='center',va='baseline',fontsize=12,color='black',\n",
        "             xytext=(0,1),textcoords='offset points')\n",
        "  \n",
        "plt.subplot(3,2,2)\n",
        "plt.title('Idade do Veiculo')\n",
        "ax=sns.countplot(data=data,x='veiculo_idade')\n",
        "for i in ax.patches:\n",
        "  ax.annotate((i.get_height()/len(data)*100).round(2),\n",
        "             (i.get_x() + i.get_width()/2,i.get_height()),\n",
        "             ha='center',va='baseline',fontsize=12,color='black',\n",
        "             xytext=(0,1),textcoords='offset points')\n",
        "  \n",
        "plt.subplot(3,2,3)\n",
        "plt.title('Danos no Veiculo')\n",
        "\n",
        "ax=sns.countplot(data=data,x='veiculo_danos')\n",
        "for i in ax.patches:\n",
        "  ax.annotate((i.get_height()/len(data)*100).round(2),\n",
        "             (i.get_x() + i.get_width()/2,i.get_height()),\n",
        "             ha='center',va='baseline',fontsize=12,color='black',\n",
        "             xytext=(0,1),textcoords='offset points')\n",
        "  \n",
        "plt.subplot(3,2,4)\n",
        "plt.title('Habilitação')\n",
        "ax =sns.countplot(data=data,x='habilitacao')\n",
        "for i in ax.patches:\n",
        "  ax.annotate((i.get_height()/len(data)*100).round(2),\n",
        "             (i.get_x() + i.get_width()/2,i.get_height()),\n",
        "             ha='center',va='baseline',fontsize=12,color='black',\n",
        "             xytext=(0,1),textcoords='offset points')\n",
        "plt.subplot(3,2,5)\n",
        "plt.title('Previamente Asegurado')\n",
        "ax =sns.countplot(data=data,x='prev_seguro')\n",
        "for i in ax.patches:\n",
        "  ax.annotate((i.get_height()/len(data)*100).round(2),\n",
        "             (i.get_x() + i.get_width()/2,i.get_height()),\n",
        "             ha='center',va='baseline',fontsize=12,color='black',\n",
        "             xytext=(0,1),textcoords='offset points')\n",
        "  \n",
        "plt.subplot(3,2,6)\n",
        "plt.title('Geração')\n",
        "ax =sns.countplot(data=data,x='geracao')\n",
        "for i in ax.patches:\n",
        "  ax.annotate((i.get_height()/len(data)*100).round(2),\n",
        "             (i.get_x() + i.get_width()/2,i.get_height()),\n",
        "             ha='center',va='baseline',fontsize=12,color='black',\n",
        "             xytext=(0,1),textcoords='offset points')\n",
        "  \n",
        "plt.subplots_adjust(left=0.1, \n",
        "                    bottom=0.1,  \n",
        "                    right=0.9,  \n",
        "                    top=0.9,  \n",
        "                    wspace=0.4,  \n",
        "                    hspace=0.4) \n",
        "# 54% do cliente do seguro saúde é do sexo masculino\n",
        "# um pouco mais da metade dos clientes não possui seguro de veículo\n",
        "# 4% dos clientes têm veículo com mais de 2 anos\n",
        "# metade dos clientes já teve seu veículo danificado e metade não\n",
        "# A maior parte dos clientes pertencem a millenials\n",
        "\n"
      ]
    },
    {
      "cell_type": "code",
      "source": [
        "data['idade'].mean()\n",
        "#idade média dos clientes é de cerca de 38 a 39 anos\n",
        "\n"
      ],
      "metadata": {
        "id": "3yxUuMkq-MBi"
      },
      "execution_count": null,
      "outputs": []
    },
    {
      "cell_type": "code",
      "source": [
        "data.stb.freq(['cod_regiao'], cum_cols=False)\n",
        "# código de região 28 tem o maior número de clientes enquando o codigo 52 possui o menor\n",
        "\n"
      ],
      "metadata": {
        "id": "ZFAkQ1Cr_NhQ"
      },
      "execution_count": null,
      "outputs": []
    },
    {
      "cell_type": "code",
      "source": [
        "data.stb.freq(['canal_vendas'], cum_cols=False)\n",
        "# canal de vendas 152,26,124 são os que possuem uma taxa de sucesso mais efetiva em realizar vendas\n",
        "# os demais canais ficam abaixo de 5% de resposta efetiva\n"
      ],
      "metadata": {
        "id": "Mlm7CLRrCR3V"
      },
      "execution_count": null,
      "outputs": []
    },
    {
      "cell_type": "markdown",
      "source": [
        "# **Analise Multivariada**\n"
      ],
      "metadata": {
        "id": "XPjKWwIIGB6o"
      }
    },
    {
      "cell_type": "code",
      "source": [
        "plt.figure(figsize = (18, 5))\n",
        "plt.title('Sexo x Resposta',fontsize=20)\n",
        "ax=sns.countplot(data['sexo'], hue = data['resposta'])\n",
        "for i in ax.patches:\n",
        "  ax.annotate((i.get_height()/len(data)*100).round(2),\n",
        "             (i.get_x() + i.get_width()/2,i.get_height()),\n",
        "             ha='center',va='baseline',fontsize=12,color='black',\n",
        "             xytext=(0,1),textcoords='offset points')\n"
      ],
      "metadata": {
        "id": "z-WXlHqNL1dr"
      },
      "execution_count": null,
      "outputs": []
    },
    {
      "cell_type": "code",
      "source": [
        "pd.crosstab(index = data['resposta'], columns = data['sexo'], normalize = 'index')\n",
        "#Homens possuem mais interesse em contratar seguro de automovel do que mulheres"
      ],
      "metadata": {
        "id": "LylEUYymO3-i"
      },
      "execution_count": null,
      "outputs": []
    },
    {
      "cell_type": "code",
      "source": [
        "data[['resposta','idade']].groupby(['resposta']).mean()"
      ],
      "metadata": {
        "id": "f-XrOl-3QBSz"
      },
      "execution_count": null,
      "outputs": []
    },
    {
      "cell_type": "code",
      "source": [
        "plt.figure(figsize = (18, 5))\n",
        "plt.title('Idade x  Resposta',fontsize=20)\n",
        "sns.boxplot(x=data['resposta'], y = data['idade'])\n"
      ],
      "metadata": {
        "id": "bx3Xv3gzrJT3"
      },
      "execution_count": null,
      "outputs": []
    },
    {
      "cell_type": "code",
      "source": [
        "plt.figure(figsize = (18, 5))\n",
        "plt.title('Faixa de Idade x  Resposta',fontsize=20)\n",
        "x_idade=data.copy()\n",
        "x_idade['faixa_idade']=data['idade'].apply(lambda x: 'ate_30' if x<30 else 'ate_50' if x>=30 and x<50 else 'maior_50')\n",
        "x_idade=x_idade[['faixa_idade','resposta']].groupby(['faixa_idade','resposta']).size().reset_index().rename(columns={0:'qtd'})\n",
        "ax=sns.barplot(data=x_idade,x='faixa_idade',y='qtd',hue='resposta');\n",
        "for i in ax.patches:\n",
        "  ax.annotate((i.get_height()/len(data)*100).round(2),\n",
        "             (i.get_x() + i.get_width()/2,i.get_height()),\n",
        "             ha='center',va='baseline',fontsize=12,color='black',\n",
        "             xytext=(0,1),textcoords='offset points')\n",
        "total=sum(x_idade['qtd'])\n",
        "\n",
        "# idade média do cliente interessado no seguro do veículo é de 43 anos\n",
        "# Podemos ver que clientes mais jovens não estão interessados ​​no seguro do veículo"
      ],
      "metadata": {
        "id": "CqdRaKAHxorZ"
      },
      "execution_count": null,
      "outputs": []
    },
    {
      "cell_type": "code",
      "source": [
        "pd.pivot_table(data,index=[\"resposta\",\"habilitacao\"],values=[\"idade\"],aggfunc=np.mean)\n",
        "# Os clientes que não possuem habilitação tem em media idade acima dos 60 anos\n",
        "# Não ha tantos dados sobre não habilitados porque a maioria deles é acima dos 60 anos e a maioria dos clientes da base esta na faixa de 40 anos\n"
      ],
      "metadata": {
        "id": "o-YeNOy5uoI2"
      },
      "execution_count": null,
      "outputs": []
    },
    {
      "cell_type": "code",
      "source": [
        "plt.figure(figsize = (18, 5))\n",
        "plt.title('Habilitação x Resposta',fontsize=20)\n",
        "ax=sns.countplot(data['habilitacao'], hue = data['resposta'])\n",
        "for i in ax.patches:\n",
        "  ax.annotate((i.get_height()/len(data)*100).round(2),\n",
        "             (i.get_x() + i.get_width()/2,i.get_height()),\n",
        "             ha='center',va='baseline',fontsize=12,color='black',\n",
        "             xytext=(0,1),textcoords='offset points')"
      ],
      "metadata": {
        "id": "kRVjfMlylQr1"
      },
      "execution_count": null,
      "outputs": []
    },
    {
      "cell_type": "code",
      "source": [
        "pd.crosstab(index = data['cod_regiao'], columns = data['resposta'], normalize = 'index').sort_values(1,ascending = False).head(5)\n"
      ],
      "metadata": {
        "colab": {
          "base_uri": "https://localhost:8080/",
          "height": 238
        },
        "id": "uTb5Mdga64rg",
        "outputId": "ebaabf91-04ca-495a-fea1-4af97c1cdd0e"
      },
      "execution_count": null,
      "outputs": [
        {
          "output_type": "execute_result",
          "data": {
            "text/plain": [
              "resposta           0         1\n",
              "cod_regiao                    \n",
              "38.0        0.807996  0.192004\n",
              "28.0        0.812837  0.187163\n",
              "19.0        0.837134  0.162866\n",
              "4.0         0.841755  0.158245\n",
              "23.0        0.846939  0.153061"
            ],
            "text/html": [
              "\n",
              "  <div id=\"df-dd60c329-0bef-4177-98f1-950bf19b0159\">\n",
              "    <div class=\"colab-df-container\">\n",
              "      <div>\n",
              "<style scoped>\n",
              "    .dataframe tbody tr th:only-of-type {\n",
              "        vertical-align: middle;\n",
              "    }\n",
              "\n",
              "    .dataframe tbody tr th {\n",
              "        vertical-align: top;\n",
              "    }\n",
              "\n",
              "    .dataframe thead th {\n",
              "        text-align: right;\n",
              "    }\n",
              "</style>\n",
              "<table border=\"1\" class=\"dataframe\">\n",
              "  <thead>\n",
              "    <tr style=\"text-align: right;\">\n",
              "      <th>resposta</th>\n",
              "      <th>0</th>\n",
              "      <th>1</th>\n",
              "    </tr>\n",
              "    <tr>\n",
              "      <th>cod_regiao</th>\n",
              "      <th></th>\n",
              "      <th></th>\n",
              "    </tr>\n",
              "  </thead>\n",
              "  <tbody>\n",
              "    <tr>\n",
              "      <th>38.0</th>\n",
              "      <td>0.807996</td>\n",
              "      <td>0.192004</td>\n",
              "    </tr>\n",
              "    <tr>\n",
              "      <th>28.0</th>\n",
              "      <td>0.812837</td>\n",
              "      <td>0.187163</td>\n",
              "    </tr>\n",
              "    <tr>\n",
              "      <th>19.0</th>\n",
              "      <td>0.837134</td>\n",
              "      <td>0.162866</td>\n",
              "    </tr>\n",
              "    <tr>\n",
              "      <th>4.0</th>\n",
              "      <td>0.841755</td>\n",
              "      <td>0.158245</td>\n",
              "    </tr>\n",
              "    <tr>\n",
              "      <th>23.0</th>\n",
              "      <td>0.846939</td>\n",
              "      <td>0.153061</td>\n",
              "    </tr>\n",
              "  </tbody>\n",
              "</table>\n",
              "</div>\n",
              "      <button class=\"colab-df-convert\" onclick=\"convertToInteractive('df-dd60c329-0bef-4177-98f1-950bf19b0159')\"\n",
              "              title=\"Convert this dataframe to an interactive table.\"\n",
              "              style=\"display:none;\">\n",
              "        \n",
              "  <svg xmlns=\"http://www.w3.org/2000/svg\" height=\"24px\"viewBox=\"0 0 24 24\"\n",
              "       width=\"24px\">\n",
              "    <path d=\"M0 0h24v24H0V0z\" fill=\"none\"/>\n",
              "    <path d=\"M18.56 5.44l.94 2.06.94-2.06 2.06-.94-2.06-.94-.94-2.06-.94 2.06-2.06.94zm-11 1L8.5 8.5l.94-2.06 2.06-.94-2.06-.94L8.5 2.5l-.94 2.06-2.06.94zm10 10l.94 2.06.94-2.06 2.06-.94-2.06-.94-.94-2.06-.94 2.06-2.06.94z\"/><path d=\"M17.41 7.96l-1.37-1.37c-.4-.4-.92-.59-1.43-.59-.52 0-1.04.2-1.43.59L10.3 9.45l-7.72 7.72c-.78.78-.78 2.05 0 2.83L4 21.41c.39.39.9.59 1.41.59.51 0 1.02-.2 1.41-.59l7.78-7.78 2.81-2.81c.8-.78.8-2.07 0-2.86zM5.41 20L4 18.59l7.72-7.72 1.47 1.35L5.41 20z\"/>\n",
              "  </svg>\n",
              "      </button>\n",
              "      \n",
              "  <style>\n",
              "    .colab-df-container {\n",
              "      display:flex;\n",
              "      flex-wrap:wrap;\n",
              "      gap: 12px;\n",
              "    }\n",
              "\n",
              "    .colab-df-convert {\n",
              "      background-color: #E8F0FE;\n",
              "      border: none;\n",
              "      border-radius: 50%;\n",
              "      cursor: pointer;\n",
              "      display: none;\n",
              "      fill: #1967D2;\n",
              "      height: 32px;\n",
              "      padding: 0 0 0 0;\n",
              "      width: 32px;\n",
              "    }\n",
              "\n",
              "    .colab-df-convert:hover {\n",
              "      background-color: #E2EBFA;\n",
              "      box-shadow: 0px 1px 2px rgba(60, 64, 67, 0.3), 0px 1px 3px 1px rgba(60, 64, 67, 0.15);\n",
              "      fill: #174EA6;\n",
              "    }\n",
              "\n",
              "    [theme=dark] .colab-df-convert {\n",
              "      background-color: #3B4455;\n",
              "      fill: #D2E3FC;\n",
              "    }\n",
              "\n",
              "    [theme=dark] .colab-df-convert:hover {\n",
              "      background-color: #434B5C;\n",
              "      box-shadow: 0px 1px 3px 1px rgba(0, 0, 0, 0.15);\n",
              "      filter: drop-shadow(0px 1px 2px rgba(0, 0, 0, 0.3));\n",
              "      fill: #FFFFFF;\n",
              "    }\n",
              "  </style>\n",
              "\n",
              "      <script>\n",
              "        const buttonEl =\n",
              "          document.querySelector('#df-dd60c329-0bef-4177-98f1-950bf19b0159 button.colab-df-convert');\n",
              "        buttonEl.style.display =\n",
              "          google.colab.kernel.accessAllowed ? 'block' : 'none';\n",
              "\n",
              "        async function convertToInteractive(key) {\n",
              "          const element = document.querySelector('#df-dd60c329-0bef-4177-98f1-950bf19b0159');\n",
              "          const dataTable =\n",
              "            await google.colab.kernel.invokeFunction('convertToInteractive',\n",
              "                                                     [key], {});\n",
              "          if (!dataTable) return;\n",
              "\n",
              "          const docLinkHtml = 'Like what you see? Visit the ' +\n",
              "            '<a target=\"_blank\" href=https://colab.research.google.com/notebooks/data_table.ipynb>data table notebook</a>'\n",
              "            + ' to learn more about interactive tables.';\n",
              "          element.innerHTML = '';\n",
              "          dataTable['output_type'] = 'display_data';\n",
              "          await google.colab.output.renderOutput(dataTable, element);\n",
              "          const docLink = document.createElement('div');\n",
              "          docLink.innerHTML = docLinkHtml;\n",
              "          element.appendChild(docLink);\n",
              "        }\n",
              "      </script>\n",
              "    </div>\n",
              "  </div>\n",
              "  "
            ]
          },
          "metadata": {},
          "execution_count": 231
        }
      ]
    },
    {
      "cell_type": "code",
      "source": [
        "# região 28 tem o maior número de clientes e com maior precentuas de clientes interessados\n",
        "# A regiao 38 possui mais clientes interessados se comparada com a regiao 28\n",
        "# As regiao com melhor percentual de resposta utilizam os canais de venda mais eficientes\n",
        "\n",
        "plt.figure(figsize = (18, 5))\n",
        "plt.title('Codigo Região x Resposta',fontsize=20)\n",
        "ax=sns.countplot(data['cod_regiao'], hue = data['resposta'])\n",
        "ax.set_xticklabels(ax.get_xticks(), rotation = 90) \n"
      ],
      "metadata": {
        "id": "giJ_RKEg1Jsk"
      },
      "execution_count": null,
      "outputs": []
    },
    {
      "cell_type": "code",
      "source": [
        "pd.crosstab(index = data['cod_regiao'], columns = data['resposta'], normalize = 'index').sort_values(1, ascending = False).head()\n"
      ],
      "metadata": {
        "id": "XXAAVoODe1hx"
      },
      "execution_count": null,
      "outputs": []
    },
    {
      "cell_type": "code",
      "source": [
        "plt.figure(figsize = (18, 5))\n",
        "plt.title('Codigo Região x Idade x Resposta',fontsize=20)\n",
        "ax=sns.violinplot(data = data,x = 'cod_regiao', y = 'idade', hue = 'resposta', split = True, linewidth = 1)\n",
        "ax.set_xticklabels(ax.get_xticks(), rotation = 90) \n",
        "ax.legend(loc = 2,bbox_to_anchor = (1,1))\n"
      ],
      "metadata": {
        "id": "ykxg_gxS-NNq"
      },
      "execution_count": null,
      "outputs": []
    },
    {
      "cell_type": "code",
      "source": [
        "plt.figure(figsize = (18, 5))\n",
        "plt.title('Codigo Região x Canal de Vendas',fontsize=20)\n",
        "ax=sns.violinplot(data = data,x = 'cod_regiao', y = 'canal_vendas', split = True, linewidth = 1)\n",
        "ax.set_xticklabels(ax.get_xticks(), rotation = 90) \n",
        "ax.legend(loc = 2,bbox_to_anchor = (1,1))\n"
      ],
      "metadata": {
        "id": "3yeeBkPjZIaU"
      },
      "execution_count": null,
      "outputs": []
    },
    {
      "cell_type": "code",
      "source": [
        "plt.figure(figsize = (18, 5))\n",
        "plt.title('Codigo Região x Canal de Vendas x Resposta',fontsize=20)\n",
        "ax=sns.violinplot(data = data,x = 'cod_regiao', y = 'canal_vendas', hue = 'resposta', split = True, linewidth = 1)\n",
        "ax.set_xticklabels(ax.get_xticks(), rotation = 90) \n",
        "ax.legend(loc = 2,bbox_to_anchor = (1,1))\n"
      ],
      "metadata": {
        "id": "HFcgf0tqOGot"
      },
      "execution_count": null,
      "outputs": []
    },
    {
      "cell_type": "code",
      "source": [
        "pd.crosstab(index = data['resposta'], columns = data['prev_seguro'], normalize = 'columns')"
      ],
      "metadata": {
        "id": "4qPSULYbm1sX"
      },
      "execution_count": null,
      "outputs": []
    },
    {
      "cell_type": "code",
      "source": [
        "plt.figure(figsize = (18, 5))\n",
        "plt.title('Previamente Segurado x Resposta',fontsize=20)\n",
        "ax=sns.countplot(data['prev_seguro'], hue = data['resposta'])\n",
        "for i in ax.patches:\n",
        "  ax.annotate((i.get_height()/len(data)*100).round(2),\n",
        "             (i.get_x() + i.get_width()/2,i.get_height()),\n",
        "             ha='center',va='baseline',fontsize=12,color='black',\n",
        "             xytext=(0,1),textcoords='offset points')\n",
        "  # clientes que ja possuem seguro de automovel mostram não tem interesse em adquirir um novo seguro\n",
        "  # dos clientes que não possuem seguro apenas 12% se mostraram interessados em adquirir um seguro de automovel"
      ],
      "metadata": {
        "id": "uy3tfWD178jL"
      },
      "execution_count": null,
      "outputs": []
    },
    {
      "cell_type": "code",
      "source": [
        "pd.crosstab(index = data['prev_seguro'], columns = data['resposta'], normalize = 'columns')\n"
      ],
      "metadata": {
        "id": "Ghnh9Z-4Q5gC"
      },
      "execution_count": null,
      "outputs": []
    },
    {
      "cell_type": "code",
      "source": [
        "data[['prev_seguro','idade']].groupby(['prev_seguro']).mean()\n",
        "#Clientes mais jovens provavelmente ja posssuem um seguro de automovel"
      ],
      "metadata": {
        "id": "sjWnThholKIe"
      },
      "execution_count": null,
      "outputs": []
    },
    {
      "cell_type": "code",
      "source": [
        "plt.figure(figsize = (18, 5))\n",
        "plt.title('Idade x Previamente Segurado x Resposta',fontsize=20)\n",
        "x_idade=data.copy()\n",
        "x_idade['faixa_idade']=data['idade'].apply(lambda x: 'ate_30' if x<30 else 'ate_50' if x>=30 and x<50 else 'maior_50')\n",
        "x_idade=x_idade[['faixa_idade','prev_seguro']].groupby(['faixa_idade','prev_seguro']).size().reset_index().rename(columns={0:'qtd'})\n",
        "ax=sns.barplot(data=x_idade,x='faixa_idade',y='qtd',hue='prev_seguro');\n",
        "for i in ax.patches:\n",
        "  ax.annotate((i.get_height()/len(data)*100).round(2),\n",
        "             (i.get_x() + i.get_width()/2,i.get_height()),\n",
        "             ha='center',va='baseline',fontsize=12,color='black',\n",
        "             xytext=(0,1),textcoords='offset points')\n",
        "total=sum(x_idade['qtd'])"
      ],
      "metadata": {
        "id": "5Y-hEqlO8MVN"
      },
      "execution_count": null,
      "outputs": []
    },
    {
      "cell_type": "code",
      "source": [
        "plt.figure(figsize = (18, 5))\n",
        "x_idade=data.copy()\n",
        "x_idade['faixa_idade']=data['idade'].apply(lambda x: 'ate_30' if x<30 else 'ate_50' if x>=30 and x<50 else 'maior_50')\n",
        "x_idade=x_idade[['faixa_idade','resposta']].groupby(['faixa_idade','resposta']).size().reset_index().rename(columns={0:'qtd'})\n",
        "x_idade=x_idade[x_idade['resposta']==1]\n",
        "ax=sns.barplot(data=x_idade,x='faixa_idade',y='qtd');\n",
        "for p in ax.patches:\n",
        "  height = p.get_height()\n",
        "  ax.text(p.get_x()+p.get_width()/2.,\n",
        "                height,\n",
        "                '{:1.2f}'.format(height/total*100),\n",
        "                ha=\"center\") \n",
        "\n",
        "total=sum(x_idade['qtd'])\n",
        "#cerca de  87% dos clientes interessados tem mais que 30 anos de idade\n",
        "\n"
      ],
      "metadata": {
        "id": "PYuFqfO1opGg"
      },
      "execution_count": null,
      "outputs": []
    },
    {
      "cell_type": "code",
      "source": [
        "plt.figure(figsize = (18, 5))\n",
        "plt.title('Idade Veiculo x Resposta',fontsize=20)\n",
        "ax=sns.countplot(data['veiculo_idade'], hue = data['resposta'])\n",
        "for i in ax.patches:\n",
        "  ax.annotate((i.get_height()/len(data)*100).round(2),\n",
        "             (i.get_x() + i.get_width()/2,i.get_height()),\n",
        "             ha='center',va='baseline',fontsize=12,color='black',\n",
        "             xytext=(0,1),textcoords='offset points')\n",
        "#clientes que possuem veículo com mais de 2 anos tem maior probabilidade de se interessar pelo seguro do veículo\n"
      ],
      "metadata": {
        "id": "c-DOWlciF3eV"
      },
      "execution_count": null,
      "outputs": []
    },
    {
      "cell_type": "code",
      "source": [
        "pd.crosstab(index = data['prev_seguro'], columns = data['veiculo_idade'], normalize = 'columns')\n",
        "#Quanto mais novo o veículo, maior a probabilidade de estar segurado\n"
      ],
      "metadata": {
        "id": "HsJ5C0WBHUnV"
      },
      "execution_count": null,
      "outputs": []
    },
    {
      "cell_type": "code",
      "source": [
        "plt.figure(figsize = (18, 5))\n",
        "plt.title('Idade Veiculo x Previamente Segurado',fontsize=20)\n",
        "ax=sns.countplot(data['veiculo_idade'], hue = data['prev_seguro'])\n",
        "for i in ax.patches:\n",
        "  ax.annotate((i.get_height()/len(data)*100).round(2),\n",
        "             (i.get_x() + i.get_width()/2,i.get_height()),\n",
        "             ha='center',va='baseline',fontsize=12,color='black',\n",
        "             xytext=(0,1),textcoords='offset points')"
      ],
      "metadata": {
        "id": "4ZhtkjddKbrJ"
      },
      "execution_count": null,
      "outputs": []
    },
    {
      "cell_type": "code",
      "source": [
        "pd.crosstab(index = data['resposta'], columns = [data['veiculo_idade'], data['prev_seguro']], normalize = 'columns')\n"
      ],
      "metadata": {
        "id": "nqWBUzMZIgh8"
      },
      "execution_count": null,
      "outputs": []
    },
    {
      "cell_type": "code",
      "source": [
        "plt.figure(figsize = (18, 5))\n",
        "plt.title('Danos no veiculo x Resposta',fontsize=20)\n",
        "ax=sns.countplot(data['veiculo_danos'], hue = data['resposta'])\n",
        "for i in ax.patches:\n",
        "  ax.annotate((i.get_height()/len(data)*100).round(2),\n",
        "             (i.get_x() + i.get_width()/2,i.get_height()),\n",
        "             ha='center',va='baseline',fontsize=12,color='black',\n",
        "             xytext=(0,1),textcoords='offset points')\n"
      ],
      "metadata": {
        "id": "ofogSq3HKzN2"
      },
      "execution_count": null,
      "outputs": []
    },
    {
      "cell_type": "code",
      "source": [
        "pd.crosstab(index = data['resposta'], columns = data['veiculo_danos'], normalize = 'index')\n",
        "# Dos clientes que tiveram danos no veiculo 98% tem interesse em contratar seguro\n"
      ],
      "metadata": {
        "id": "0-Lou2pNLmDG"
      },
      "execution_count": null,
      "outputs": []
    },
    {
      "cell_type": "code",
      "source": [
        "plt.figure(figsize = (18, 5))\n",
        "plt.title('Danos no veiculo x Sexo',fontsize=20)\n",
        "ax=sns.countplot(data['veiculo_danos'], hue = data['sexo'])\n",
        "for i in ax.patches:\n",
        "  ax.annotate((i.get_height()/len(data)*100).round(2),\n",
        "             (i.get_x() + i.get_width()/2,i.get_height()),\n",
        "             ha='center',va='baseline',fontsize=12,color='black',\n",
        "             xytext=(0,1),textcoords='offset points')\n",
        "ax.legend(loc = 1)\n",
        "\n",
        "\n",
        " #homens tem mais danos em veiculos do que mulheres "
      ],
      "metadata": {
        "id": "CKuak17nVFlg"
      },
      "execution_count": null,
      "outputs": []
    },
    {
      "cell_type": "code",
      "source": [
        "plt.figure(figsize = (18, 5))\n",
        "plt.title('Danos no veiculo x Previamente segurado',fontsize=20)\n",
        "ax=sns.countplot(data['veiculo_danos'], hue = data['prev_seguro'])\n",
        "for i in ax.patches:\n",
        "  ax.annotate((i.get_height()/len(data)*100).round(2),\n",
        "             (i.get_x() + i.get_width()/2,i.get_height()),\n",
        "             ha='center',va='baseline',fontsize=12,color='black',\n",
        "             xytext=(0,1),textcoords='offset points')\n",
        "ax.legend(loc = 1)\n",
        "#clientes que tiveram seu veículo danificado anteriormente não possuem seguro do veículo\n",
        "# 87% dos clientes que nunca tiveram nenhum veículo danificado possuem seguro de veículo\n",
        "# Pessoas que têm seguro de veículo são mais propensas a ter cuidado com seu veículo\n"
      ],
      "metadata": {
        "id": "6Sf5H9hOQXq5"
      },
      "execution_count": null,
      "outputs": []
    },
    {
      "cell_type": "code",
      "source": [
        "pd.crosstab(index = data['prev_seguro'], columns = data['veiculo_danos'], normalize = 'columns')\n"
      ],
      "metadata": {
        "id": "4-AOugWi5nbh"
      },
      "execution_count": null,
      "outputs": []
    },
    {
      "cell_type": "code",
      "source": [
        "pd.crosstab(data.veiculo_idade, data.veiculo_danos, normalize = 'index')\n",
        "# Carros com mais de 2 anos são mais propensos a ter sofrido algum dano"
      ],
      "metadata": {
        "id": "vq1YEQgoRHNF"
      },
      "execution_count": null,
      "outputs": []
    },
    {
      "cell_type": "code",
      "source": [
        "plt.figure(figsize = (18, 5))\n",
        "plt.title('Idade do Veiculo x Danos no veiculo',fontsize=20)\n",
        "ax=sns.countplot(data['veiculo_idade'], hue = data['veiculo_danos'])\n",
        "for i in ax.patches:\n",
        "  ax.annotate((i.get_height()/len(data)*100).round(2),\n",
        "             (i.get_x() + i.get_width()/2,i.get_height()),\n",
        "             ha='center',va='baseline',fontsize=12,color='black',\n",
        "             xytext=(0,1),textcoords='offset points')"
      ],
      "metadata": {
        "id": "bpyBwYKTRsBK"
      },
      "execution_count": null,
      "outputs": []
    },
    {
      "cell_type": "code",
      "source": [
        "pd.crosstab(index = data['resposta'], columns = [data['veiculo_danos'], data['prev_seguro']], normalize = 'index')\n",
        "#dos clientes interessados a maioria deles não tem seguro do veículo e teve danos no veículo no passado\n",
        "#clientes que nunca tiveram danos no veículo e possuem seguro de não  estão interessado em outro seguro de veículo\n"
      ],
      "metadata": {
        "id": "_RoFpe8pSQ7-"
      },
      "execution_count": null,
      "outputs": []
    },
    {
      "cell_type": "code",
      "source": [
        "plt.figure(figsize=(20,10))\n",
        "sns.kdeplot(data=data, x = 'taxa_anual', hue = 'resposta',multiple='fill')\n",
        "           \n",
        "    "
      ],
      "metadata": {
        "id": "s-OodGstESDV"
      },
      "execution_count": null,
      "outputs": []
    },
    {
      "cell_type": "code",
      "source": [
        "data[['resposta','taxa_anual']].groupby(['resposta']).median()"
      ],
      "metadata": {
        "id": "fz-YrC0y91sd"
      },
      "execution_count": null,
      "outputs": []
    },
    {
      "cell_type": "code",
      "source": [
        "data[['veiculo_idade','taxa_anual']].groupby(['veiculo_idade']).median().plot(kind='bar',figsize=(15,8))\n",
        "#A taxa anual media maior para veiculos com mais de 2 anos"
      ],
      "metadata": {
        "id": "JvCW3iB2-1hx"
      },
      "execution_count": null,
      "outputs": []
    },
    {
      "cell_type": "code",
      "execution_count": null,
      "metadata": {
        "id": "Uo62ryOfHxAz"
      },
      "outputs": [],
      "source": [
        "plt.figure(figsize=(15,8))\n",
        "sns.kdeplot(data=data, x = 'tempo_filiado', hue = 'resposta',multiple='fill')"
      ]
    },
    {
      "cell_type": "code",
      "source": [
        "data[['resposta','tempo_filiado']].groupby(['resposta']).mean()\n",
        "# Tempo de filiacao não interfere na resposta do cliente"
      ],
      "metadata": {
        "id": "2g21MRWBEOTv"
      },
      "execution_count": null,
      "outputs": []
    },
    {
      "cell_type": "code",
      "source": [
        "plt.figure(figsize = (14, 7))\n",
        "ax=sns.countplot(data['geracao'], hue = data['resposta'])\n",
        "for i in ax.patches:\n",
        "  ax.annotate((i.get_height()/len(data)*100).round(2),\n",
        "             (i.get_x() + i.get_width()/2,i.get_height()),\n",
        "             ha='center',va='baseline',fontsize=12,color='black',\n",
        "             xytext=(0,1),textcoords='offset points')\n",
        " # A geraçao GenX e Boomer tem maior interesse por seguros"
      ],
      "metadata": {
        "id": "WO7k923oE9wt"
      },
      "execution_count": null,
      "outputs": []
    },
    {
      "cell_type": "code",
      "source": [
        "pd.crosstab(index = data['geracao'], columns = [data['veiculo_danos'], data['resposta']], normalize = 'columns')\n",
        "#Dos clientes que tiveram danos a Gen X é mais interessadas em seguros"
      ],
      "metadata": {
        "id": "qFQH_BL6GJS2"
      },
      "execution_count": null,
      "outputs": []
    },
    {
      "cell_type": "code",
      "source": [
        "pd.crosstab(index = data['geracao'], columns = data['veiculo_danos'], normalize = 'index')\n",
        "# GenX e Boomer são as que mais tem veiculos que sofreram danos"
      ],
      "metadata": {
        "id": "UYTJwOkqGrfL"
      },
      "execution_count": null,
      "outputs": []
    },
    {
      "cell_type": "code",
      "source": [
        "plt.figure(figsize=(15,8))\n",
        "sns.violinplot(x=data['geracao'], y = data['taxa_anual'],split=True)\n"
      ],
      "metadata": {
        "id": "aAfBKjImHbmF"
      },
      "execution_count": null,
      "outputs": []
    },
    {
      "cell_type": "code",
      "source": [
        "plt.figure(figsize = (14, 5))\n",
        "ax=sns.countplot(x = data['prev_seguro'], hue = data['geracao'])\n",
        "for i in ax.patches:\n",
        "  ax.annotate((i.get_height()/len(data)*100).round(2),\n",
        "             (i.get_x() + i.get_width()/2,i.get_height()),\n",
        "             ha='center',va='baseline',fontsize=12,color='black',\n",
        "             xytext=(0,1),textcoords='offset points')\n",
        "\n"
      ],
      "metadata": {
        "id": "Sz0NVA06I75E"
      },
      "execution_count": null,
      "outputs": []
    },
    {
      "cell_type": "code",
      "source": [
        "pd.crosstab(index = data['geracao'], columns = data['prev_seguro'], normalize = 'index')\n",
        "#A geração do milênio 62,7% já possuem previamente seguro de automovel\n",
        "# mostra que a geração X 72% não possuem previamente seguro de automovel\n"
      ],
      "metadata": {
        "id": "FpvFi8tOJ3Jy"
      },
      "execution_count": null,
      "outputs": []
    },
    {
      "cell_type": "code",
      "source": [
        "plt.figure(figsize = (14, 5))\n",
        "ax=sns.countplot(x = data['veiculo_idade'], hue = data['geracao'])\n",
        "for i in ax.patches:\n",
        "  ax.annotate((i.get_height()/len(data)*100).round(2),\n",
        "             (i.get_x() + i.get_width()/2,i.get_height()),\n",
        "             ha='center',va='baseline',fontsize=12,color='black',\n",
        "             xytext=(0,1),textcoords='offset points')\n",
        " # A maioria da geracao millenials  tem veiculos com menos de 1 ano de idade\n"
      ],
      "metadata": {
        "id": "5HTItZ5uI7tO"
      },
      "execution_count": null,
      "outputs": []
    },
    {
      "cell_type": "code",
      "source": [
        "plt.figure(figsize = (14, 5))\n",
        "ax=sns.countplot(x = data['veiculo_danos'], hue = data['geracao'])\n",
        "for i in ax.patches:\n",
        "  ax.annotate((i.get_height()/len(data)*100).round(2),\n",
        "             (i.get_x() + i.get_width()/2,i.get_height()),\n",
        "             ha='center',va='baseline',fontsize=12,color='black',\n",
        "             xytext=(0,1),textcoords='offset points')\n",
        "# A geracao x é que maior porcentagem de veiculos com danos"
      ],
      "metadata": {
        "id": "kLWalCMwIbJe"
      },
      "execution_count": null,
      "outputs": []
    },
    {
      "cell_type": "code",
      "execution_count": null,
      "metadata": {
        "id": "Y_0xMIw3oxe2"
      },
      "outputs": [],
      "source": [
        "plt.figure(figsize = (10,10))\n",
        "plt.title(\"Correlação\")\n",
        "corr_num= var_num.corr()\n",
        "sns.heatmap(corr_num,annot=True);\n"
      ]
    },
    {
      "cell_type": "markdown",
      "source": [
        "# **Overview dos Dados**"
      ],
      "metadata": {
        "id": "qOlEHqRjxV4Y"
      }
    },
    {
      "cell_type": "markdown",
      "source": [
        "* Apenas 12% dos clientes estão interessados ​​em comprar um seguro de veículo\n",
        "* A média de dias  em que um clientes  se filiou na empresa é de 154 dias\n",
        "* Não ha tantos dados sobre não habilitados porque a maioria deles é acima dos 60 anos e a maioria dos clientes da base esta na faixa de 40 anos\n",
        "* Homens possuem mais interesse em contratar seguro de automovel do que mulheres\n",
        "* canal de vendas 152,26,124 são os que possuem uma taxa de sucesso mais efetiva em realizar vendas\n",
        "* os demais canais ficam abaixo de 5% de resposta efetiva\n",
        "* código de região 28 tem o maior número de clientes enquando o codigo 52 possui o menor\n",
        "* A regiao 38 possui mais clientes interessados se comparada com a regiao 28\n",
        "* idade média do cliente interessado no seguro do veículo é de 43 anos\n",
        "* Tempo de filiacao não interfere na resposta do cliente talvez porque nenhum cliente está na seguradora há 1 ano inteiro.\n",
        "* dos clientes que não possuem seguro apenas 12% se mostraram interessados em adquirir um seguro de automovel\n",
        "* dos clientes interessados a maioria deles não tem seguro do veículo \n",
        "* 98% cliente dos que tiveram danos no veículo no passado tem interesse em contratar seguro\n",
        "* 87% dos clientes que nunca tiveram nenhum veículo danificado e possuem seguro  podemos dizer que elas são mais propensas a ter cuidado com seu veículo\n",
        "* Quanto mais novo o veículo, maior a probabilidade de estar segurado\n",
        "* 4% dos clientes têm veículo com mais de 2 anos,e a taxa anual media é maior para esse tipo de veiculo e estes são mais propensos a ter sofrido algum dano. Os clientes que possuem esse tipo de veiculo tem maior probabilidade de se interessar pelo seguro.\n",
        "* A geracao x é que maior porcentagem de veiculos com danos ,e 72% não possuem previamente seguro de automovel e é mais interessadas em seguros.\n",
        "* A maioria da geracao millenials  tem veiculos com menos de 1 ano de idade e 62,7% já possuem previamente seguro de automovel e a maioria dos cliente pertencem a essa geração.\n",
        "\n",
        "\n"
      ],
      "metadata": {
        "id": "pCO1BANoVGz9"
      }
    },
    {
      "cell_type": "code",
      "source": [
        ""
      ],
      "metadata": {
        "id": "qKob6oYmuJyT"
      },
      "execution_count": null,
      "outputs": []
    }
  ],
  "metadata": {
    "colab": {
      "collapsed_sections": [],
      "name": "venda_cruzada",
      "provenance": []
    },
    "kernelspec": {
      "display_name": "Python 3",
      "name": "python3"
    },
    "language_info": {
      "name": "python"
    }
  },
  "nbformat": 4,
  "nbformat_minor": 0
}